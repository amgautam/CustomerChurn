{
 "cells": [
  {
   "cell_type": "markdown",
   "metadata": {},
   "source": [
    "# Code for Models Training is commented as I have saved the models as Pickle file. So ultimately I am using the saved model for evaluation on Test Set. To test the Model Training code. Please uncomment corresponding Markdowns."
   ]
  },
  {
   "cell_type": "code",
   "execution_count": null,
   "metadata": {},
   "outputs": [],
   "source": []
  },
  {
   "cell_type": "markdown",
   "metadata": {},
   "source": [
    "# Librairies to be Installed\n",
    "\n",
    "### !pip3 install seaborn\n",
    "### !pip3 install catboost\n",
    "### !pip3 install ipywidgets\n",
    "### !pip3 install statsmodels\n",
    "### !jupyter nbextension enable --py widgetsnbextension ### Enabling notebook extension jupyter-js-widgets/extension..."
   ]
  },
  {
   "cell_type": "code",
   "execution_count": null,
   "metadata": {},
   "outputs": [],
   "source": []
  },
  {
   "cell_type": "code",
   "execution_count": null,
   "metadata": {},
   "outputs": [],
   "source": []
  },
  {
   "cell_type": "raw",
   "metadata": {},
   "source": [
    "# Remove the scroll functionality for rows as it makes difficult to look at plots and data"
   ]
  },
  {
   "cell_type": "code",
   "execution_count": 1,
   "metadata": {},
   "outputs": [
    {
     "data": {
      "application/javascript": [
       "IPython.OutputArea.prototype._should_scroll = function(lines) {\n",
       "    return false;\n",
       "}\n"
      ],
      "text/plain": [
       "<IPython.core.display.Javascript object>"
      ]
     },
     "metadata": {},
     "output_type": "display_data"
    }
   ],
   "source": [
    "%%javascript\n",
    "IPython.OutputArea.prototype._should_scroll = function(lines) {\n",
    "    return false;\n",
    "}"
   ]
  },
  {
   "cell_type": "code",
   "execution_count": 2,
   "metadata": {},
   "outputs": [],
   "source": [
    "import pandas as pd\n",
    "import seaborn as sns\n",
    "import time\n",
    "import matplotlib.pyplot as plt\n",
    "import numpy as np\n",
    "from collections import Counter\n",
    "import pickle\n",
    "import catboost.utils as cbu\n",
    "from sklearn.model_selection import train_test_split\n",
    "from sklearn.preprocessing import OneHotEncoder\n",
    "from catboost import Pool, CatBoostClassifier, cv\n",
    "from catboost import CatBoostClassifier, Pool\n",
    "from sklearn.utils import shuffle\n",
    "from sklearn.model_selection import train_test_split\n",
    "from sklearn.metrics import recall_score, precision_score, confusion_matrix, classification_report, balanced_accuracy_score"
   ]
  },
  {
   "cell_type": "code",
   "execution_count": 3,
   "metadata": {},
   "outputs": [],
   "source": [
    "##data has 7 million rows so to avoid local memory issue we can load it by chunks\n",
    "df_churn = pd.read_csv('train_extended.csv')"
   ]
  },
  {
   "cell_type": "raw",
   "metadata": {},
   "source": []
  },
  {
   "cell_type": "markdown",
   "metadata": {},
   "source": [
    "## Create the Target or Label from LABEL_max_played_dsi"
   ]
  },
  {
   "cell_type": "raw",
   "metadata": {},
   "source": []
  },
  {
   "cell_type": "code",
   "execution_count": null,
   "metadata": {},
   "outputs": [],
   "source": [
    "## look at the distinct values for last played days\n",
    "set(df_churn['LABEL_max_played_dsi'].unique())"
   ]
  },
  {
   "cell_type": "raw",
   "metadata": {},
   "source": [
    "df_churn['Churn'] = df_churn['LABEL_max_played_dsi']<5"
   ]
  },
  {
   "cell_type": "code",
   "execution_count": null,
   "metadata": {},
   "outputs": [],
   "source": [
    "## Label the training data based on the value for LABEL_max_played_dsi i.e. \n",
    "##  5 ≥ LABEL_max_played_dsi ≤ 18, NOT CHURNED and assign a BOOLEAN value of 0\n",
    "##  LABEL_max_played_dsi < 5 OR  LABEL_max_played_dsi > 18 , CHURNED and assign a BOOLEAN value of 1\n",
    "\n",
    "start = time.time()\n",
    "\n",
    "for n,i in enumerate(df_churn['LABEL_max_played_dsi']):\n",
    "    if i in list(range(5,19)):\n",
    "        #df_churn.set_value(n, \"Churn\", 0) ## not using set_value as it is SET to be Depracated\n",
    "        df_churn.at[n, \"Churn\"] = 0\n",
    "    else:\n",
    "        #df_churn.set_value(n, \"Churn\", 1)\n",
    "        df_churn.at[n, \"Churn\"] = 1\n",
    "        \n",
    "##converting the target variable to integers\n",
    "df_churn['Churn']= df_churn['Churn'].astype('int64')\n",
    "\n",
    "print('time taken to update',' ',time.time()-start)"
   ]
  },
  {
   "cell_type": "raw",
   "metadata": {},
   "source": [
    "df_churn.at took 112 seconds\n",
    "df_churn.set_value took 94 seconds"
   ]
  },
  {
   "cell_type": "code",
   "execution_count": null,
   "metadata": {},
   "outputs": [],
   "source": [
    "##check unique values in out target feature\n",
    "df_churn['Churn'].unique()"
   ]
  },
  {
   "cell_type": "code",
   "execution_count": null,
   "metadata": {},
   "outputs": [],
   "source": [
    "##check wether target variable is good\n",
    "len([i for i in df_churn['LABEL_max_played_dsi'] if i not in list(range(5,19))]) == len(df_churn[df_churn['Churn'] ==1])"
   ]
  },
  {
   "cell_type": "code",
   "execution_count": null,
   "metadata": {},
   "outputs": [],
   "source": [
    "sns.set(style=\"darkgrid\")\n",
    "sns.countplot(x='Churn',  data=df_churn)"
   ]
  },
  {
   "cell_type": "code",
   "execution_count": null,
   "metadata": {},
   "outputs": [],
   "source": [
    "## Looking at the Frequency Distribution for the Target Variable i.e Churn\n",
    "## after examing the plot seems like the distribution is a bit skewed towards the FALSE class\n",
    "plt.figure(figsize=(12,8))\n",
    "plt.title('Distribution of Truck Configurations')\n",
    "plt.xlabel('Number of Axles')\n",
    "plt.ylabel('Frequency [%]')\n",
    "\n",
    "ax = ((df_churn.Churn.value_counts()/len(df_churn))*100).sort_index().plot(kind=\"bar\", rot=0)\n",
    "ax.set_yticks(np.arange(0, 110, 10))\n",
    "ax.grid(None)\n",
    "\n",
    "ax2 = ax.twinx()\n",
    "ax2.set_yticks(np.arange(0, 110, 10)*len(df_churn)/100)\n",
    "ax2.grid(None)\n",
    "\n",
    "for p in ax.patches:\n",
    "    ax.annotate('{:.2f}%'.format(p.get_height()), (p.get_x()+0.15, p.get_height()+1))"
   ]
  },
  {
   "cell_type": "code",
   "execution_count": null,
   "metadata": {},
   "outputs": [],
   "source": [
    "##verifying if the plot is correct\n",
    "(len(df_churn[df_churn['Churn']== 1])/len(df_churn))*100 ###28.554036361721796"
   ]
  },
  {
   "cell_type": "raw",
   "metadata": {},
   "source": []
  },
  {
   "cell_type": "raw",
   "metadata": {},
   "source": []
  },
  {
   "cell_type": "markdown",
   "metadata": {},
   "source": [
    "## Data Engineering - Clean and Transform the data"
   ]
  },
  {
   "cell_type": "raw",
   "metadata": {},
   "source": []
  },
  {
   "cell_type": "raw",
   "metadata": {},
   "source": []
  },
  {
   "cell_type": "code",
   "execution_count": null,
   "metadata": {},
   "outputs": [],
   "source": [
    "pd.set_option(\"display.max_columns\", 100)"
   ]
  },
  {
   "cell_type": "code",
   "execution_count": null,
   "metadata": {},
   "outputs": [],
   "source": []
  },
  {
   "cell_type": "code",
   "execution_count": null,
   "metadata": {},
   "outputs": [],
   "source": [
    "##drop the data kind column as it is not required\n",
    "df_churn = df_churn.drop(['data_kind'],axis = 1)"
   ]
  },
  {
   "cell_type": "code",
   "execution_count": null,
   "metadata": {},
   "outputs": [],
   "source": [
    "##drop the column with max label size to remove unnecessary infomration\n",
    "df_churn = df_churn.drop(['LABEL_max_played_dsi'],axis = 1)"
   ]
  },
  {
   "cell_type": "code",
   "execution_count": null,
   "metadata": {},
   "outputs": [],
   "source": [
    "## creating profit column for currencies to reduce dimensionality\n",
    "df_churn['soft_profit'] = df_churn['soft_positive'].sub(df_churn['soft_negative'], axis = 0).astype('int64') \n",
    "df_churn['hard_profit'] = df_churn['hard_positive'].sub(df_churn['hard_negative'], axis = 0).astype('int64')"
   ]
  },
  {
   "cell_type": "code",
   "execution_count": null,
   "metadata": {},
   "outputs": [],
   "source": [
    "##drop the column for soft and hard currency as we have calculated profits\n",
    "df_churn = df_churn.drop(['soft_positive','soft_negative','hard_positive','hard_negative'],axis = 1)"
   ]
  },
  {
   "cell_type": "code",
   "execution_count": null,
   "metadata": {},
   "outputs": [],
   "source": [
    "## Remove Duplicates if MANY\n",
    "duplicate = df_churn[df_churn.duplicated()] \n",
    "len(duplicate) ###31"
   ]
  },
  {
   "cell_type": "code",
   "execution_count": null,
   "metadata": {},
   "outputs": [],
   "source": [
    "## Deal with Nan Values or NULL values\n",
    "df_churn.columns[df_churn.isna().any()].tolist() ##'country', 'device_model'"
   ]
  },
  {
   "cell_type": "code",
   "execution_count": null,
   "metadata": {},
   "outputs": [],
   "source": [
    "df_churn['country'].isnull().sum(axis = 0)"
   ]
  },
  {
   "cell_type": "code",
   "execution_count": null,
   "metadata": {},
   "outputs": [],
   "source": [
    "df_churn['device_model'].isnull().sum(axis = 0)"
   ]
  },
  {
   "cell_type": "code",
   "execution_count": null,
   "metadata": {},
   "outputs": [],
   "source": [
    "## as the NULL values for country is very less, replacing NULL values with most frequent country value\n",
    "df_churn['country'] = df_churn['country'].fillna(value=Counter(df_churn['country']).most_common(1)[0][0])\n",
    "df_churn['device_model'] = df_churn['device_model'].fillna(value=Counter(df_churn['device_model']).most_common(1)[0][0])"
   ]
  },
  {
   "cell_type": "code",
   "execution_count": null,
   "metadata": {},
   "outputs": [],
   "source": [
    "## Check if any NULL values still exist\n",
    "df_churn.columns[df_churn.isna().any()].tolist()"
   ]
  },
  {
   "cell_type": "code",
   "execution_count": null,
   "metadata": {},
   "outputs": [],
   "source": [
    "## converting BOOLEAN to INTEGER for Tutorial columns\n",
    "for i in ['TutorialStart','TutorialStartPart1','TutorialStartPart2','TutorialStartPart3','TutorialStartPart4',\n",
    "                                     'TutorialStartPart5','TutorialStartPart6','TutorialFinish']:\n",
    "    df_churn[i] = df_churn[i].astype('int64')\n",
    "    "
   ]
  },
  {
   "cell_type": "code",
   "execution_count": null,
   "metadata": {},
   "outputs": [],
   "source": [
    "## Move the target variable to the last\n",
    "target_col = df_churn.pop('Churn')\n",
    "df_churn.insert(len(df_churn.columns), 'Churn', target_col)"
   ]
  },
  {
   "cell_type": "code",
   "execution_count": null,
   "metadata": {},
   "outputs": [],
   "source": [
    "## seems like Android has more variance here as it accounts to alomost 89% of the platforms\n",
    "df_churn['platform'].value_counts()"
   ]
  },
  {
   "cell_type": "code",
   "execution_count": null,
   "metadata": {},
   "outputs": [],
   "source": [
    "## extract Category data\n",
    "obj_df = df_churn.select_dtypes(include=['object']).copy()\n",
    "obj_df.head()"
   ]
  },
  {
   "cell_type": "code",
   "execution_count": null,
   "metadata": {},
   "outputs": [],
   "source": [
    "## One Hot Encoding platform as both platforms should have same weight\n",
    "## We could also encode Android as 89 and ios as 11 based on frequency but that might lead to incorrect wieght information\n",
    "oe_style = OneHotEncoder()\n",
    "oe_results = oe_style.fit_transform(obj_df[[\"platform\"]])\n",
    "#pd.DataFrame(oe_results.toarray(), columns=oe_style.categories_).head()"
   ]
  },
  {
   "cell_type": "code",
   "execution_count": null,
   "metadata": {},
   "outputs": [],
   "source": [
    "### Add Encoded columns to Main dataframe\n",
    "df_plat = pd.concat([pd.DataFrame(oe_results.toarray(), columns=['platform_Android','platform_iOS']).astype('int64'),df_churn],  axis=1)"
   ]
  },
  {
   "cell_type": "code",
   "execution_count": null,
   "metadata": {},
   "outputs": [],
   "source": [
    "## Drop category column as it had already been OneHOtEncoded\n",
    "df_plat = df_plat.drop('platform',axis = 1)"
   ]
  },
  {
   "cell_type": "code",
   "execution_count": null,
   "metadata": {},
   "outputs": [],
   "source": [
    "df_plat.head()"
   ]
  },
  {
   "cell_type": "code",
   "execution_count": null,
   "metadata": {},
   "outputs": [],
   "source": []
  },
  {
   "cell_type": "code",
   "execution_count": null,
   "metadata": {},
   "outputs": [],
   "source": []
  },
  {
   "cell_type": "markdown",
   "metadata": {},
   "source": [
    "# Training first baseline model using Catboost, since we still have 9 Categorical variables"
   ]
  },
  {
   "cell_type": "raw",
   "metadata": {},
   "source": []
  },
  {
   "cell_type": "code",
   "execution_count": null,
   "metadata": {},
   "outputs": [],
   "source": [
    "## Create Features and Target\n",
    "target = df_plat.loc[:,df_plat.columns == 'Churn']\n",
    "features = df_plat.loc[:, df_plat.columns != 'Churn'] "
   ]
  },
  {
   "cell_type": "code",
   "execution_count": null,
   "metadata": {},
   "outputs": [],
   "source": [
    "## Shuffle the data to add randomisation\n",
    "features,target = shuffle(features, target, random_state=20)"
   ]
  },
  {
   "cell_type": "code",
   "execution_count": null,
   "metadata": {},
   "outputs": [],
   "source": [
    "## list the indices of all the categorical columns\n",
    "cat_columns = list(set(df_plat.columns) - set(df_plat._get_numeric_data().columns))\n",
    "categorical_features_indices = []\n",
    "for n,i in enumerate(list(features.columns)):\n",
    "    if i in cat_columns:\n",
    "        categorical_features_indices.append(n)\n",
    "categorical_features_indices"
   ]
  },
  {
   "cell_type": "code",
   "execution_count": null,
   "metadata": {},
   "outputs": [],
   "source": [
    "## Split data into Train and Validation, with stratify on target to maintain ratio of Target Classes\n",
    "X_train, X_val, y_train, y_val = train_test_split(features,\n",
    "                                                    target,\n",
    "                                                    stratify = target,\n",
    "                                                    test_size=0.30, random_state = 20)"
   ]
  },
  {
   "cell_type": "code",
   "execution_count": null,
   "metadata": {},
   "outputs": [],
   "source": [
    "y_val.value_counts()"
   ]
  },
  {
   "cell_type": "code",
   "execution_count": null,
   "metadata": {},
   "outputs": [],
   "source": [
    "1188718/475082"
   ]
  },
  {
   "cell_type": "code",
   "execution_count": null,
   "metadata": {},
   "outputs": [],
   "source": [
    "y_train.value_counts()"
   ]
  },
  {
   "cell_type": "code",
   "execution_count": null,
   "metadata": {},
   "outputs": [],
   "source": [
    "2773673/1108524"
   ]
  },
  {
   "cell_type": "code",
   "execution_count": null,
   "metadata": {},
   "outputs": [],
   "source": [
    "## calculating the scale_pos_weight; The weight for class 1 in binary classification. \n",
    "## The value is used as a multiplier for the weights of objects from class 1.\n",
    "counts_elements = np.unique(y_train, return_counts=True)\n",
    "scale_weight = counts_elements[1][0]/counts_elements[1][1]\n",
    "scale_weight"
   ]
  },
  {
   "cell_type": "code",
   "execution_count": null,
   "metadata": {},
   "outputs": [],
   "source": [
    "### Initialize Catboost Classifier with correct parameters\n",
    "\n",
    "train_dataset = Pool(data=X_train,\n",
    "                        label=y_train,\n",
    "                        cat_features=categorical_features_indices)\n",
    "\n",
    "eval_dataset = Pool(data=X_val,\n",
    "                    label=y_val,\n",
    "                    cat_features=categorical_features_indices)\n",
    "\n",
    "model = CatBoostClassifier(iterations= 6000,\n",
    "                           eval_metric='AUC',\n",
    "                           #custom_metric = ['AUC','F1', 'Precision', 'Recall'],\n",
    "                           ## Logloss for imbalanced dataset\n",
    "                           ## CrossEntropy for probabilities in target\n",
    "                           depth = 7,\n",
    "                           learning_rate = 0.2,\n",
    "                           loss_function = 'Logloss',\n",
    "                           boosting_type = 'Plain',\n",
    "                           #class_weights = class_weights,\n",
    "                           scale_pos_weight = scale_weight,\n",
    "                           #model_size_reg = 0, -- this is not implemented for GPU usage in Catboost\n",
    "                           od_type = 'Iter',\n",
    "                           early_stopping_rounds = 300,## rounds to wait if the accuracy does not increases\n",
    "                           random_seed = 1234\n",
    "                           \n",
    "                          )\n",
    "\n"
   ]
  },
  {
   "cell_type": "code",
   "execution_count": null,
   "metadata": {},
   "outputs": [],
   "source": [
    "## Train the Model\n",
    "model.fit(train_dataset,\n",
    "          use_best_model=True,\n",
    "          eval_set=eval_dataset,\n",
    "          verbose=False, ## to stop printing info of every Iteration\n",
    "          plot = True\n",
    "         )"
   ]
  },
  {
   "cell_type": "code",
   "execution_count": null,
   "metadata": {},
   "outputs": [],
   "source": [
    "## Best Iteration\n",
    "model.get_best_iteration()"
   ]
  },
  {
   "cell_type": "code",
   "execution_count": null,
   "metadata": {},
   "outputs": [],
   "source": [
    "## Best score for AUC and Logloss at best iteration\n",
    "model.get_best_score()"
   ]
  },
  {
   "cell_type": "code",
   "execution_count": null,
   "metadata": {},
   "outputs": [],
   "source": [
    "## saving model as pickle file for later use, so that we don't have to re-train the model\n",
    "with open('catboost_baseline.pickle', 'wb') as handle:\n",
    "    b = pickle.dump(model,handle)"
   ]
  },
  {
   "cell_type": "code",
   "execution_count": null,
   "metadata": {},
   "outputs": [],
   "source": [
    "with open('catboost_baseline.pickle', 'rb') as handle:\n",
    "    model = pickle.load(handle)"
   ]
  },
  {
   "cell_type": "code",
   "execution_count": null,
   "metadata": {},
   "outputs": [],
   "source": []
  },
  {
   "cell_type": "code",
   "execution_count": null,
   "metadata": {},
   "outputs": [],
   "source": [
    "## defining an ROC curve\n",
    "def calculate_score_on_dataset_and_show_graph(X, y, model):\n",
    "    import sklearn.metrics\n",
    "    import matplotlib.pylab as pl\n",
    "    pl.style.use('ggplot')\n",
    "    pl.figure(figsize = (10,7))\n",
    "    dataset = Pool(data=X,\n",
    "                    label=y,\n",
    "                    cat_features=np.where(X.dtypes != np.int64)[0])\n",
    "    #fpr, tpr, __ = cbu.get_roc_curve(model, dataset, plot = True )\n",
    "    fpr, tpr, thresholds = cbu.get_roc_curve(model, dataset, plot=True)\n",
    "    roc_curve_values= cbu.get_roc_curve(model, dataset, plot=False)\n",
    "    auc = sklearn.metrics.auc(fpr, tpr)\n",
    "    print('AUC',' ',auc)\n",
    "    return auc,roc_curve_values"
   ]
  },
  {
   "cell_type": "code",
   "execution_count": null,
   "metadata": {},
   "outputs": [],
   "source": [
    "## Plotting an ROC Curve for validation data\n",
    "auc,roc_curve_values = calculate_score_on_dataset_and_show_graph(X_val, y_val, model)"
   ]
  },
  {
   "cell_type": "code",
   "execution_count": null,
   "metadata": {},
   "outputs": [],
   "source": [
    "## Using type as FeatureImportance: \n",
    "## Equal to PredictionValuesChange for non-ranking metrics and LossFunctionChange for ranking metrics.\n",
    "feature_importances = model.get_feature_importance(data=train_dataset,\n",
    "                       type='FeatureImportance',\n",
    "                       prettified=True,\n",
    "                       thread_count=-1,\n",
    "                       verbose=False)"
   ]
  },
  {
   "cell_type": "code",
   "execution_count": null,
   "metadata": {},
   "outputs": [],
   "source": [
    "## from the below graph we can see almost 30 columns account to 70 percent of the total Importance\n",
    "plt.rcParams[\"figure.figsize\"] = (20,10)\n",
    "ax = feature_importances.plot('Feature Id', 'Importances', kind='bar', color='c')\n",
    "ax.set_title(\"Catboost Feature Importance Ranking\", fontsize = 14)\n",
    "ax.set_xlabel('')\n",
    "\n",
    "rects = ax.patches\n",
    "\n",
    "# get feature score as labels, converting Importancs to integer just to visualize properly round to 2 decimal\n",
    "labels = feature_importances['Importances'].astype('int')\n",
    "\n",
    "for rect, label in zip(rects, labels):\n",
    "    height = rect.get_height()\n",
    "    ax.text(rect.get_x() + rect.get_width()/2, height + 0.35, label, ha='center', va='bottom')\n",
    "\n",
    "plt.show()"
   ]
  },
  {
   "cell_type": "code",
   "execution_count": null,
   "metadata": {},
   "outputs": [],
   "source": [
    "## Extracting Features with Importance less than 1 percent\n",
    "low_imp_features = []\n",
    "for index, row in feature_importances.iterrows():\n",
    "    if row['Importances'] < 1:\n",
    "        low_imp_features.append(row['Feature Id'])\n",
    "\n",
    "print('Number of features with less than 1 percent Importance',' ',len(low_imp_features))\n",
    "low_imp_features"
   ]
  },
  {
   "cell_type": "code",
   "execution_count": null,
   "metadata": {},
   "outputs": [],
   "source": []
  },
  {
   "cell_type": "code",
   "execution_count": null,
   "metadata": {},
   "outputs": [],
   "source": []
  },
  {
   "cell_type": "code",
   "execution_count": null,
   "metadata": {},
   "outputs": [],
   "source": [
    "# Re-train Baseline Model without Low Importance Features"
   ]
  },
  {
   "cell_type": "code",
   "execution_count": null,
   "metadata": {},
   "outputs": [],
   "source": [
    "## Remove low Importance features from dataset derived from Model 1\n",
    "df_imp_features = df_plat[list(set(df_plat.columns) - set(low_imp_features))].copy()"
   ]
  },
  {
   "cell_type": "code",
   "execution_count": null,
   "metadata": {},
   "outputs": [],
   "source": [
    "## Move the target variable to the last\n",
    "label = df_imp_features.pop('Churn')\n",
    "df_imp_features.insert(len(df_imp_features.columns), 'Churn', label)"
   ]
  },
  {
   "cell_type": "code",
   "execution_count": null,
   "metadata": {},
   "outputs": [],
   "source": [
    "df_imp_features.info()"
   ]
  },
  {
   "cell_type": "code",
   "execution_count": null,
   "metadata": {},
   "outputs": [],
   "source": [
    "## create target and features\n",
    "target = df_imp_features.loc[:,df_imp_features.columns == 'Churn']\n",
    "features = df_imp_features.loc[:, df_imp_features.columns != 'Churn'] "
   ]
  },
  {
   "cell_type": "code",
   "execution_count": null,
   "metadata": {},
   "outputs": [],
   "source": [
    "# shuffle data to randomize\n",
    "features,target = shuffle(features, target, random_state=20)"
   ]
  },
  {
   "cell_type": "code",
   "execution_count": null,
   "metadata": {},
   "outputs": [],
   "source": [
    "## list the indices of all the categorical columns\n",
    "cat_columns = list(set(df_imp_features.columns) - set(df_imp_features._get_numeric_data().columns))\n",
    "categorical_features_indices = []\n",
    "for n,i in enumerate(list(features.columns)):\n",
    "    if i in cat_columns:\n",
    "        categorical_features_indices.append(n)\n",
    "categorical_features_indices"
   ]
  },
  {
   "cell_type": "code",
   "execution_count": null,
   "metadata": {},
   "outputs": [],
   "source": [
    "len(target)"
   ]
  },
  {
   "cell_type": "code",
   "execution_count": null,
   "metadata": {},
   "outputs": [],
   "source": [
    "len(features)"
   ]
  },
  {
   "cell_type": "code",
   "execution_count": null,
   "metadata": {},
   "outputs": [],
   "source": [
    "## Stratified split for Tran and Val\n",
    "X_train, X_val, y_train, y_val = train_test_split(features,\n",
    "                                                    target,\n",
    "                                                    stratify = target,\n",
    "                                                    test_size=0.30, random_state = 20)"
   ]
  },
  {
   "cell_type": "code",
   "execution_count": null,
   "metadata": {},
   "outputs": [],
   "source": [
    "y_val.value_counts()"
   ]
  },
  {
   "cell_type": "code",
   "execution_count": null,
   "metadata": {},
   "outputs": [],
   "source": [
    "1188718/475082"
   ]
  },
  {
   "cell_type": "code",
   "execution_count": null,
   "metadata": {},
   "outputs": [],
   "source": [
    "y_train.value_counts()"
   ]
  },
  {
   "cell_type": "code",
   "execution_count": null,
   "metadata": {},
   "outputs": [],
   "source": [
    "2773673/1108524"
   ]
  },
  {
   "cell_type": "code",
   "execution_count": null,
   "metadata": {},
   "outputs": [],
   "source": [
    "## calculating the scale_pos_weight; The weight for class 1 in binary classification. \n",
    "## The value is used as a multiplier for the weights of objects from class 1.\n",
    "counts_elements = np.unique(y_train, return_counts=True)\n",
    "scale_weight = counts_elements[1][0]/counts_elements[1][1]\n",
    "scale_weight"
   ]
  },
  {
   "cell_type": "code",
   "execution_count": null,
   "metadata": {},
   "outputs": [],
   "source": []
  },
  {
   "cell_type": "code",
   "execution_count": null,
   "metadata": {},
   "outputs": [],
   "source": [
    "## Instantiate the Catboost Classifier\n",
    "train_dataset = Pool(data=X_train,\n",
    "                        label=y_train,\n",
    "                        cat_features=categorical_features_indices)\n",
    "\n",
    "eval_dataset = Pool(data=X_val,\n",
    "                    label=y_val,\n",
    "                    cat_features=categorical_features_indices)\n",
    "\n",
    "model = CatBoostClassifier(iterations= 3000,\n",
    "                           eval_metric='AUC',\n",
    "                           #custom_metric = ['AUC','F1', 'Precision', 'Recall'],\n",
    "                           ## Logloss for imbalanced dataset\n",
    "                           ## CrossEntropy for probabilities in target\n",
    "                           depth = 7,\n",
    "                           learning_rate = 0.2,\n",
    "                           loss_function = 'Logloss',\n",
    "                           boosting_type = 'Plain',\n",
    "                           #class_weights = class_weights,\n",
    "                           scale_pos_weight = scale_weight,\n",
    "                           #model_size_reg = 0, -- this is not implemented for GPU usage in Catboost\n",
    "                           od_type = 'Iter',\n",
    "                           early_stopping_rounds = 300,## rounds to wait if the accuracy does not increases\n",
    "                           random_seed = 1234\n",
    "                           \n",
    "                          )\n",
    "\n"
   ]
  },
  {
   "cell_type": "code",
   "execution_count": null,
   "metadata": {},
   "outputs": [],
   "source": [
    "## train the model\n",
    "model.fit(train_dataset,\n",
    "          use_best_model=True,\n",
    "          eval_set=eval_dataset,\n",
    "          verbose=False, ## to stop printing info of every Iteration\n",
    "          plot = True\n",
    "         )"
   ]
  },
  {
   "cell_type": "code",
   "execution_count": null,
   "metadata": {},
   "outputs": [],
   "source": [
    "model.get_best_iteration()"
   ]
  },
  {
   "cell_type": "code",
   "execution_count": null,
   "metadata": {},
   "outputs": [],
   "source": [
    "model.get_best_score()"
   ]
  },
  {
   "cell_type": "code",
   "execution_count": null,
   "metadata": {},
   "outputs": [],
   "source": [
    "## save the model for later use\n",
    "with open('model_base_imp_feat.pickle', 'wb') as handle:\n",
    "    b = pickle.dump(model,handle)"
   ]
  },
  {
   "cell_type": "code",
   "execution_count": null,
   "metadata": {},
   "outputs": [],
   "source": [
    "## defining an ROC curve\n",
    "def calculate_score_on_dataset_and_show_graph(X, y, model):\n",
    "    import sklearn.metrics\n",
    "    import matplotlib.pylab as pl\n",
    "    pl.style.use('ggplot')\n",
    "    pl.figure(figsize = (10,7))\n",
    "    dataset = Pool(data=X,\n",
    "                    label=y,\n",
    "                    cat_features=np.where(X.dtypes != np.int64)[0])\n",
    "    #fpr, tpr, __ = cbu.get_roc_curve(model, dataset, plot = True )\n",
    "    fpr, tpr, thresholds = cbu.get_roc_curve(model, dataset, plot=True)\n",
    "    roc_curve_values= cbu.get_roc_curve(model, dataset, plot=False)\n",
    "    auc = sklearn.metrics.auc(fpr, tpr)\n",
    "    print('AUC',' ',auc)\n",
    "    return auc,roc_curve_values"
   ]
  },
  {
   "cell_type": "code",
   "execution_count": null,
   "metadata": {},
   "outputs": [],
   "source": [
    "## Plotting an ROC Curve for Validation Set\n",
    "auc,roc_curve_values = calculate_score_on_dataset_and_show_graph(X_val, y_val, model)"
   ]
  },
  {
   "cell_type": "code",
   "execution_count": null,
   "metadata": {},
   "outputs": [],
   "source": [
    "## Using type as FeatureImportance: \n",
    "## Equal to PredictionValuesChange for non-ranking metrics and LossFunctionChange for ranking metrics.\n",
    "feature_importances = model.get_feature_importance(data=train_dataset,\n",
    "                       type='FeatureImportance',\n",
    "                       prettified=True,\n",
    "                       thread_count=-1,\n",
    "                       verbose=False)"
   ]
  },
  {
   "cell_type": "code",
   "execution_count": null,
   "metadata": {},
   "outputs": [],
   "source": [
    "## from the below graph we can see almost 30 columns account to 70 percent of the total Importance\n",
    "plt.rcParams[\"figure.figsize\"] = (20,10)\n",
    "ax = feature_importances.plot('Feature Id', 'Importances', kind='bar', color='c')\n",
    "ax.set_title(\"Catboost Feature Importance Ranking\", fontsize = 14)\n",
    "ax.set_xlabel('')\n",
    "\n",
    "rects = ax.patches\n",
    "\n",
    "# get feature score as labels, converting Importancs to integer just to visualize properly round to 2 decimal\n",
    "labels = feature_importances['Importances'].astype('int')\n",
    "\n",
    "for rect, label in zip(rects, labels):\n",
    "    height = rect.get_height()\n",
    "    ax.text(rect.get_x() + rect.get_width()/2, height + 0.35, label, ha='center', va='bottom')\n",
    "\n",
    "plt.show()"
   ]
  },
  {
   "cell_type": "code",
   "execution_count": null,
   "metadata": {},
   "outputs": [],
   "source": [
    "## Extracting low importance features with Importance less than 1 percent\n",
    "low_imp_features = []\n",
    "for index, row in feature_importances.iterrows():\n",
    "    if row['Importances'] < 1:\n",
    "        low_imp_features.append(row['Feature Id'])\n",
    "\n",
    "print('Number of features with less than 1 percent Importance',' ',len(low_imp_features))\n",
    "low_imp_features"
   ]
  },
  {
   "cell_type": "raw",
   "metadata": {},
   "source": []
  },
  {
   "cell_type": "code",
   "execution_count": null,
   "metadata": {},
   "outputs": [],
   "source": []
  },
  {
   "cell_type": "markdown",
   "metadata": {},
   "source": [
    "# Feature Selection: After training the baseline model, I will now do the feature selection and see if I can beat the baseline model"
   ]
  },
  {
   "cell_type": "code",
   "execution_count": null,
   "metadata": {},
   "outputs": [],
   "source": []
  },
  {
   "cell_type": "code",
   "execution_count": null,
   "metadata": {},
   "outputs": [],
   "source": [
    "df_plat.head()"
   ]
  },
  {
   "cell_type": "code",
   "execution_count": null,
   "metadata": {},
   "outputs": [],
   "source": [
    "##Calculate the no of Features which has standard deviation as zero. These are the features which are constant. \n",
    "num_df = df_plat.iloc[:,:-1].select_dtypes(exclude=['object']).copy()\n",
    "constant_features = [i for i in num_df.columns if num_df[i].std() == 0]\n",
    "constant_features"
   ]
  },
  {
   "cell_type": "code",
   "execution_count": null,
   "metadata": {},
   "outputs": [],
   "source": [
    "### Plotting heatmap for pearson co-eff of correlation between features\n",
    "### Note even on passing all the features excluding Label(Churn) it only calculates the correlation for numerical features\n",
    "fig, ax =plt.subplots(figsize=(15, 10))\n",
    "plt.title(\"Multicollinearity HeatMap\")\n",
    "plt.xticks(rotation=90)\n",
    "corr_data = df_plat.iloc[:,:-1].corr(method='pearson')\n",
    "sns.heatmap(corr_data, mask=np.zeros_like(corr_data), cmap=sns.diverging_palette(220, 10, as_cmap=True),\n",
    "            square=True, ax=ax)"
   ]
  },
  {
   "cell_type": "code",
   "execution_count": null,
   "metadata": {},
   "outputs": [],
   "source": []
  },
  {
   "cell_type": "code",
   "execution_count": null,
   "metadata": {},
   "outputs": [],
   "source": [
    "# Creating correlation matrix\n",
    "cor_matrix = df_plat.iloc[:,:-1].corr().abs()"
   ]
  },
  {
   "cell_type": "code",
   "execution_count": null,
   "metadata": {},
   "outputs": [],
   "source": [
    "# Selecting upper triangle of correlation matrix\n",
    "upper_tri = cor_matrix.where(np.triu(np.ones(cor_matrix.shape),\n",
    "                                  k=1).astype(np.bool))\n",
    "\n",
    "# Finding index of feature columns with correlation greater than 0.90\n",
    "to_drop = [column for column in upper_tri.columns if any(upper_tri[column] > 0.90)]\n",
    "print(); print(to_drop)\n",
    "\n",
    "# Droping Hihgly Correlated Features\n",
    "features_sel = df_plat.drop(to_drop, axis=1).copy()"
   ]
  },
  {
   "cell_type": "code",
   "execution_count": null,
   "metadata": {},
   "outputs": [],
   "source": [
    "features_sel.info()"
   ]
  },
  {
   "cell_type": "code",
   "execution_count": null,
   "metadata": {},
   "outputs": [],
   "source": []
  },
  {
   "cell_type": "code",
   "execution_count": null,
   "metadata": {},
   "outputs": [],
   "source": []
  },
  {
   "cell_type": "markdown",
   "metadata": {},
   "source": [
    "# Training Model with Features Selection and will use validate model with cross folds this time"
   ]
  },
  {
   "cell_type": "raw",
   "metadata": {},
   "source": []
  },
  {
   "cell_type": "code",
   "execution_count": null,
   "metadata": {},
   "outputs": [],
   "source": [
    "features_sel.info()"
   ]
  },
  {
   "cell_type": "code",
   "execution_count": null,
   "metadata": {},
   "outputs": [],
   "source": [
    "## create Features and Target\n",
    "target = features_sel.loc[:,features_sel.columns == 'Churn']\n",
    "features = features_sel.loc[:, features_sel.columns != 'Churn'] "
   ]
  },
  {
   "cell_type": "code",
   "execution_count": null,
   "metadata": {},
   "outputs": [],
   "source": [
    "## randomize the selection\n",
    "features,target = shuffle(features, target, random_state=1234)"
   ]
  },
  {
   "cell_type": "code",
   "execution_count": null,
   "metadata": {},
   "outputs": [],
   "source": [
    "## list the indices of all the categorical columns\n",
    "cat_columns = list(set(features_sel.columns) - set(features_sel._get_numeric_data().columns))\n",
    "categorical_features_indices = []\n",
    "for n,i in enumerate(list(features.columns)):\n",
    "    if i in cat_columns:\n",
    "        categorical_features_indices.append(n)\n",
    "categorical_features_indices"
   ]
  },
  {
   "cell_type": "code",
   "execution_count": null,
   "metadata": {},
   "outputs": [],
   "source": [
    "len(target)"
   ]
  },
  {
   "cell_type": "code",
   "execution_count": null,
   "metadata": {},
   "outputs": [],
   "source": [
    "len(features)"
   ]
  },
  {
   "cell_type": "code",
   "execution_count": null,
   "metadata": {},
   "outputs": [],
   "source": [
    "## calculating the scale_pos_weight; The weight for class 1 in binary classification. \n",
    "## The value is used as a multiplier for the weights of objects from class 1.\n",
    "counts_elements = np.unique(target, return_counts=True)\n",
    "scale_weight = counts_elements[1][0]/counts_elements[1][1]\n",
    "scale_weight"
   ]
  },
  {
   "cell_type": "raw",
   "metadata": {},
   "source": []
  },
  {
   "cell_type": "raw",
   "metadata": {},
   "source": [
    "#### TRIED TO RUN SOME CROSS VALIDATION ON CATBOOST, KEPT ME WAITING FOR 4 HOURS :("
   ]
  },
  {
   "cell_type": "raw",
   "metadata": {},
   "source": [
    "#### NOTE THIS CODE TOOK ALMOST 4 HOURS to RUN, PLEASE RUN AT YOUR OWN RISK#####\n",
    "#### MEAN AUC FOR 5 FOLDS was 0.70 #####\n",
    "\n",
    "### validate model with 5 folds inplace of simple train-test split\n",
    "### kernel died on trying with 10 folds\n",
    "\n",
    "cv_dataset = Pool(data=features,\n",
    "                  label=target,\n",
    "                  cat_features=categorical_features_indices)\n",
    "\n",
    "params = {\"iterations\": 2000,\n",
    "          \"depth\": 3,\n",
    "          \"eval_metric\":'AUC',\n",
    "          \"loss_function\": \"Logloss\",## creates stratified sampling by default\n",
    "          \"learning_rate\":0.2,\n",
    "          \"scale_pos_weight\":scale_weight,\n",
    "          \"verbose\": False,\n",
    "          \"early_stopping_rounds\" : 200,\n",
    "          \"boosting_type\" : 'Plain',\n",
    "          \"roc_file\": \"roc-file\"}\n",
    "\n",
    "scores = cv(cv_dataset,\n",
    "            params,\n",
    "            fold_count=5, \n",
    "            plot=\"True\")"
   ]
  },
  {
   "cell_type": "raw",
   "metadata": {},
   "source": []
  },
  {
   "cell_type": "raw",
   "metadata": {},
   "source": []
  },
  {
   "cell_type": "raw",
   "metadata": {},
   "source": [
    "#### AFTER CROSS VAL, I AM BACK TO NORMAL TRAIN TEST SPLIT"
   ]
  },
  {
   "cell_type": "code",
   "execution_count": null,
   "metadata": {},
   "outputs": [],
   "source": [
    "## Stratified SPlit\n",
    "X_train, X_val, y_train, y_val = train_test_split(features,\n",
    "                                                    target,\n",
    "                                                    stratify = target,\n",
    "                                                    test_size=0.30, random_state = 42)"
   ]
  },
  {
   "cell_type": "code",
   "execution_count": null,
   "metadata": {},
   "outputs": [],
   "source": [
    "## Instantiate Classifier\n",
    "train_dataset = Pool(data=X_train,\n",
    "                        label=y_train,\n",
    "                        cat_features=categorical_features_indices)\n",
    "\n",
    "eval_dataset = Pool(data=X_val,\n",
    "                    label=y_val,\n",
    "                    cat_features=categorical_features_indices)\n",
    "\n",
    "model = CatBoostClassifier(iterations= 6000,\n",
    "                           eval_metric='AUC',\n",
    "                           #custom_metric = ['AUC','F1', 'Precision', 'Recall'],\n",
    "                           ## Logloss for imbalanced dataset\n",
    "                           ## CrossEntropy for probabilities in target\n",
    "                           depth = 7,\n",
    "                           learning_rate = 0.08,\n",
    "                           loss_function = 'Logloss',\n",
    "                           boosting_type = 'Plain',\n",
    "                           #class_weights = class_weights,\n",
    "                           scale_pos_weight = scale_weight,\n",
    "                           #model_size_reg = 0, -- this is not implemented for GPU usage in Catboost,\n",
    "                           early_stopping_rounds = 500,## rounds to wait if the accuracy does not increases\n",
    "                           random_seed = 1234\n",
    "                           \n",
    "                          )\n",
    "\n"
   ]
  },
  {
   "cell_type": "code",
   "execution_count": null,
   "metadata": {},
   "outputs": [],
   "source": [
    "## Train the Model\n",
    "model.fit(train_dataset,\n",
    "          use_best_model=True,\n",
    "          eval_set=eval_dataset,\n",
    "          verbose=False, ## to stop printing info of every Iteration\n",
    "          plot = True\n",
    "         )"
   ]
  },
  {
   "cell_type": "code",
   "execution_count": null,
   "metadata": {},
   "outputs": [],
   "source": [
    "model.get_best_iteration()"
   ]
  },
  {
   "cell_type": "code",
   "execution_count": null,
   "metadata": {},
   "outputs": [],
   "source": [
    "model.get_best_score()"
   ]
  },
  {
   "cell_type": "code",
   "execution_count": null,
   "metadata": {},
   "outputs": [],
   "source": [
    "## Save model for later evaluation on test data\n",
    "with open('model_sel_feat.pickle', 'wb') as handle:\n",
    "    b = pickle.dump(model,handle)"
   ]
  },
  {
   "cell_type": "code",
   "execution_count": null,
   "metadata": {},
   "outputs": [],
   "source": [
    "## defining an ROC curve\n",
    "def calculate_score_on_dataset_and_show_graph(X, y, model):\n",
    "    import sklearn.metrics\n",
    "    import matplotlib.pylab as pl\n",
    "    pl.style.use('ggplot')\n",
    "    pl.figure(figsize = (10,7))\n",
    "    dataset = Pool(data=X,\n",
    "                    label=y,\n",
    "                    cat_features=np.where(X.dtypes != np.int64)[0])\n",
    "    #fpr, tpr, __ = cbu.get_roc_curve(model, dataset, plot = True )\n",
    "    fpr, tpr, thresholds = cbu.get_roc_curve(model, dataset, plot=True)\n",
    "    roc_curve_values= cbu.get_roc_curve(model, dataset, plot=False)\n",
    "    auc = sklearn.metrics.auc(fpr, tpr)\n",
    "    print('AUC',' ',auc)\n",
    "    return auc,roc_curve_values"
   ]
  },
  {
   "cell_type": "code",
   "execution_count": null,
   "metadata": {},
   "outputs": [],
   "source": [
    "## Plotting an ROC Curve for Validation Set\n",
    "auc,roc_curve_values = calculate_score_on_dataset_and_show_graph(X_val, y_val, model)"
   ]
  },
  {
   "cell_type": "code",
   "execution_count": null,
   "metadata": {},
   "outputs": [],
   "source": [
    "## Using type as FeatureImportance: \n",
    "## Equal to PredictionValuesChange for non-ranking metrics and LossFunctionChange for ranking metrics.\n",
    "feature_importances = model.get_feature_importance(data=train_dataset,\n",
    "                       type='FeatureImportance',\n",
    "                       prettified=True,\n",
    "                       thread_count=-1,\n",
    "                       verbose=False)"
   ]
  },
  {
   "cell_type": "code",
   "execution_count": null,
   "metadata": {},
   "outputs": [],
   "source": [
    "## from the below graph we can see almost 30 columns account to 70 percent of the total Importance\n",
    "plt.rcParams[\"figure.figsize\"] = (20,10)\n",
    "ax = feature_importances.plot('Feature Id', 'Importances', kind='bar', color='c')\n",
    "ax.set_title(\"Catboost Feature Importance Ranking\", fontsize = 14)\n",
    "ax.set_xlabel('')\n",
    "\n",
    "rects = ax.patches\n",
    "\n",
    "# get feature score as labels, converting Importancs to integer just to visualize properly round to 2 decimal\n",
    "labels = round(feature_importances['Importances'].astype('float64'),1)\n",
    "\n",
    "for rect, label in zip(rects, labels):\n",
    "    height = rect.get_height()\n",
    "    ax.text(rect.get_x() + rect.get_width()/2, height + 0.35, label, ha='center', va='bottom')\n",
    "\n",
    "plt.show()"
   ]
  },
  {
   "cell_type": "code",
   "execution_count": null,
   "metadata": {},
   "outputs": [],
   "source": [
    "## Extracting low importance features with Feature Importance less than 0.5 percent\n",
    "low_imp_features = []\n",
    "for index, row in feature_importances.iterrows():\n",
    "    if row['Importances'] <= 0.5:\n",
    "        low_imp_features.append(row['Feature Id'])\n",
    "\n",
    "print('Number of features with less than or equal to half a percent Importance',' ',len(low_imp_features))\n",
    "low_imp_features"
   ]
  },
  {
   "cell_type": "raw",
   "metadata": {},
   "source": []
  },
  {
   "cell_type": "markdown",
   "metadata": {},
   "source": [
    "# Training Model with Feature Selection and Important features based on previous run"
   ]
  },
  {
   "cell_type": "code",
   "execution_count": null,
   "metadata": {},
   "outputs": [],
   "source": [
    "## removing 17 unimportant features\n",
    "sel_imp_features = features_sel[list(set(features_sel.columns) - set(low_imp_features))].copy()"
   ]
  },
  {
   "cell_type": "code",
   "execution_count": null,
   "metadata": {},
   "outputs": [],
   "source": [
    "sel_imp_features.info()"
   ]
  },
  {
   "cell_type": "code",
   "execution_count": null,
   "metadata": {},
   "outputs": [],
   "source": [
    "## Move the target variable to the last\n",
    "label = sel_imp_features.pop('Churn')\n",
    "sel_imp_features.insert(len(sel_imp_features.columns), 'Churn', label)"
   ]
  },
  {
   "cell_type": "code",
   "execution_count": null,
   "metadata": {},
   "outputs": [],
   "source": [
    "## Create Features and Target\n",
    "target = sel_imp_features.loc[:,sel_imp_features.columns == 'Churn']\n",
    "features = sel_imp_features.loc[:, sel_imp_features.columns != 'Churn'] "
   ]
  },
  {
   "cell_type": "code",
   "execution_count": null,
   "metadata": {},
   "outputs": [],
   "source": [
    "# Randomize the selection\n",
    "features,target = shuffle(features, target, random_state=1234)"
   ]
  },
  {
   "cell_type": "code",
   "execution_count": null,
   "metadata": {},
   "outputs": [],
   "source": [
    "## list the indices of all the categorical columns\n",
    "cat_columns = list(set(sel_imp_features.columns) - set(sel_imp_features._get_numeric_data().columns))\n",
    "categorical_features_indices = []\n",
    "for n,i in enumerate(list(features.columns)):\n",
    "    if i in cat_columns:\n",
    "        categorical_features_indices.append(n)\n",
    "categorical_features_indices"
   ]
  },
  {
   "cell_type": "code",
   "execution_count": null,
   "metadata": {},
   "outputs": [],
   "source": [
    "len(target)"
   ]
  },
  {
   "cell_type": "code",
   "execution_count": null,
   "metadata": {},
   "outputs": [],
   "source": [
    "len(features)"
   ]
  },
  {
   "cell_type": "code",
   "execution_count": null,
   "metadata": {},
   "outputs": [],
   "source": [
    "## Stratified Split\n",
    "X_train, X_val, y_train, y_val = train_test_split(features,\n",
    "                                                    target,\n",
    "                                                    stratify = target,\n",
    "                                                    test_size=0.30, random_state = 21)"
   ]
  },
  {
   "cell_type": "code",
   "execution_count": null,
   "metadata": {},
   "outputs": [],
   "source": [
    "y_val.value_counts()"
   ]
  },
  {
   "cell_type": "code",
   "execution_count": null,
   "metadata": {},
   "outputs": [],
   "source": [
    "1188718/475082"
   ]
  },
  {
   "cell_type": "code",
   "execution_count": null,
   "metadata": {},
   "outputs": [],
   "source": [
    "y_train.value_counts()"
   ]
  },
  {
   "cell_type": "code",
   "execution_count": null,
   "metadata": {},
   "outputs": [],
   "source": [
    "2773673/1108524"
   ]
  },
  {
   "cell_type": "code",
   "execution_count": null,
   "metadata": {},
   "outputs": [],
   "source": [
    "## calculating the scale_pos_weight; The weight for class 1 in binary classification. \n",
    "## The value is used as a multiplier for the weights of objects from class 1.\n",
    "counts_elements = np.unique(y_train, return_counts=True)\n",
    "scale_weight = counts_elements[1][0]/counts_elements[1][1]\n",
    "scale_weight"
   ]
  },
  {
   "cell_type": "code",
   "execution_count": null,
   "metadata": {},
   "outputs": [],
   "source": []
  },
  {
   "cell_type": "code",
   "execution_count": null,
   "metadata": {},
   "outputs": [],
   "source": [
    "## Instantiate the Classifier\n",
    "train_dataset = Pool(data=X_train,\n",
    "                        label=y_train,\n",
    "                        cat_features=categorical_features_indices)\n",
    "\n",
    "eval_dataset = Pool(data=X_val,\n",
    "                    label=y_val,\n",
    "                    cat_features=categorical_features_indices)\n",
    "\n",
    "model = CatBoostClassifier(iterations= 10000,\n",
    "                           eval_metric='AUC',\n",
    "                           #custom_metric = ['AUC','F1', 'Precision', 'Recall'],\n",
    "                           ## Logloss for imbalanced dataset\n",
    "                           ## CrossEntropy for probabilities in target\n",
    "                           depth = 5,\n",
    "                           learning_rate = 0.05,\n",
    "                           loss_function = 'Logloss',\n",
    "                           boosting_type = 'Plain',\n",
    "                           #class_weights = class_weights,\n",
    "                           scale_pos_weight = scale_weight,\n",
    "                           #model_size_reg = 0, -- this is not implemented for GPU usage in Catboost\n",
    "                           od_type = 'Iter',\n",
    "                           early_stopping_rounds = 500,## rounds to wait if the accuracy does not increases\n",
    "                           random_seed = 1234\n",
    "                           \n",
    "                          )\n",
    "\n"
   ]
  },
  {
   "cell_type": "code",
   "execution_count": null,
   "metadata": {},
   "outputs": [],
   "source": [
    "## Train Model\n",
    "model.fit(train_dataset,\n",
    "          use_best_model=True,\n",
    "          eval_set=eval_dataset,\n",
    "          verbose=False, ## to stop printing info of every Iteration\n",
    "          plot = True\n",
    "         )"
   ]
  },
  {
   "cell_type": "code",
   "execution_count": null,
   "metadata": {},
   "outputs": [],
   "source": [
    "model.get_best_iteration()"
   ]
  },
  {
   "cell_type": "code",
   "execution_count": null,
   "metadata": {},
   "outputs": [],
   "source": [
    "model.get_best_score()"
   ]
  },
  {
   "cell_type": "code",
   "execution_count": null,
   "metadata": {},
   "outputs": [],
   "source": [
    "## Save model for later use\n",
    "with open('model_sel_feat_imp_feat.pickle', 'wb') as handle:\n",
    "    b = pickle.dump(model,handle)"
   ]
  },
  {
   "cell_type": "code",
   "execution_count": null,
   "metadata": {},
   "outputs": [],
   "source": [
    "## defining an ROC curve\n",
    "def calculate_score_on_dataset_and_show_graph(X, y, model):\n",
    "    import sklearn.metrics\n",
    "    import matplotlib.pylab as pl\n",
    "    pl.style.use('ggplot')\n",
    "    pl.figure(figsize = (10,7))\n",
    "    dataset = Pool(data=X,\n",
    "                    label=y,\n",
    "                    cat_features=np.where(X.dtypes != np.int64)[0])\n",
    "    #fpr, tpr, __ = cbu.get_roc_curve(model, dataset, plot = True )\n",
    "    fpr, tpr, thresholds = cbu.get_roc_curve(model, dataset, plot=True)\n",
    "    roc_curve_values= cbu.get_roc_curve(model, dataset, plot=False)\n",
    "    auc = sklearn.metrics.auc(fpr, tpr)\n",
    "    print('AUC',' ',auc)\n",
    "    return auc,roc_curve_values"
   ]
  },
  {
   "cell_type": "code",
   "execution_count": null,
   "metadata": {},
   "outputs": [],
   "source": [
    "## Plotting an ROC Curve for Validation Set\n",
    "auc,roc_curve_values = calculate_score_on_dataset_and_show_graph(X_val, y_val, model)"
   ]
  },
  {
   "cell_type": "code",
   "execution_count": null,
   "metadata": {},
   "outputs": [],
   "source": [
    "## Using type as FeatureImportance: \n",
    "## Equal to PredictionValuesChange for non-ranking metrics and LossFunctionChange for ranking metrics.\n",
    "feature_importances = model.get_feature_importance(data=train_dataset,\n",
    "                       type='FeatureImportance',\n",
    "                       prettified=True,\n",
    "                       thread_count=-1,\n",
    "                       verbose=False)"
   ]
  },
  {
   "cell_type": "code",
   "execution_count": null,
   "metadata": {},
   "outputs": [],
   "source": [
    "## from the below graph we can see almost 30 columns account to 70 percent of the total Importance\n",
    "plt.rcParams[\"figure.figsize\"] = (20,10)\n",
    "ax = feature_importances.plot('Feature Id', 'Importances', kind='bar', color='c')\n",
    "ax.set_title(\"Catboost Feature Importance Ranking\", fontsize = 14)\n",
    "ax.set_xlabel('')\n",
    "\n",
    "rects = ax.patches\n",
    "\n",
    "# get feature score as labels, converting Importancs to integer just to visualize properly round to 2 decimal\n",
    "labels = feature_importances['Importances'].astype('int')\n",
    "\n",
    "for rect, label in zip(rects, labels):\n",
    "    height = rect.get_height()\n",
    "    ax.text(rect.get_x() + rect.get_width()/2, height + 0.35, label, ha='center', va='bottom')\n",
    "\n",
    "plt.show()"
   ]
  },
  {
   "cell_type": "code",
   "execution_count": null,
   "metadata": {},
   "outputs": [],
   "source": [
    "## Extractig low importance feature with Feature Importance less than 1 percent\n",
    "low_imp_features = []\n",
    "for index, row in feature_importances.iterrows():\n",
    "    if row['Importances'] < 1:\n",
    "        low_imp_features.append(row['Feature Id'])\n",
    "\n",
    "print('Number of features with less than 1 percent Importance',' ',len(low_imp_features))\n",
    "low_imp_features"
   ]
  },
  {
   "cell_type": "code",
   "execution_count": null,
   "metadata": {},
   "outputs": [],
   "source": []
  },
  {
   "cell_type": "code",
   "execution_count": null,
   "metadata": {},
   "outputs": [],
   "source": []
  },
  {
   "cell_type": "code",
   "execution_count": null,
   "metadata": {},
   "outputs": [],
   "source": []
  },
  {
   "cell_type": "markdown",
   "metadata": {},
   "source": [
    "# Make Prediction on test data, exposing the test data first time"
   ]
  },
  {
   "cell_type": "raw",
   "metadata": {},
   "source": [
    "baseline:\n",
    "\n",
    "Took 95 minutes as I did not put correct early stopping rounds\n",
    "best AUC of 71 with best iteration at 1549\n",
    "\n",
    "Best Score\n",
    "{'learn': {'Logloss': 0.5923373534611723},\n",
    " 'validation': {'Logloss': 0.620210294781124, 'AUC': 0.7102109893663907}}\n",
    " \n",
    " \n",
    "baseline with imp features:\n",
    " \n",
    "Took 19 minutes due to early stopping rounds as 300\n",
    "best AUC of 71 with best iteration at 1354\n",
    "\n",
    "Best Score\n",
    "{'learn': {'Logloss': 0.6082826892878942},\n",
    " 'validation': {'Logloss': 0.621039080948807, 'AUC': 0.7092822450946674}}\n",
    " \n",
    " \n",
    "Model with selected feature:\n",
    "\n",
    "AUC of 71 in 1h and 51 minutes\n",
    "\n",
    "get_best_score()\n",
    "{'learn': {'Logloss': 0.6040452694866675},\n",
    " 'validation': {'Logloss': 0.6198270500816642, 'AUC': 0.7109365493715099}}\n",
    " \n",
    " \n",
    "Model with feature selection and Important features:\n",
    "\n",
    "{'learn': {'Logloss': 0.6143608293363605},\n",
    " 'validation': {'Logloss': 0.6203220856191253, 'AUC': 0.7101058231976527}}\n"
   ]
  },
  {
   "cell_type": "markdown",
   "metadata": {},
   "source": [
    "## Looking at above collected results, I will use the model with highest AUC score i.e. Model with Feature Selection, I have already saved the model as model_sel_feat.pickle"
   ]
  },
  {
   "cell_type": "code",
   "execution_count": null,
   "metadata": {},
   "outputs": [],
   "source": []
  },
  {
   "cell_type": "markdown",
   "metadata": {},
   "source": [
    "### Load and Transform Test data"
   ]
  },
  {
   "cell_type": "code",
   "execution_count": null,
   "metadata": {},
   "outputs": [],
   "source": [
    "pd.set_option(\"display.max_columns\", 100)"
   ]
  },
  {
   "cell_type": "code",
   "execution_count": null,
   "metadata": {},
   "outputs": [],
   "source": [
    "##data has 7 million rows so to avoid local memory issue we can load it by chunks\n",
    "df_test = pd.read_csv('wildlife_churn_prediction_test_extended_(1).csv')"
   ]
  },
  {
   "cell_type": "code",
   "execution_count": null,
   "metadata": {},
   "outputs": [],
   "source": [
    "df_test.info()"
   ]
  },
  {
   "cell_type": "code",
   "execution_count": null,
   "metadata": {},
   "outputs": [],
   "source": [
    "##drop the data kind column as it is not required\n",
    "df_test = df_test.drop(['data_kind'],axis = 1)"
   ]
  },
  {
   "cell_type": "code",
   "execution_count": null,
   "metadata": {},
   "outputs": [],
   "source": [
    "## creating profit column for currencies to reduce dimensionality\n",
    "df_test['soft_profit'] = df_test['soft_positive'].sub(df_test['soft_negative'], axis = 0).astype('int64') \n",
    "df_test['hard_profit'] = df_test['hard_positive'].sub(df_test['hard_negative'], axis = 0).astype('int64')"
   ]
  },
  {
   "cell_type": "code",
   "execution_count": null,
   "metadata": {},
   "outputs": [],
   "source": [
    "##drop the column for soft and hard currency as we have calculated profits\n",
    "df_test = df_test.drop(['soft_positive','soft_negative','hard_positive','hard_negative'],axis = 1)"
   ]
  },
  {
   "cell_type": "code",
   "execution_count": null,
   "metadata": {},
   "outputs": [],
   "source": [
    "df_test.columns[df_test.isna().any()].tolist()"
   ]
  },
  {
   "cell_type": "code",
   "execution_count": null,
   "metadata": {},
   "outputs": [],
   "source": [
    "## as the NULL values for country is very less, replacing NULL values with most frequent country value\n",
    "df_test['country'] = df_test['country'].fillna(value=Counter(df_test['country']).most_common(1)[0][0])\n",
    "df_test['device_model'] = df_test['device_model'].fillna(value=Counter(df_test['device_model']).most_common(1)[0][0])"
   ]
  },
  {
   "cell_type": "code",
   "execution_count": null,
   "metadata": {},
   "outputs": [],
   "source": [
    "## converting BOOLEAN to INTEGER for Tutorial columns\n",
    "for i in ['TutorialStart','TutorialStartPart1','TutorialStartPart2','TutorialStartPart3','TutorialStartPart4',\n",
    "                                     'TutorialStartPart5','TutorialStartPart6','TutorialFinish']:\n",
    "    df_test[i] = df_test[i].astype('int64')\n",
    "    "
   ]
  },
  {
   "cell_type": "code",
   "execution_count": null,
   "metadata": {},
   "outputs": [],
   "source": [
    "## One Hot Encoding platform as both platforms should have same weight\n",
    "## We might also encode Android as 89 and ios as 11 based on frequency but that might lead to incorrect wieght information\n",
    "oe_style = OneHotEncoder()\n",
    "oe_results = oe_style.fit_transform(df_test[[\"platform\"]])\n",
    "#pd.DataFrame(oe_results.toarray(), columns=oe_style.categories_).head()"
   ]
  },
  {
   "cell_type": "code",
   "execution_count": null,
   "metadata": {},
   "outputs": [],
   "source": [
    "## Add One hot encoded columns to test dataframe\n",
    "df_test = pd.concat([pd.DataFrame(oe_results.toarray(), columns=['platform_Android','platform_iOS']).astype('int64'),df_test],  axis=1)"
   ]
  },
  {
   "cell_type": "code",
   "execution_count": null,
   "metadata": {},
   "outputs": [],
   "source": [
    "## remove catgory column as it has been Encoded\n",
    "df_test = df_test.drop('platform',axis = 1)"
   ]
  },
  {
   "cell_type": "code",
   "execution_count": null,
   "metadata": {},
   "outputs": [],
   "source": [
    "## Convert Label to 0 and 1\n",
    "\n",
    "start = time.time()\n",
    "\n",
    "df_test['LABEL_churn'] = df_test['LABEL_churn'].astype('int64')\n",
    "\n",
    "print('time taken to update',' ',time.time()-start)"
   ]
  },
  {
   "cell_type": "code",
   "execution_count": null,
   "metadata": {},
   "outputs": [],
   "source": [
    "## Plot distribution of class for Target\n",
    "sns.set(style=\"darkgrid\")\n",
    "sns.countplot(x='LABEL_churn',  data=df_test)"
   ]
  },
  {
   "cell_type": "code",
   "execution_count": null,
   "metadata": {},
   "outputs": [],
   "source": [
    "## Create Feature and Target\n",
    "test_feature = df_test.loc[:, df_test.columns != 'LABEL_churn'].copy()\n",
    "test_target = df_test.loc[:, df_test.columns == 'LABEL_churn'].copy()"
   ]
  },
  {
   "cell_type": "code",
   "execution_count": null,
   "metadata": {},
   "outputs": [],
   "source": [
    "## Limit the test data to Training Columns used while Training the Model\n",
    "test_feature = test_feature[list(features_sel.columns[:-1])]"
   ]
  },
  {
   "cell_type": "code",
   "execution_count": null,
   "metadata": {},
   "outputs": [],
   "source": []
  },
  {
   "cell_type": "code",
   "execution_count": null,
   "metadata": {},
   "outputs": [],
   "source": [
    "## Loading the desired model\n",
    "with open('model_sel_feat.pickle', 'rb') as handle:\n",
    "    model = pickle.load(handle)"
   ]
  },
  {
   "cell_type": "code",
   "execution_count": null,
   "metadata": {},
   "outputs": [],
   "source": [
    "# Get predicted classes\n",
    "y_pred = model.predict(test_feature)\n",
    "y_pred"
   ]
  },
  {
   "cell_type": "code",
   "execution_count": null,
   "metadata": {},
   "outputs": [],
   "source": []
  },
  {
   "cell_type": "code",
   "execution_count": null,
   "metadata": {},
   "outputs": [],
   "source": [
    "## defining an ROC curve\n",
    "def calculate_score_on_dataset_and_show_graph(X, y, model):\n",
    "    import sklearn.metrics\n",
    "    import matplotlib.pylab as pl\n",
    "    pl.style.use('ggplot')\n",
    "    \n",
    "    dataset = Pool(data=X,\n",
    "                    label=y,\n",
    "                    cat_features=np.where(X.dtypes != np.int64)[0])\n",
    "    #fpr, tpr, __ = cbu.get_roc_curve(model, dataset, plot = True )\n",
    "    fpr, tpr, thresholds = cbu.get_roc_curve(model, dataset, plot=True)\n",
    "    roc_curve_values= cbu.get_roc_curve(model, dataset, plot=False)\n",
    "    auc = sklearn.metrics.auc(fpr, tpr)\n",
    "    print('AUC',' ',auc)\n",
    "    return auc,roc_curve_values"
   ]
  },
  {
   "cell_type": "code",
   "execution_count": null,
   "metadata": {},
   "outputs": [],
   "source": [
    "## Plotting an ROC Curve for Test Data\n",
    "auc,roc_curve_values = calculate_score_on_dataset_and_show_graph(test_feature, test_target, model)"
   ]
  },
  {
   "cell_type": "code",
   "execution_count": null,
   "metadata": {},
   "outputs": [],
   "source": []
  },
  {
   "cell_type": "code",
   "execution_count": null,
   "metadata": {},
   "outputs": [],
   "source": [
    "## create confusion matrix\n",
    "from sklearn.metrics import confusion_matrix as cm\n",
    "cm = cm(test_target, y_pred)\n",
    "cm"
   ]
  },
  {
   "cell_type": "code",
   "execution_count": null,
   "metadata": {},
   "outputs": [],
   "source": [
    "## Plot the confusion matrix for better understanding of Model performance on Test set\n",
    "import seaborn as sn\n",
    "plt.figure(figsize = (10,7))\n",
    "text = np.asarray([['TrueNegative', 'FalseNegative'],['FalsePositive','TruePositive']])\n",
    "labels = (np.asarray([\"{0}\\n{1:}\".format(text,cm) for text, cm in zip(text.flatten(), cm.flatten())])).reshape(2,2)\n",
    "## just to verify if the plot is right fecthing fp,fn,tp and tn from scikit-learn\n",
    "tn, fp, fn, tp = cm.ravel()\n",
    "print('tn fp fn tp',' ',tn,' ', fp,' ', fn,' ', tp)\n",
    "#sn.heatmap(cm, annot=True)\n",
    "sn.heatmap(cm, annot=labels, fmt = '')"
   ]
  },
  {
   "cell_type": "code",
   "execution_count": null,
   "metadata": {},
   "outputs": [],
   "source": [
    "### CLassification Report for Model performance on Test set\n",
    "from sklearn.metrics import classification_report\n",
    "print ('\\nClasification report:\\n', classification_report(test_target, y_pred))"
   ]
  },
  {
   "cell_type": "code",
   "execution_count": null,
   "metadata": {},
   "outputs": [],
   "source": []
  },
  {
   "cell_type": "code",
   "execution_count": null,
   "metadata": {},
   "outputs": [],
   "source": []
  },
  {
   "cell_type": "code",
   "execution_count": null,
   "metadata": {},
   "outputs": [],
   "source": []
  },
  {
   "cell_type": "code",
   "execution_count": null,
   "metadata": {},
   "outputs": [],
   "source": []
  },
  {
   "cell_type": "markdown",
   "metadata": {},
   "source": [
    "\n",
    "# Final Test Results: ## AUC for Test data is  0.7229\n",
    "\n",
    "\n",
    "### I used the Model3 to make predictions on Test Data as it gave the highest AUC of 0.7109 on Evaluation Set\n",
    "\n",
    "\n",
    "\n",
    "# Models trained and Evaluated\n",
    "\n",
    "## All the trained models have been saved as pickle file\n",
    "\n",
    "### Model1 (catboost_baseline.pickle) is a baseline model using all features after data cleaning\n",
    "\n",
    "Took 95 minutes as I did not put correct early stopping rounds\n",
    "best AUC of 71 with best iteration at 1549\n",
    "\n",
    "Best Score\n",
    "{'learn': {'Logloss': 0.5923373534611723},\n",
    " 'validation': {'Logloss': 0.620210294781124, 'AUC': 0.7102109893663907}}\n",
    " \n",
    "### Model2 (model_base_imp_feat.pickle) is a baseline model using important features derived from model 1\n",
    "\n",
    "baseline with imp features:\n",
    " \n",
    "Took 19 minutes due to early stopping rounds as 300\n",
    "best AUC of 71 with best iteration at 1354\n",
    "\n",
    "Best Score\n",
    "{'learn': {'Logloss': 0.6082826892878942},\n",
    " 'validation': {'Logloss': 0.621039080948807, 'AUC': 0.7092822450946674}}\n",
    " \n",
    "\n",
    "### Model3 (model_sel_feat.pickle) is trained after conducting Feature Selection using correlation matrix\n",
    "\n",
    "Model with selected feature:\n",
    "\n",
    "AUC of 71 in 1h and 51 minutes\n",
    "\n",
    "get_best_score()\n",
    "{'learn': {'Logloss': 0.6040452694866675},\n",
    " 'validation': {'Logloss': 0.6198270500816642, 'AUC': 0.7109365493715099}}\n",
    " \n",
    " \n",
    "### Model4 (model_sel_feat_imp_feat.pickle) is Final Model was trained using Feature Selection and important features derived from Model3\n",
    "\n",
    "Model with feature selection and Important features:\n",
    "\n",
    "{'learn': {'Logloss': 0.6143608293363605},\n",
    " 'validation': {'Logloss': 0.6203220856191253, 'AUC': 0.7101058231976527}}\n",
    " \n"
   ]
  },
  {
   "cell_type": "code",
   "execution_count": null,
   "metadata": {},
   "outputs": [],
   "source": []
  },
  {
   "cell_type": "code",
   "execution_count": null,
   "metadata": {},
   "outputs": [],
   "source": []
  },
  {
   "cell_type": "markdown",
   "metadata": {},
   "source": [
    "# Feature Importance:\n",
    "\n",
    "## From below Graph we can see that \n",
    "\n",
    "#### install_date is the most important column\n",
    "#### PiggyBankModifiedPoints_sum_dsi3 is the second most important column \n",
    "\n",
    "#### As per Catboost Feature Importances caluclation. This is the case for all the models trained"
   ]
  },
  {
   "attachments": {
    "image.png": {
     "image/png": "[encoded data removed]"
    }
   },
   "cell_type": "markdown",
   "metadata": {},
   "source": [
    "![image.png](attachment:image.png)"
   ]
  },
  {
   "cell_type": "code",
   "execution_count": null,
   "metadata": {},
   "outputs": [],
   "source": []
  },
  {
   "cell_type": "code",
   "execution_count": null,
   "metadata": {},
   "outputs": [],
   "source": []
  },
  {
   "cell_type": "markdown",
   "metadata": {},
   "source": [
    "# Challenges\n",
    "\n",
    "## 1) Huge volume of data caused memory issues on local machine.\n",
    "## 2) Configuration challenges while trying to setup EC2 instance with jupyter notebook on AWS.\n",
    "## 3) EC2 machine getting disconnected intermittently due to longer time for Model training beacuse of data volume.\n",
    "## 4) Large Dimensionality of dataset alongwith Categorical variables with Huge cardinality.\n",
    "## 5) Data transformation was compute expensive due to large number of rows.\n",
    "## 6) Could not perform Cross Validation with more than 5 folds because of data volume and time at hand."
   ]
  },
  {
   "cell_type": "code",
   "execution_count": null,
   "metadata": {},
   "outputs": [],
   "source": []
  }
 ],
 "metadata": {
  "kernelspec": {
   "display_name": "Python 3",
   "language": "python",
   "name": "python3"
  },
  "language_info": {
   "codemirror_mode": {
    "name": "ipython",
    "version": 3
   },
   "file_extension": ".py",
   "mimetype": "text/x-python",
   "name": "python",
   "nbconvert_exporter": "python",
   "pygments_lexer": "ipython3",
   "version": "3.7.2"
  }
 },
 "nbformat": 4,
 "nbformat_minor": 2
}
