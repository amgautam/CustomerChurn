{
 "cells": [
  {
   "cell_type": "markdown",
   "metadata": {},
   "source": [
    "# Librairies to be Installed\n",
    "\n",
    "### !pip3 install seaborn\n",
    "### !pip3 install catboost\n",
    "### !pip3 install ipywidgets\n",
    "### !pip3 install statsmodels\n",
    "### !jupyter nbextension enable --py widgetsnbextension ### Enabling notebook extension jupyter-js-widgets/extension..."
   ]
  },
  {
   "cell_type": "code",
   "execution_count": null,
   "metadata": {},
   "outputs": [],
   "source": []
  },
  {
   "cell_type": "raw",
   "metadata": {},
   "source": [
    "# Remove the scroll functionality for rows as it makes difficult to look at plots and data"
   ]
  },
  {
   "cell_type": "code",
   "execution_count": 68,
   "metadata": {},
   "outputs": [
    {
     "data": {
      "application/javascript": [
       "IPython.OutputArea.prototype._should_scroll = function(lines) {\n",
       "    return false;\n",
       "}\n"
      ],
      "text/plain": [
       "<IPython.core.display.Javascript object>"
      ]
     },
     "metadata": {},
     "output_type": "display_data"
    }
   ],
   "source": [
    "%%javascript\n",
    "IPython.OutputArea.prototype._should_scroll = function(lines) {\n",
    "    return false;\n",
    "}"
   ]
  },
  {
   "cell_type": "code",
   "execution_count": 69,
   "metadata": {},
   "outputs": [],
   "source": [
    "import pandas as pd\n",
    "import seaborn as sns\n",
    "import time\n",
    "import matplotlib.pyplot as plt\n",
    "import numpy as np\n",
    "from collections import Counter\n",
    "import pickle\n",
    "import catboost.utils as cbu\n",
    "from sklearn.model_selection import train_test_split\n",
    "from sklearn.preprocessing import OneHotEncoder\n",
    "from catboost import Pool, CatBoostClassifier, cv\n",
    "from catboost import CatBoostClassifier, Pool\n",
    "from sklearn.utils import shuffle\n",
    "from sklearn.model_selection import train_test_split\n",
    "from sklearn.metrics import recall_score, precision_score, confusion_matrix, classification_report, balanced_accuracy_score"
   ]
  },
  {
   "cell_type": "code",
   "execution_count": null,
   "metadata": {},
   "outputs": [],
   "source": [
    "##data has 7 million rows so to avoid local memory issue we can load it by chunks\n",
    "df_chunk = pd.read_csv('wildlife_churn_prediction_train_extended.csv', chunksize=1000000)"
   ]
  },
  {
   "cell_type": "code",
   "execution_count": null,
   "metadata": {},
   "outputs": [],
   "source": [
    "chunk_list = []  # append each chunk df here \n",
    "\n",
    "# Each chunk is in df format\n",
    "for chunk in df_chunk:  \n",
    "    \n",
    "    # Once the data filtering is done, append the chunk to list\n",
    "    chunk_list.append(chunk)\n",
    "    \n",
    "# concat the list into dataframe \n",
    "df_churn = pd.concat(chunk_list)"
   ]
  },
  {
   "cell_type": "raw",
   "metadata": {},
   "source": [
    "df_churn.to_pickle('df_aws')"
   ]
  },
  {
   "cell_type": "code",
   "execution_count": 3,
   "metadata": {},
   "outputs": [],
   "source": [
    "df_churn = pd.read_pickle('df_aws')"
   ]
  },
  {
   "cell_type": "code",
   "execution_count": 4,
   "metadata": {},
   "outputs": [
    {
     "name": "stdout",
     "output_type": "stream",
     "text": [
      "<class 'pandas.core.frame.DataFrame'>\n",
      "RangeIndex: 5545997 entries, 0 to 5545996\n",
      "Data columns (total 97 columns):\n",
      " #   Column                            Dtype  \n",
      "---  ------                            -----  \n",
      " 0   data_kind                         object \n",
      " 1   platform                          object \n",
      " 2   install_date                      int64  \n",
      " 3   country                           object \n",
      " 4   device_model                      object \n",
      " 5   categorical_1                     object \n",
      " 6   categorical_2                     object \n",
      " 7   categorical_3                     object \n",
      " 8   categorical_4                     object \n",
      " 9   categorical_5                     object \n",
      " 10  categorical_6                     object \n",
      " 11  categorical_7                     object \n",
      " 12  LABEL_max_played_dsi              int64  \n",
      " 13  soft_positive                     float64\n",
      " 14  soft_negative                     float64\n",
      " 15  hard_positive                     float64\n",
      " 16  hard_negative                     float64\n",
      " 17  TutorialStart                     bool   \n",
      " 18  TutorialStartPart1                bool   \n",
      " 19  TutorialStartPart2                bool   \n",
      " 20  TutorialStartPart3                bool   \n",
      " 21  TutorialStartPart4                bool   \n",
      " 22  TutorialStartPart5                bool   \n",
      " 23  TutorialStartPart6                bool   \n",
      " 24  TutorialFinish                    bool   \n",
      " 25  StartBattle_sum_dsi0              int64  \n",
      " 26  StartBattle_sum_dsi1              int64  \n",
      " 27  StartBattle_sum_dsi2              int64  \n",
      " 28  StartBattle_sum_dsi3              int64  \n",
      " 29  PiggyBankModifiedPoints_sum_dsi0  int64  \n",
      " 30  PiggyBankModifiedPoints_sum_dsi1  int64  \n",
      " 31  PiggyBankModifiedPoints_sum_dsi2  int64  \n",
      " 32  PiggyBankModifiedPoints_sum_dsi3  int64  \n",
      " 33  OpenChest_sum_dsi0                int64  \n",
      " 34  OpenChest_sum_dsi1                int64  \n",
      " 35  OpenChest_sum_dsi2                int64  \n",
      " 36  OpenChest_sum_dsi3                int64  \n",
      " 37  StartSession_sum_dsi0             int64  \n",
      " 38  StartSession_sum_dsi1             int64  \n",
      " 39  StartSession_sum_dsi2             int64  \n",
      " 40  StartSession_sum_dsi3             int64  \n",
      " 41  WinBattle_sum_dsi0                int64  \n",
      " 42  WinBattle_sum_dsi1                int64  \n",
      " 43  WinBattle_sum_dsi2                int64  \n",
      " 44  WinBattle_sum_dsi3                int64  \n",
      " 45  LoseBattle_sum_dsi0               int64  \n",
      " 46  LoseBattle_sum_dsi1               int64  \n",
      " 47  LoseBattle_sum_dsi2               int64  \n",
      " 48  LoseBattle_sum_dsi3               int64  \n",
      " 49  EnterDeck_sum_dsi0                int64  \n",
      " 50  EnterDeck_sum_dsi1                int64  \n",
      " 51  EnterDeck_sum_dsi2                int64  \n",
      " 52  EnterDeck_sum_dsi3                int64  \n",
      " 53  StartGameplayModeBattle_sum_dsi0  int64  \n",
      " 54  StartGameplayModeBattle_sum_dsi1  int64  \n",
      " 55  StartGameplayModeBattle_sum_dsi2  int64  \n",
      " 56  StartGameplayModeBattle_sum_dsi3  int64  \n",
      " 57  UpgradeCard_sum_dsi0              int64  \n",
      " 58  UpgradeCard_sum_dsi1              int64  \n",
      " 59  UpgradeCard_sum_dsi2              int64  \n",
      " 60  UpgradeCard_sum_dsi3              int64  \n",
      " 61  EnterShop_sum_dsi0                int64  \n",
      " 62  EnterShop_sum_dsi1                int64  \n",
      " 63  EnterShop_sum_dsi2                int64  \n",
      " 64  EnterShop_sum_dsi3                int64  \n",
      " 65  BuyCard_sum_dsi0                  int64  \n",
      " 66  BuyCard_sum_dsi1                  int64  \n",
      " 67  BuyCard_sum_dsi2                  int64  \n",
      " 68  BuyCard_sum_dsi3                  int64  \n",
      " 69  StartTournamentBattle_sum_dsi0    int64  \n",
      " 70  StartTournamentBattle_sum_dsi1    int64  \n",
      " 71  StartTournamentBattle_sum_dsi2    int64  \n",
      " 72  StartTournamentBattle_sum_dsi3    int64  \n",
      " 73  WinTournamentBattle_sum_dsi0      int64  \n",
      " 74  WinTournamentBattle_sum_dsi1      int64  \n",
      " 75  WinTournamentBattle_sum_dsi2      int64  \n",
      " 76  WinTournamentBattle_sum_dsi3      int64  \n",
      " 77  LoseTournamentBattle_sum_dsi0     int64  \n",
      " 78  LoseTournamentBattle_sum_dsi1     int64  \n",
      " 79  LoseTournamentBattle_sum_dsi2     int64  \n",
      " 80  LoseTournamentBattle_sum_dsi3     int64  \n",
      " 81  ChangeArena_sum_dsi0              int64  \n",
      " 82  ChangeArena_sum_dsi1              int64  \n",
      " 83  ChangeArena_sum_dsi2              int64  \n",
      " 84  ChangeArena_sum_dsi3              int64  \n",
      " 85  JoinTournament_sum_dsi0           int64  \n",
      " 86  JoinTournament_sum_dsi1           int64  \n",
      " 87  JoinTournament_sum_dsi2           int64  \n",
      " 88  JoinTournament_sum_dsi3           int64  \n",
      " 89  QuitTournament_sum_dsi0           int64  \n",
      " 90  QuitTournament_sum_dsi1           int64  \n",
      " 91  QuitTournament_sum_dsi2           int64  \n",
      " 92  QuitTournament_sum_dsi3           int64  \n",
      " 93  OpenPiggyBank_sum_dsi0            int64  \n",
      " 94  OpenPiggyBank_sum_dsi1            int64  \n",
      " 95  OpenPiggyBank_sum_dsi2            int64  \n",
      " 96  OpenPiggyBank_sum_dsi3            int64  \n",
      "dtypes: bool(8), float64(4), int64(74), object(11)\n",
      "memory usage: 3.7+ GB\n"
     ]
    }
   ],
   "source": [
    "df_churn.info()"
   ]
  },
  {
   "cell_type": "raw",
   "metadata": {},
   "source": []
  },
  {
   "cell_type": "raw",
   "metadata": {},
   "source": []
  },
  {
   "cell_type": "markdown",
   "metadata": {},
   "source": [
    "## Create the Target or Label from LABEL_max_played_dsi"
   ]
  },
  {
   "cell_type": "raw",
   "metadata": {},
   "source": []
  },
  {
   "cell_type": "raw",
   "metadata": {},
   "source": []
  },
  {
   "cell_type": "code",
   "execution_count": 5,
   "metadata": {},
   "outputs": [
    {
     "data": {
      "text/plain": [
       "{3, 4, 5, 6, 7, 8, 9, 10, 11, 12, 13, 14, 15, 16, 17}"
      ]
     },
     "execution_count": 5,
     "metadata": {},
     "output_type": "execute_result"
    }
   ],
   "source": [
    "## look at the distinct values for last played days\n",
    "set(df_churn['LABEL_max_played_dsi'].unique())"
   ]
  },
  {
   "cell_type": "code",
   "execution_count": 6,
   "metadata": {},
   "outputs": [
    {
     "name": "stdout",
     "output_type": "stream",
     "text": [
      "time taken to update   92.35906839370728\n"
     ]
    }
   ],
   "source": [
    "## Label the training data based on the value for LABEL_max_played_dsi i.e. \n",
    "##  5 ≥ LABEL_max_played_dsi ≤ 18, NOT CHURNED and assign a BOOLEAN value of 0\n",
    "##  LABEL_max_played_dsi < 5 OR  LABEL_max_played_dsi > 18 , CHURNED and assign a BOOLEAN value of 1\n",
    "\n",
    "start = time.time()\n",
    "\n",
    "for n,i in enumerate(df_churn['LABEL_max_played_dsi']):\n",
    "    if i in list(range(5,19)):\n",
    "        #df_churn.set_value(n, \"Churn\", 0) ## not using set_value as it is SET to be Depracated\n",
    "        df_churn.at[n, \"Churn\"] = 0\n",
    "    else:\n",
    "        #df_churn.set_value(n, \"Churn\", 1)\n",
    "        df_churn.at[n, \"Churn\"] = 1\n",
    "        \n",
    "##converting the target variable to integers\n",
    "df_churn['Churn']= df_churn['Churn'].astype('int64')\n",
    "\n",
    "print('time taken to update',' ',time.time()-start)"
   ]
  },
  {
   "cell_type": "raw",
   "metadata": {},
   "source": [
    "df_churn.at took 112 seconds\n",
    "df_churn.set_value took 94 seconds"
   ]
  },
  {
   "cell_type": "code",
   "execution_count": 7,
   "metadata": {},
   "outputs": [
    {
     "data": {
      "text/plain": [
       "array([1, 0])"
      ]
     },
     "execution_count": 7,
     "metadata": {},
     "output_type": "execute_result"
    }
   ],
   "source": [
    "##check unique values in out target feature\n",
    "df_churn['Churn'].unique()"
   ]
  },
  {
   "cell_type": "code",
   "execution_count": 8,
   "metadata": {},
   "outputs": [
    {
     "data": {
      "text/plain": [
       "True"
      ]
     },
     "execution_count": 8,
     "metadata": {},
     "output_type": "execute_result"
    }
   ],
   "source": [
    "##check wether target variable is good\n",
    "len([i for i in df_churn['LABEL_max_played_dsi'] if i not in list(range(5,19))]) == len(df_churn[df_churn['Churn'] ==1])"
   ]
  },
  {
   "cell_type": "code",
   "execution_count": 9,
   "metadata": {},
   "outputs": [
    {
     "data": {
      "text/plain": [
       "<AxesSubplot:xlabel='Churn', ylabel='count'>"
      ]
     },
     "execution_count": 9,
     "metadata": {},
     "output_type": "execute_result"
    },
    {
     "data": {
      "image/png": "[encoded data removed]",
      "text/plain": [
       "<Figure size 432x288 with 1 Axes>"
      ]
     },
     "metadata": {},
     "output_type": "display_data"
    }
   ],
   "source": [
    "sns.set(style=\"darkgrid\")\n",
    "sns.countplot(x='Churn',  data=df_churn)"
   ]
  },
  {
   "cell_type": "code",
   "execution_count": 10,
   "metadata": {},
   "outputs": [
    {
     "data": {
      "image/png": "[encoded data removed]",
      "text/plain": [
       "<Figure size 864x576 with 2 Axes>"
      ]
     },
     "metadata": {},
     "output_type": "display_data"
    }
   ],
   "source": [
    "## Looking at the Frequency Distribution for the Target Variable i.e Churn\n",
    "## after examing the plot seems like the distribution is a bit skewed towards the FALSE class\n",
    "plt.figure(figsize=(12,8))\n",
    "plt.title('Distribution of Truck Configurations')\n",
    "plt.xlabel('Number of Axles')\n",
    "plt.ylabel('Frequency [%]')\n",
    "\n",
    "ax = ((df_churn.Churn.value_counts()/len(df_churn))*100).sort_index().plot(kind=\"bar\", rot=0)\n",
    "ax.set_yticks(np.arange(0, 110, 10))\n",
    "ax.grid(None)\n",
    "\n",
    "ax2 = ax.twinx()\n",
    "ax2.set_yticks(np.arange(0, 110, 10)*len(df_churn)/100)\n",
    "ax2.grid(None)\n",
    "\n",
    "for p in ax.patches:\n",
    "    ax.annotate('{:.2f}%'.format(p.get_height()), (p.get_x()+0.15, p.get_height()+1))"
   ]
  },
  {
   "cell_type": "code",
   "execution_count": 11,
   "metadata": {},
   "outputs": [
    {
     "data": {
      "text/plain": [
       "28.554036361721796"
      ]
     },
     "execution_count": 11,
     "metadata": {},
     "output_type": "execute_result"
    }
   ],
   "source": [
    "##verifying if the plot is correct\n",
    "(len(df_churn[df_churn['Churn']== 1])/len(df_churn))*100 ###28.554036361721796"
   ]
  },
  {
   "cell_type": "raw",
   "metadata": {},
   "source": []
  },
  {
   "cell_type": "raw",
   "metadata": {},
   "source": []
  },
  {
   "cell_type": "markdown",
   "metadata": {},
   "source": [
    "## Data Engineering - Clean and Transform the data"
   ]
  },
  {
   "cell_type": "raw",
   "metadata": {},
   "source": []
  },
  {
   "cell_type": "raw",
   "metadata": {},
   "source": []
  },
  {
   "cell_type": "code",
   "execution_count": 12,
   "metadata": {},
   "outputs": [],
   "source": [
    "pd.set_option(\"display.max_columns\", 100)"
   ]
  },
  {
   "cell_type": "code",
   "execution_count": null,
   "metadata": {},
   "outputs": [],
   "source": []
  },
  {
   "cell_type": "code",
   "execution_count": 13,
   "metadata": {},
   "outputs": [],
   "source": [
    "##drop the data kind column as it is not required\n",
    "df_churn = df_churn.drop(['data_kind'],axis = 1)"
   ]
  },
  {
   "cell_type": "code",
   "execution_count": 14,
   "metadata": {},
   "outputs": [],
   "source": [
    "##drop the column with max label size to remove unnecessary infomration\n",
    "df_churn = df_churn.drop(['LABEL_max_played_dsi'],axis = 1)"
   ]
  },
  {
   "cell_type": "code",
   "execution_count": null,
   "metadata": {},
   "outputs": [],
   "source": []
  },
  {
   "cell_type": "code",
   "execution_count": 15,
   "metadata": {},
   "outputs": [],
   "source": [
    "## creating profit column for currencies to reduce dimensionality\n",
    "df_churn['soft_profit'] = df_churn['soft_positive'].sub(df_churn['soft_negative'], axis = 0).astype('int64') \n",
    "df_churn['hard_profit'] = df_churn['hard_positive'].sub(df_churn['hard_negative'], axis = 0).astype('int64')"
   ]
  },
  {
   "cell_type": "code",
   "execution_count": 16,
   "metadata": {},
   "outputs": [],
   "source": [
    "##drop the column for soft and hard currency as we have calculated profits\n",
    "df_churn = df_churn.drop(['soft_positive','soft_negative','hard_positive','hard_negative'],axis = 1)"
   ]
  },
  {
   "cell_type": "raw",
   "metadata": {},
   "source": [
    "df_churn.describe().astype (int)"
   ]
  },
  {
   "cell_type": "raw",
   "metadata": {},
   "source": [
    "df_irrelevant = df_churn.describe().astype (int)"
   ]
  },
  {
   "cell_type": "raw",
   "metadata": {},
   "source": [
    "idx_list = list(df_irrelevant.index)\n",
    "idx_list"
   ]
  },
  {
   "cell_type": "raw",
   "metadata": {},
   "source": [
    "## cheking what does the value look like in columns with std dev as zero\n",
    "zero_std_dev = []\n",
    "for i in df_irrelevant.columns:\n",
    "    if df_irrelevant.at['std',i] == 0:\n",
    "        zero_std_dev.append(i)\n",
    "        #print(i,' ',set(df_churn[i]))\n",
    "zero_std_dev\n"
   ]
  },
  {
   "cell_type": "code",
   "execution_count": null,
   "metadata": {},
   "outputs": [],
   "source": []
  },
  {
   "cell_type": "code",
   "execution_count": 17,
   "metadata": {},
   "outputs": [
    {
     "data": {
      "text/plain": [
       "(5545997, 94)"
      ]
     },
     "execution_count": 17,
     "metadata": {},
     "output_type": "execute_result"
    }
   ],
   "source": [
    "df_churn.shape"
   ]
  },
  {
   "cell_type": "code",
   "execution_count": 18,
   "metadata": {},
   "outputs": [
    {
     "data": {
      "text/plain": [
       "31"
      ]
     },
     "execution_count": 18,
     "metadata": {},
     "output_type": "execute_result"
    }
   ],
   "source": [
    "## Remove Duplicates if MANY\n",
    "duplicate = df_churn[df_churn.duplicated()] \n",
    "len(duplicate) ###31"
   ]
  },
  {
   "cell_type": "code",
   "execution_count": 19,
   "metadata": {},
   "outputs": [
    {
     "data": {
      "text/plain": [
       "['country', 'device_model']"
      ]
     },
     "execution_count": 19,
     "metadata": {},
     "output_type": "execute_result"
    }
   ],
   "source": [
    "## Deal with Nan Values or NULL values\n",
    "df_churn.columns[df_churn.isna().any()].tolist() ##'country', 'device_model'"
   ]
  },
  {
   "cell_type": "code",
   "execution_count": 20,
   "metadata": {},
   "outputs": [
    {
     "data": {
      "text/plain": [
       "210"
      ]
     },
     "execution_count": 20,
     "metadata": {},
     "output_type": "execute_result"
    }
   ],
   "source": [
    "df_churn['country'].isnull().sum(axis = 0)"
   ]
  },
  {
   "cell_type": "code",
   "execution_count": 21,
   "metadata": {},
   "outputs": [
    {
     "data": {
      "text/plain": [
       "14"
      ]
     },
     "execution_count": 21,
     "metadata": {},
     "output_type": "execute_result"
    }
   ],
   "source": [
    "df_churn['device_model'].isnull().sum(axis = 0)"
   ]
  },
  {
   "cell_type": "code",
   "execution_count": 22,
   "metadata": {},
   "outputs": [
    {
     "data": {
      "text/plain": [
       "'IN'"
      ]
     },
     "execution_count": 22,
     "metadata": {},
     "output_type": "execute_result"
    }
   ],
   "source": [
    "Counter(df_churn['country']).most_common(1)[0][0]"
   ]
  },
  {
   "cell_type": "code",
   "execution_count": 23,
   "metadata": {},
   "outputs": [
    {
     "data": {
      "text/plain": [
       "'iPhone7,2'"
      ]
     },
     "execution_count": 23,
     "metadata": {},
     "output_type": "execute_result"
    }
   ],
   "source": [
    "Counter(df_churn['device_model']).most_common(1)[0][0]"
   ]
  },
  {
   "cell_type": "code",
   "execution_count": 24,
   "metadata": {},
   "outputs": [],
   "source": [
    "## as the NULL values for country is very less, replacing NULL values with most frequent country value\n",
    "df_churn['country'] = df_churn['country'].fillna(value=Counter(df_churn['country']).most_common(1)[0][0])\n",
    "df_churn['device_model'] = df_churn['device_model'].fillna(value=Counter(df_churn['device_model']).most_common(1)[0][0])"
   ]
  },
  {
   "cell_type": "code",
   "execution_count": 25,
   "metadata": {},
   "outputs": [
    {
     "data": {
      "text/plain": [
       "[]"
      ]
     },
     "execution_count": 25,
     "metadata": {},
     "output_type": "execute_result"
    }
   ],
   "source": [
    "## Check if any NULL values still exist\n",
    "df_churn.columns[df_churn.isna().any()].tolist()"
   ]
  },
  {
   "cell_type": "code",
   "execution_count": null,
   "metadata": {},
   "outputs": [],
   "source": []
  },
  {
   "cell_type": "raw",
   "metadata": {},
   "source": [
    "df_churn.query('TutorialFinish == True & (TutorialStartPart2 == False or TutorialStartPart3 == False)')[['TutorialFinish','TutorialStartPart2','TutorialStartPart3']]"
   ]
  },
  {
   "cell_type": "code",
   "execution_count": null,
   "metadata": {},
   "outputs": [],
   "source": []
  },
  {
   "cell_type": "code",
   "execution_count": null,
   "metadata": {},
   "outputs": [],
   "source": []
  },
  {
   "cell_type": "raw",
   "metadata": {},
   "source": [
    "## converting BOOLEAN to INTEGER for Tutorial columns\n",
    "for i in ['TutorialStart','TutorialStartPart1','TutorialStartPart2','TutorialStartPart3','TutorialStartPart4',\n",
    "                                     'TutorialStartPart5','TutorialStartPart6','TutorialFinish']:\n",
    "    print(df_churn[i].value_counts())\n",
    "    "
   ]
  },
  {
   "cell_type": "code",
   "execution_count": 26,
   "metadata": {},
   "outputs": [],
   "source": [
    "## converting BOOLEAN to INTEGER for Tutorial columns\n",
    "for i in ['TutorialStart','TutorialStartPart1','TutorialStartPart2','TutorialStartPart3','TutorialStartPart4',\n",
    "                                     'TutorialStartPart5','TutorialStartPart6','TutorialFinish']:\n",
    "    df_churn[i] = df_churn[i].astype('int64')\n",
    "    "
   ]
  },
  {
   "cell_type": "raw",
   "metadata": {},
   "source": [
    "## converting BOOLEAN to INTEGER for Tutorial columns\n",
    "for i in ['TutorialStart','TutorialStartPart1','TutorialStartPart2','TutorialStartPart3','TutorialStartPart4',\n",
    "                                     'TutorialStartPart5','TutorialStartPart6','TutorialFinish']:\n",
    "    print(df_churn[i].value_counts())\n",
    "    "
   ]
  },
  {
   "cell_type": "code",
   "execution_count": 27,
   "metadata": {},
   "outputs": [],
   "source": [
    "## Move the target variable to the last\n",
    "target_col = df_churn.pop('Churn')\n",
    "df_churn.insert(len(df_churn.columns), 'Churn', target_col)"
   ]
  },
  {
   "cell_type": "code",
   "execution_count": 28,
   "metadata": {},
   "outputs": [
    {
     "data": {
      "text/plain": [
       "Android    4930808\n",
       "iOS         615189\n",
       "Name: platform, dtype: int64"
      ]
     },
     "execution_count": 28,
     "metadata": {},
     "output_type": "execute_result"
    }
   ],
   "source": [
    "## seems like Android has more variance here as it accounts to alomost 89% of the platforms\n",
    "df_churn['platform'].value_counts()"
   ]
  },
  {
   "cell_type": "code",
   "execution_count": 29,
   "metadata": {},
   "outputs": [
    {
     "data": {
      "text/plain": [
       "0.8890751293230054"
      ]
     },
     "execution_count": 29,
     "metadata": {},
     "output_type": "execute_result"
    }
   ],
   "source": [
    "4930808/(4930808+615189)"
   ]
  },
  {
   "cell_type": "code",
   "execution_count": 30,
   "metadata": {},
   "outputs": [
    {
     "data": {
      "text/plain": [
       "0.8890751293230054"
      ]
     },
     "execution_count": 30,
     "metadata": {},
     "output_type": "execute_result"
    }
   ],
   "source": [
    "4930808/(4930808+615189)"
   ]
  },
  {
   "cell_type": "code",
   "execution_count": 31,
   "metadata": {},
   "outputs": [
    {
     "data": {
      "text/html": [
       "<div>\n",
       "<style scoped>\n",
       "    .dataframe tbody tr th:only-of-type {\n",
       "        vertical-align: middle;\n",
       "    }\n",
       "\n",
       "    .dataframe tbody tr th {\n",
       "        vertical-align: top;\n",
       "    }\n",
       "\n",
       "    .dataframe thead th {\n",
       "        text-align: right;\n",
       "    }\n",
       "</style>\n",
       "<table border=\"1\" class=\"dataframe\">\n",
       "  <thead>\n",
       "    <tr style=\"text-align: right;\">\n",
       "      <th></th>\n",
       "      <th>platform</th>\n",
       "      <th>country</th>\n",
       "      <th>device_model</th>\n",
       "      <th>categorical_1</th>\n",
       "      <th>categorical_2</th>\n",
       "      <th>categorical_3</th>\n",
       "      <th>categorical_4</th>\n",
       "      <th>categorical_5</th>\n",
       "      <th>categorical_6</th>\n",
       "      <th>categorical_7</th>\n",
       "    </tr>\n",
       "  </thead>\n",
       "  <tbody>\n",
       "    <tr>\n",
       "      <th>0</th>\n",
       "      <td>Android</td>\n",
       "      <td>WW</td>\n",
       "      <td>Moto E (4) Plus</td>\n",
       "      <td>FB2Cd102</td>\n",
       "      <td>408BCCd9</td>\n",
       "      <td>A2bEfD7e</td>\n",
       "      <td>94dAb3fC</td>\n",
       "      <td>dd21E110</td>\n",
       "      <td>6cCb423b</td>\n",
       "      <td>Cfc0BEa1</td>\n",
       "    </tr>\n",
       "    <tr>\n",
       "      <th>1</th>\n",
       "      <td>Android</td>\n",
       "      <td>EG</td>\n",
       "      <td>RMX1811</td>\n",
       "      <td>67AD0B6E</td>\n",
       "      <td>d7172d3e</td>\n",
       "      <td>aB5FcAd5</td>\n",
       "      <td>94dAb3fC</td>\n",
       "      <td>3D8Eafc7</td>\n",
       "      <td>58fdA94B</td>\n",
       "      <td>42279d35</td>\n",
       "    </tr>\n",
       "    <tr>\n",
       "      <th>2</th>\n",
       "      <td>Android</td>\n",
       "      <td>EG</td>\n",
       "      <td>D6503</td>\n",
       "      <td>67AD0B6E</td>\n",
       "      <td>d7172d3e</td>\n",
       "      <td>aB5FcAd5</td>\n",
       "      <td>94dAb3fC</td>\n",
       "      <td>3D8Eafc7</td>\n",
       "      <td>58fdA94B</td>\n",
       "      <td>eC0f2f3b</td>\n",
       "    </tr>\n",
       "    <tr>\n",
       "      <th>3</th>\n",
       "      <td>Android</td>\n",
       "      <td>IT</td>\n",
       "      <td>SM-J320FN</td>\n",
       "      <td>67AD0B6E</td>\n",
       "      <td>d7172d3e</td>\n",
       "      <td>aB5FcAd5</td>\n",
       "      <td>94dAb3fC</td>\n",
       "      <td>3D8Eafc7</td>\n",
       "      <td>58fdA94B</td>\n",
       "      <td>b6afFA07</td>\n",
       "    </tr>\n",
       "    <tr>\n",
       "      <th>4</th>\n",
       "      <td>Android</td>\n",
       "      <td>UA</td>\n",
       "      <td>Lenovo TB2-X30F</td>\n",
       "      <td>67AD0B6E</td>\n",
       "      <td>d7172d3e</td>\n",
       "      <td>aB5FcAd5</td>\n",
       "      <td>94dAb3fC</td>\n",
       "      <td>3D8Eafc7</td>\n",
       "      <td>58fdA94B</td>\n",
       "      <td>b6afFA07</td>\n",
       "    </tr>\n",
       "  </tbody>\n",
       "</table>\n",
       "</div>"
      ],
      "text/plain": [
       "  platform country     device_model categorical_1 categorical_2 categorical_3  \\\n",
       "0  Android      WW  Moto E (4) Plus      FB2Cd102      408BCCd9      A2bEfD7e   \n",
       "1  Android      EG          RMX1811      67AD0B6E      d7172d3e      aB5FcAd5   \n",
       "2  Android      EG            D6503      67AD0B6E      d7172d3e      aB5FcAd5   \n",
       "3  Android      IT        SM-J320FN      67AD0B6E      d7172d3e      aB5FcAd5   \n",
       "4  Android      UA  Lenovo TB2-X30F      67AD0B6E      d7172d3e      aB5FcAd5   \n",
       "\n",
       "  categorical_4 categorical_5 categorical_6 categorical_7  \n",
       "0      94dAb3fC      dd21E110      6cCb423b      Cfc0BEa1  \n",
       "1      94dAb3fC      3D8Eafc7      58fdA94B      42279d35  \n",
       "2      94dAb3fC      3D8Eafc7      58fdA94B      eC0f2f3b  \n",
       "3      94dAb3fC      3D8Eafc7      58fdA94B      b6afFA07  \n",
       "4      94dAb3fC      3D8Eafc7      58fdA94B      b6afFA07  "
      ]
     },
     "execution_count": 31,
     "metadata": {},
     "output_type": "execute_result"
    }
   ],
   "source": [
    "obj_df = df_churn.select_dtypes(include=['object']).copy()\n",
    "obj_df.head()"
   ]
  },
  {
   "cell_type": "code",
   "execution_count": 32,
   "metadata": {},
   "outputs": [],
   "source": [
    "## One Hot Encoding platform as both platforms should have same weight\n",
    "## We might also encode Android as 89 and ios as 11 based on frequency but that might lead to incorrect wieght information\n",
    "oe_style = OneHotEncoder()\n",
    "oe_results = oe_style.fit_transform(obj_df[[\"platform\"]])\n",
    "#pd.DataFrame(oe_results.toarray(), columns=oe_style.categories_).head()"
   ]
  },
  {
   "cell_type": "raw",
   "metadata": {},
   "source": [
    "pd.concat([pd.DataFrame(oe_results.toarray(), columns=oe_style.categories_),df_churn],  axis=1).head()"
   ]
  },
  {
   "cell_type": "code",
   "execution_count": 33,
   "metadata": {},
   "outputs": [],
   "source": [
    "df_plat = pd.concat([pd.DataFrame(oe_results.toarray(), columns=['platform_Android','platform_iOS']).astype('int64'),df_churn],  axis=1)"
   ]
  },
  {
   "cell_type": "code",
   "execution_count": 34,
   "metadata": {},
   "outputs": [],
   "source": [
    "df_plat = df_plat.drop('platform',axis = 1)"
   ]
  },
  {
   "cell_type": "code",
   "execution_count": 35,
   "metadata": {},
   "outputs": [
    {
     "data": {
      "text/html": [
       "<div>\n",
       "<style scoped>\n",
       "    .dataframe tbody tr th:only-of-type {\n",
       "        vertical-align: middle;\n",
       "    }\n",
       "\n",
       "    .dataframe tbody tr th {\n",
       "        vertical-align: top;\n",
       "    }\n",
       "\n",
       "    .dataframe thead th {\n",
       "        text-align: right;\n",
       "    }\n",
       "</style>\n",
       "<table border=\"1\" class=\"dataframe\">\n",
       "  <thead>\n",
       "    <tr style=\"text-align: right;\">\n",
       "      <th></th>\n",
       "      <th>platform_Android</th>\n",
       "      <th>platform_iOS</th>\n",
       "      <th>install_date</th>\n",
       "      <th>country</th>\n",
       "      <th>device_model</th>\n",
       "      <th>categorical_1</th>\n",
       "      <th>categorical_2</th>\n",
       "      <th>categorical_3</th>\n",
       "      <th>categorical_4</th>\n",
       "      <th>categorical_5</th>\n",
       "      <th>categorical_6</th>\n",
       "      <th>categorical_7</th>\n",
       "      <th>TutorialStart</th>\n",
       "      <th>TutorialStartPart1</th>\n",
       "      <th>TutorialStartPart2</th>\n",
       "      <th>TutorialStartPart3</th>\n",
       "      <th>TutorialStartPart4</th>\n",
       "      <th>TutorialStartPart5</th>\n",
       "      <th>TutorialStartPart6</th>\n",
       "      <th>TutorialFinish</th>\n",
       "      <th>StartBattle_sum_dsi0</th>\n",
       "      <th>StartBattle_sum_dsi1</th>\n",
       "      <th>StartBattle_sum_dsi2</th>\n",
       "      <th>StartBattle_sum_dsi3</th>\n",
       "      <th>PiggyBankModifiedPoints_sum_dsi0</th>\n",
       "      <th>PiggyBankModifiedPoints_sum_dsi1</th>\n",
       "      <th>PiggyBankModifiedPoints_sum_dsi2</th>\n",
       "      <th>PiggyBankModifiedPoints_sum_dsi3</th>\n",
       "      <th>OpenChest_sum_dsi0</th>\n",
       "      <th>OpenChest_sum_dsi1</th>\n",
       "      <th>OpenChest_sum_dsi2</th>\n",
       "      <th>OpenChest_sum_dsi3</th>\n",
       "      <th>StartSession_sum_dsi0</th>\n",
       "      <th>StartSession_sum_dsi1</th>\n",
       "      <th>StartSession_sum_dsi2</th>\n",
       "      <th>StartSession_sum_dsi3</th>\n",
       "      <th>WinBattle_sum_dsi0</th>\n",
       "      <th>WinBattle_sum_dsi1</th>\n",
       "      <th>WinBattle_sum_dsi2</th>\n",
       "      <th>WinBattle_sum_dsi3</th>\n",
       "      <th>LoseBattle_sum_dsi0</th>\n",
       "      <th>LoseBattle_sum_dsi1</th>\n",
       "      <th>LoseBattle_sum_dsi2</th>\n",
       "      <th>LoseBattle_sum_dsi3</th>\n",
       "      <th>EnterDeck_sum_dsi0</th>\n",
       "      <th>EnterDeck_sum_dsi1</th>\n",
       "      <th>EnterDeck_sum_dsi2</th>\n",
       "      <th>EnterDeck_sum_dsi3</th>\n",
       "      <th>StartGameplayModeBattle_sum_dsi0</th>\n",
       "      <th>StartGameplayModeBattle_sum_dsi1</th>\n",
       "      <th>StartGameplayModeBattle_sum_dsi2</th>\n",
       "      <th>StartGameplayModeBattle_sum_dsi3</th>\n",
       "      <th>UpgradeCard_sum_dsi0</th>\n",
       "      <th>UpgradeCard_sum_dsi1</th>\n",
       "      <th>UpgradeCard_sum_dsi2</th>\n",
       "      <th>UpgradeCard_sum_dsi3</th>\n",
       "      <th>EnterShop_sum_dsi0</th>\n",
       "      <th>EnterShop_sum_dsi1</th>\n",
       "      <th>EnterShop_sum_dsi2</th>\n",
       "      <th>EnterShop_sum_dsi3</th>\n",
       "      <th>BuyCard_sum_dsi0</th>\n",
       "      <th>BuyCard_sum_dsi1</th>\n",
       "      <th>BuyCard_sum_dsi2</th>\n",
       "      <th>BuyCard_sum_dsi3</th>\n",
       "      <th>StartTournamentBattle_sum_dsi0</th>\n",
       "      <th>StartTournamentBattle_sum_dsi1</th>\n",
       "      <th>StartTournamentBattle_sum_dsi2</th>\n",
       "      <th>StartTournamentBattle_sum_dsi3</th>\n",
       "      <th>WinTournamentBattle_sum_dsi0</th>\n",
       "      <th>WinTournamentBattle_sum_dsi1</th>\n",
       "      <th>WinTournamentBattle_sum_dsi2</th>\n",
       "      <th>WinTournamentBattle_sum_dsi3</th>\n",
       "      <th>LoseTournamentBattle_sum_dsi0</th>\n",
       "      <th>LoseTournamentBattle_sum_dsi1</th>\n",
       "      <th>LoseTournamentBattle_sum_dsi2</th>\n",
       "      <th>LoseTournamentBattle_sum_dsi3</th>\n",
       "      <th>ChangeArena_sum_dsi0</th>\n",
       "      <th>ChangeArena_sum_dsi1</th>\n",
       "      <th>ChangeArena_sum_dsi2</th>\n",
       "      <th>ChangeArena_sum_dsi3</th>\n",
       "      <th>JoinTournament_sum_dsi0</th>\n",
       "      <th>JoinTournament_sum_dsi1</th>\n",
       "      <th>JoinTournament_sum_dsi2</th>\n",
       "      <th>JoinTournament_sum_dsi3</th>\n",
       "      <th>QuitTournament_sum_dsi0</th>\n",
       "      <th>QuitTournament_sum_dsi1</th>\n",
       "      <th>QuitTournament_sum_dsi2</th>\n",
       "      <th>QuitTournament_sum_dsi3</th>\n",
       "      <th>OpenPiggyBank_sum_dsi0</th>\n",
       "      <th>OpenPiggyBank_sum_dsi1</th>\n",
       "      <th>OpenPiggyBank_sum_dsi2</th>\n",
       "      <th>OpenPiggyBank_sum_dsi3</th>\n",
       "      <th>soft_profit</th>\n",
       "      <th>hard_profit</th>\n",
       "      <th>Churn</th>\n",
       "    </tr>\n",
       "  </thead>\n",
       "  <tbody>\n",
       "    <tr>\n",
       "      <th>0</th>\n",
       "      <td>1</td>\n",
       "      <td>0</td>\n",
       "      <td>270</td>\n",
       "      <td>WW</td>\n",
       "      <td>Moto E (4) Plus</td>\n",
       "      <td>FB2Cd102</td>\n",
       "      <td>408BCCd9</td>\n",
       "      <td>A2bEfD7e</td>\n",
       "      <td>94dAb3fC</td>\n",
       "      <td>dd21E110</td>\n",
       "      <td>6cCb423b</td>\n",
       "      <td>Cfc0BEa1</td>\n",
       "      <td>1</td>\n",
       "      <td>1</td>\n",
       "      <td>1</td>\n",
       "      <td>1</td>\n",
       "      <td>1</td>\n",
       "      <td>1</td>\n",
       "      <td>1</td>\n",
       "      <td>1</td>\n",
       "      <td>5</td>\n",
       "      <td>18</td>\n",
       "      <td>1</td>\n",
       "      <td>2</td>\n",
       "      <td>4</td>\n",
       "      <td>12</td>\n",
       "      <td>3</td>\n",
       "      <td>3</td>\n",
       "      <td>9</td>\n",
       "      <td>11</td>\n",
       "      <td>3</td>\n",
       "      <td>3</td>\n",
       "      <td>8</td>\n",
       "      <td>2</td>\n",
       "      <td>1</td>\n",
       "      <td>2</td>\n",
       "      <td>1</td>\n",
       "      <td>13</td>\n",
       "      <td>0</td>\n",
       "      <td>1</td>\n",
       "      <td>2</td>\n",
       "      <td>1</td>\n",
       "      <td>0</td>\n",
       "      <td>0</td>\n",
       "      <td>5</td>\n",
       "      <td>10</td>\n",
       "      <td>1</td>\n",
       "      <td>1</td>\n",
       "      <td>0</td>\n",
       "      <td>0</td>\n",
       "      <td>0</td>\n",
       "      <td>0</td>\n",
       "      <td>8</td>\n",
       "      <td>5</td>\n",
       "      <td>0</td>\n",
       "      <td>2</td>\n",
       "      <td>3</td>\n",
       "      <td>3</td>\n",
       "      <td>0</td>\n",
       "      <td>0</td>\n",
       "      <td>1</td>\n",
       "      <td>0</td>\n",
       "      <td>0</td>\n",
       "      <td>0</td>\n",
       "      <td>0</td>\n",
       "      <td>0</td>\n",
       "      <td>0</td>\n",
       "      <td>0</td>\n",
       "      <td>0</td>\n",
       "      <td>0</td>\n",
       "      <td>0</td>\n",
       "      <td>0</td>\n",
       "      <td>0</td>\n",
       "      <td>0</td>\n",
       "      <td>0</td>\n",
       "      <td>0</td>\n",
       "      <td>1</td>\n",
       "      <td>1</td>\n",
       "      <td>0</td>\n",
       "      <td>0</td>\n",
       "      <td>0</td>\n",
       "      <td>0</td>\n",
       "      <td>0</td>\n",
       "      <td>0</td>\n",
       "      <td>0</td>\n",
       "      <td>0</td>\n",
       "      <td>0</td>\n",
       "      <td>0</td>\n",
       "      <td>0</td>\n",
       "      <td>0</td>\n",
       "      <td>0</td>\n",
       "      <td>0</td>\n",
       "      <td>383</td>\n",
       "      <td>-87</td>\n",
       "      <td>1</td>\n",
       "    </tr>\n",
       "    <tr>\n",
       "      <th>1</th>\n",
       "      <td>1</td>\n",
       "      <td>0</td>\n",
       "      <td>191</td>\n",
       "      <td>EG</td>\n",
       "      <td>RMX1811</td>\n",
       "      <td>67AD0B6E</td>\n",
       "      <td>d7172d3e</td>\n",
       "      <td>aB5FcAd5</td>\n",
       "      <td>94dAb3fC</td>\n",
       "      <td>3D8Eafc7</td>\n",
       "      <td>58fdA94B</td>\n",
       "      <td>42279d35</td>\n",
       "      <td>1</td>\n",
       "      <td>1</td>\n",
       "      <td>1</td>\n",
       "      <td>1</td>\n",
       "      <td>1</td>\n",
       "      <td>1</td>\n",
       "      <td>1</td>\n",
       "      <td>1</td>\n",
       "      <td>7</td>\n",
       "      <td>5</td>\n",
       "      <td>7</td>\n",
       "      <td>2</td>\n",
       "      <td>4</td>\n",
       "      <td>8</td>\n",
       "      <td>9</td>\n",
       "      <td>5</td>\n",
       "      <td>8</td>\n",
       "      <td>8</td>\n",
       "      <td>9</td>\n",
       "      <td>5</td>\n",
       "      <td>3</td>\n",
       "      <td>3</td>\n",
       "      <td>4</td>\n",
       "      <td>2</td>\n",
       "      <td>4</td>\n",
       "      <td>3</td>\n",
       "      <td>2</td>\n",
       "      <td>2</td>\n",
       "      <td>1</td>\n",
       "      <td>0</td>\n",
       "      <td>0</td>\n",
       "      <td>0</td>\n",
       "      <td>4</td>\n",
       "      <td>3</td>\n",
       "      <td>1</td>\n",
       "      <td>2</td>\n",
       "      <td>0</td>\n",
       "      <td>0</td>\n",
       "      <td>0</td>\n",
       "      <td>0</td>\n",
       "      <td>10</td>\n",
       "      <td>4</td>\n",
       "      <td>3</td>\n",
       "      <td>1</td>\n",
       "      <td>2</td>\n",
       "      <td>3</td>\n",
       "      <td>3</td>\n",
       "      <td>1</td>\n",
       "      <td>0</td>\n",
       "      <td>0</td>\n",
       "      <td>0</td>\n",
       "      <td>0</td>\n",
       "      <td>0</td>\n",
       "      <td>0</td>\n",
       "      <td>0</td>\n",
       "      <td>0</td>\n",
       "      <td>0</td>\n",
       "      <td>0</td>\n",
       "      <td>0</td>\n",
       "      <td>0</td>\n",
       "      <td>0</td>\n",
       "      <td>0</td>\n",
       "      <td>0</td>\n",
       "      <td>0</td>\n",
       "      <td>1</td>\n",
       "      <td>0</td>\n",
       "      <td>0</td>\n",
       "      <td>0</td>\n",
       "      <td>0</td>\n",
       "      <td>0</td>\n",
       "      <td>0</td>\n",
       "      <td>0</td>\n",
       "      <td>0</td>\n",
       "      <td>0</td>\n",
       "      <td>0</td>\n",
       "      <td>0</td>\n",
       "      <td>1</td>\n",
       "      <td>0</td>\n",
       "      <td>0</td>\n",
       "      <td>0</td>\n",
       "      <td>458</td>\n",
       "      <td>28</td>\n",
       "      <td>0</td>\n",
       "    </tr>\n",
       "    <tr>\n",
       "      <th>2</th>\n",
       "      <td>1</td>\n",
       "      <td>0</td>\n",
       "      <td>160</td>\n",
       "      <td>EG</td>\n",
       "      <td>D6503</td>\n",
       "      <td>67AD0B6E</td>\n",
       "      <td>d7172d3e</td>\n",
       "      <td>aB5FcAd5</td>\n",
       "      <td>94dAb3fC</td>\n",
       "      <td>3D8Eafc7</td>\n",
       "      <td>58fdA94B</td>\n",
       "      <td>eC0f2f3b</td>\n",
       "      <td>1</td>\n",
       "      <td>1</td>\n",
       "      <td>1</td>\n",
       "      <td>1</td>\n",
       "      <td>1</td>\n",
       "      <td>1</td>\n",
       "      <td>1</td>\n",
       "      <td>1</td>\n",
       "      <td>0</td>\n",
       "      <td>0</td>\n",
       "      <td>0</td>\n",
       "      <td>0</td>\n",
       "      <td>0</td>\n",
       "      <td>0</td>\n",
       "      <td>0</td>\n",
       "      <td>0</td>\n",
       "      <td>5</td>\n",
       "      <td>0</td>\n",
       "      <td>0</td>\n",
       "      <td>0</td>\n",
       "      <td>4</td>\n",
       "      <td>1</td>\n",
       "      <td>0</td>\n",
       "      <td>3</td>\n",
       "      <td>0</td>\n",
       "      <td>0</td>\n",
       "      <td>0</td>\n",
       "      <td>0</td>\n",
       "      <td>0</td>\n",
       "      <td>0</td>\n",
       "      <td>0</td>\n",
       "      <td>0</td>\n",
       "      <td>2</td>\n",
       "      <td>0</td>\n",
       "      <td>0</td>\n",
       "      <td>0</td>\n",
       "      <td>0</td>\n",
       "      <td>0</td>\n",
       "      <td>0</td>\n",
       "      <td>0</td>\n",
       "      <td>4</td>\n",
       "      <td>0</td>\n",
       "      <td>0</td>\n",
       "      <td>0</td>\n",
       "      <td>0</td>\n",
       "      <td>0</td>\n",
       "      <td>0</td>\n",
       "      <td>0</td>\n",
       "      <td>0</td>\n",
       "      <td>0</td>\n",
       "      <td>0</td>\n",
       "      <td>0</td>\n",
       "      <td>0</td>\n",
       "      <td>0</td>\n",
       "      <td>0</td>\n",
       "      <td>0</td>\n",
       "      <td>0</td>\n",
       "      <td>0</td>\n",
       "      <td>0</td>\n",
       "      <td>0</td>\n",
       "      <td>0</td>\n",
       "      <td>0</td>\n",
       "      <td>0</td>\n",
       "      <td>0</td>\n",
       "      <td>1</td>\n",
       "      <td>0</td>\n",
       "      <td>0</td>\n",
       "      <td>0</td>\n",
       "      <td>0</td>\n",
       "      <td>0</td>\n",
       "      <td>0</td>\n",
       "      <td>0</td>\n",
       "      <td>0</td>\n",
       "      <td>0</td>\n",
       "      <td>0</td>\n",
       "      <td>0</td>\n",
       "      <td>0</td>\n",
       "      <td>0</td>\n",
       "      <td>0</td>\n",
       "      <td>0</td>\n",
       "      <td>54</td>\n",
       "      <td>-1</td>\n",
       "      <td>0</td>\n",
       "    </tr>\n",
       "    <tr>\n",
       "      <th>3</th>\n",
       "      <td>1</td>\n",
       "      <td>0</td>\n",
       "      <td>59</td>\n",
       "      <td>IT</td>\n",
       "      <td>SM-J320FN</td>\n",
       "      <td>67AD0B6E</td>\n",
       "      <td>d7172d3e</td>\n",
       "      <td>aB5FcAd5</td>\n",
       "      <td>94dAb3fC</td>\n",
       "      <td>3D8Eafc7</td>\n",
       "      <td>58fdA94B</td>\n",
       "      <td>b6afFA07</td>\n",
       "      <td>1</td>\n",
       "      <td>1</td>\n",
       "      <td>1</td>\n",
       "      <td>1</td>\n",
       "      <td>1</td>\n",
       "      <td>1</td>\n",
       "      <td>1</td>\n",
       "      <td>1</td>\n",
       "      <td>0</td>\n",
       "      <td>11</td>\n",
       "      <td>0</td>\n",
       "      <td>0</td>\n",
       "      <td>0</td>\n",
       "      <td>8</td>\n",
       "      <td>0</td>\n",
       "      <td>2</td>\n",
       "      <td>4</td>\n",
       "      <td>9</td>\n",
       "      <td>0</td>\n",
       "      <td>2</td>\n",
       "      <td>1</td>\n",
       "      <td>8</td>\n",
       "      <td>0</td>\n",
       "      <td>1</td>\n",
       "      <td>0</td>\n",
       "      <td>4</td>\n",
       "      <td>0</td>\n",
       "      <td>0</td>\n",
       "      <td>0</td>\n",
       "      <td>3</td>\n",
       "      <td>0</td>\n",
       "      <td>0</td>\n",
       "      <td>5</td>\n",
       "      <td>4</td>\n",
       "      <td>0</td>\n",
       "      <td>1</td>\n",
       "      <td>0</td>\n",
       "      <td>0</td>\n",
       "      <td>0</td>\n",
       "      <td>0</td>\n",
       "      <td>3</td>\n",
       "      <td>8</td>\n",
       "      <td>0</td>\n",
       "      <td>3</td>\n",
       "      <td>1</td>\n",
       "      <td>6</td>\n",
       "      <td>0</td>\n",
       "      <td>1</td>\n",
       "      <td>0</td>\n",
       "      <td>0</td>\n",
       "      <td>0</td>\n",
       "      <td>0</td>\n",
       "      <td>0</td>\n",
       "      <td>0</td>\n",
       "      <td>0</td>\n",
       "      <td>0</td>\n",
       "      <td>0</td>\n",
       "      <td>0</td>\n",
       "      <td>0</td>\n",
       "      <td>0</td>\n",
       "      <td>0</td>\n",
       "      <td>0</td>\n",
       "      <td>0</td>\n",
       "      <td>0</td>\n",
       "      <td>1</td>\n",
       "      <td>0</td>\n",
       "      <td>0</td>\n",
       "      <td>0</td>\n",
       "      <td>0</td>\n",
       "      <td>0</td>\n",
       "      <td>0</td>\n",
       "      <td>0</td>\n",
       "      <td>0</td>\n",
       "      <td>0</td>\n",
       "      <td>0</td>\n",
       "      <td>0</td>\n",
       "      <td>0</td>\n",
       "      <td>1</td>\n",
       "      <td>0</td>\n",
       "      <td>0</td>\n",
       "      <td>402</td>\n",
       "      <td>-13</td>\n",
       "      <td>1</td>\n",
       "    </tr>\n",
       "    <tr>\n",
       "      <th>4</th>\n",
       "      <td>1</td>\n",
       "      <td>0</td>\n",
       "      <td>13</td>\n",
       "      <td>UA</td>\n",
       "      <td>Lenovo TB2-X30F</td>\n",
       "      <td>67AD0B6E</td>\n",
       "      <td>d7172d3e</td>\n",
       "      <td>aB5FcAd5</td>\n",
       "      <td>94dAb3fC</td>\n",
       "      <td>3D8Eafc7</td>\n",
       "      <td>58fdA94B</td>\n",
       "      <td>b6afFA07</td>\n",
       "      <td>1</td>\n",
       "      <td>1</td>\n",
       "      <td>1</td>\n",
       "      <td>1</td>\n",
       "      <td>1</td>\n",
       "      <td>1</td>\n",
       "      <td>1</td>\n",
       "      <td>1</td>\n",
       "      <td>6</td>\n",
       "      <td>8</td>\n",
       "      <td>9</td>\n",
       "      <td>8</td>\n",
       "      <td>5</td>\n",
       "      <td>10</td>\n",
       "      <td>5</td>\n",
       "      <td>7</td>\n",
       "      <td>10</td>\n",
       "      <td>10</td>\n",
       "      <td>5</td>\n",
       "      <td>7</td>\n",
       "      <td>1</td>\n",
       "      <td>4</td>\n",
       "      <td>6</td>\n",
       "      <td>4</td>\n",
       "      <td>2</td>\n",
       "      <td>6</td>\n",
       "      <td>4</td>\n",
       "      <td>5</td>\n",
       "      <td>4</td>\n",
       "      <td>2</td>\n",
       "      <td>5</td>\n",
       "      <td>3</td>\n",
       "      <td>10</td>\n",
       "      <td>6</td>\n",
       "      <td>5</td>\n",
       "      <td>5</td>\n",
       "      <td>0</td>\n",
       "      <td>0</td>\n",
       "      <td>0</td>\n",
       "      <td>0</td>\n",
       "      <td>8</td>\n",
       "      <td>9</td>\n",
       "      <td>0</td>\n",
       "      <td>5</td>\n",
       "      <td>4</td>\n",
       "      <td>4</td>\n",
       "      <td>3</td>\n",
       "      <td>0</td>\n",
       "      <td>0</td>\n",
       "      <td>0</td>\n",
       "      <td>0</td>\n",
       "      <td>0</td>\n",
       "      <td>0</td>\n",
       "      <td>0</td>\n",
       "      <td>0</td>\n",
       "      <td>0</td>\n",
       "      <td>0</td>\n",
       "      <td>0</td>\n",
       "      <td>0</td>\n",
       "      <td>0</td>\n",
       "      <td>0</td>\n",
       "      <td>0</td>\n",
       "      <td>0</td>\n",
       "      <td>0</td>\n",
       "      <td>1</td>\n",
       "      <td>0</td>\n",
       "      <td>0</td>\n",
       "      <td>0</td>\n",
       "      <td>0</td>\n",
       "      <td>0</td>\n",
       "      <td>0</td>\n",
       "      <td>0</td>\n",
       "      <td>0</td>\n",
       "      <td>0</td>\n",
       "      <td>0</td>\n",
       "      <td>0</td>\n",
       "      <td>1</td>\n",
       "      <td>0</td>\n",
       "      <td>0</td>\n",
       "      <td>0</td>\n",
       "      <td>0</td>\n",
       "      <td>0</td>\n",
       "      <td>0</td>\n",
       "    </tr>\n",
       "  </tbody>\n",
       "</table>\n",
       "</div>"
      ],
      "text/plain": [
       "   platform_Android  platform_iOS  install_date country     device_model  \\\n",
       "0                 1             0           270      WW  Moto E (4) Plus   \n",
       "1                 1             0           191      EG          RMX1811   \n",
       "2                 1             0           160      EG            D6503   \n",
       "3                 1             0            59      IT        SM-J320FN   \n",
       "4                 1             0            13      UA  Lenovo TB2-X30F   \n",
       "\n",
       "  categorical_1 categorical_2 categorical_3 categorical_4 categorical_5  \\\n",
       "0      FB2Cd102      408BCCd9      A2bEfD7e      94dAb3fC      dd21E110   \n",
       "1      67AD0B6E      d7172d3e      aB5FcAd5      94dAb3fC      3D8Eafc7   \n",
       "2      67AD0B6E      d7172d3e      aB5FcAd5      94dAb3fC      3D8Eafc7   \n",
       "3      67AD0B6E      d7172d3e      aB5FcAd5      94dAb3fC      3D8Eafc7   \n",
       "4      67AD0B6E      d7172d3e      aB5FcAd5      94dAb3fC      3D8Eafc7   \n",
       "\n",
       "  categorical_6 categorical_7  TutorialStart  TutorialStartPart1  \\\n",
       "0      6cCb423b      Cfc0BEa1              1                   1   \n",
       "1      58fdA94B      42279d35              1                   1   \n",
       "2      58fdA94B      eC0f2f3b              1                   1   \n",
       "3      58fdA94B      b6afFA07              1                   1   \n",
       "4      58fdA94B      b6afFA07              1                   1   \n",
       "\n",
       "   TutorialStartPart2  TutorialStartPart3  TutorialStartPart4  \\\n",
       "0                   1                   1                   1   \n",
       "1                   1                   1                   1   \n",
       "2                   1                   1                   1   \n",
       "3                   1                   1                   1   \n",
       "4                   1                   1                   1   \n",
       "\n",
       "   TutorialStartPart5  TutorialStartPart6  TutorialFinish  \\\n",
       "0                   1                   1               1   \n",
       "1                   1                   1               1   \n",
       "2                   1                   1               1   \n",
       "3                   1                   1               1   \n",
       "4                   1                   1               1   \n",
       "\n",
       "   StartBattle_sum_dsi0  StartBattle_sum_dsi1  StartBattle_sum_dsi2  \\\n",
       "0                     5                    18                     1   \n",
       "1                     7                     5                     7   \n",
       "2                     0                     0                     0   \n",
       "3                     0                    11                     0   \n",
       "4                     6                     8                     9   \n",
       "\n",
       "   StartBattle_sum_dsi3  PiggyBankModifiedPoints_sum_dsi0  \\\n",
       "0                     2                                 4   \n",
       "1                     2                                 4   \n",
       "2                     0                                 0   \n",
       "3                     0                                 0   \n",
       "4                     8                                 5   \n",
       "\n",
       "   PiggyBankModifiedPoints_sum_dsi1  PiggyBankModifiedPoints_sum_dsi2  \\\n",
       "0                                12                                 3   \n",
       "1                                 8                                 9   \n",
       "2                                 0                                 0   \n",
       "3                                 8                                 0   \n",
       "4                                10                                 5   \n",
       "\n",
       "   PiggyBankModifiedPoints_sum_dsi3  OpenChest_sum_dsi0  OpenChest_sum_dsi1  \\\n",
       "0                                 3                   9                  11   \n",
       "1                                 5                   8                   8   \n",
       "2                                 0                   5                   0   \n",
       "3                                 2                   4                   9   \n",
       "4                                 7                  10                  10   \n",
       "\n",
       "   OpenChest_sum_dsi2  OpenChest_sum_dsi3  StartSession_sum_dsi0  \\\n",
       "0                   3                   3                      8   \n",
       "1                   9                   5                      3   \n",
       "2                   0                   0                      4   \n",
       "3                   0                   2                      1   \n",
       "4                   5                   7                      1   \n",
       "\n",
       "   StartSession_sum_dsi1  StartSession_sum_dsi2  StartSession_sum_dsi3  \\\n",
       "0                      2                      1                      2   \n",
       "1                      3                      4                      2   \n",
       "2                      1                      0                      3   \n",
       "3                      8                      0                      1   \n",
       "4                      4                      6                      4   \n",
       "\n",
       "   WinBattle_sum_dsi0  WinBattle_sum_dsi1  WinBattle_sum_dsi2  \\\n",
       "0                   1                  13                   0   \n",
       "1                   4                   3                   2   \n",
       "2                   0                   0                   0   \n",
       "3                   0                   4                   0   \n",
       "4                   2                   6                   4   \n",
       "\n",
       "   WinBattle_sum_dsi3  LoseBattle_sum_dsi0  LoseBattle_sum_dsi1  \\\n",
       "0                   1                    2                    1   \n",
       "1                   2                    1                    0   \n",
       "2                   0                    0                    0   \n",
       "3                   0                    0                    3   \n",
       "4                   5                    4                    2   \n",
       "\n",
       "   LoseBattle_sum_dsi2  LoseBattle_sum_dsi3  EnterDeck_sum_dsi0  \\\n",
       "0                    0                    0                   5   \n",
       "1                    0                    0                   4   \n",
       "2                    0                    0                   2   \n",
       "3                    0                    0                   5   \n",
       "4                    5                    3                  10   \n",
       "\n",
       "   EnterDeck_sum_dsi1  EnterDeck_sum_dsi2  EnterDeck_sum_dsi3  \\\n",
       "0                  10                   1                   1   \n",
       "1                   3                   1                   2   \n",
       "2                   0                   0                   0   \n",
       "3                   4                   0                   1   \n",
       "4                   6                   5                   5   \n",
       "\n",
       "   StartGameplayModeBattle_sum_dsi0  StartGameplayModeBattle_sum_dsi1  \\\n",
       "0                                 0                                 0   \n",
       "1                                 0                                 0   \n",
       "2                                 0                                 0   \n",
       "3                                 0                                 0   \n",
       "4                                 0                                 0   \n",
       "\n",
       "   StartGameplayModeBattle_sum_dsi2  StartGameplayModeBattle_sum_dsi3  \\\n",
       "0                                 0                                 0   \n",
       "1                                 0                                 0   \n",
       "2                                 0                                 0   \n",
       "3                                 0                                 0   \n",
       "4                                 0                                 0   \n",
       "\n",
       "   UpgradeCard_sum_dsi0  UpgradeCard_sum_dsi1  UpgradeCard_sum_dsi2  \\\n",
       "0                     8                     5                     0   \n",
       "1                    10                     4                     3   \n",
       "2                     4                     0                     0   \n",
       "3                     3                     8                     0   \n",
       "4                     8                     9                     0   \n",
       "\n",
       "   UpgradeCard_sum_dsi3  EnterShop_sum_dsi0  EnterShop_sum_dsi1  \\\n",
       "0                     2                   3                   3   \n",
       "1                     1                   2                   3   \n",
       "2                     0                   0                   0   \n",
       "3                     3                   1                   6   \n",
       "4                     5                   4                   4   \n",
       "\n",
       "   EnterShop_sum_dsi2  EnterShop_sum_dsi3  BuyCard_sum_dsi0  BuyCard_sum_dsi1  \\\n",
       "0                   0                   0                 1                 0   \n",
       "1                   3                   1                 0                 0   \n",
       "2                   0                   0                 0                 0   \n",
       "3                   0                   1                 0                 0   \n",
       "4                   3                   0                 0                 0   \n",
       "\n",
       "   BuyCard_sum_dsi2  BuyCard_sum_dsi3  StartTournamentBattle_sum_dsi0  \\\n",
       "0                 0                 0                               0   \n",
       "1                 0                 0                               0   \n",
       "2                 0                 0                               0   \n",
       "3                 0                 0                               0   \n",
       "4                 0                 0                               0   \n",
       "\n",
       "   StartTournamentBattle_sum_dsi1  StartTournamentBattle_sum_dsi2  \\\n",
       "0                               0                               0   \n",
       "1                               0                               0   \n",
       "2                               0                               0   \n",
       "3                               0                               0   \n",
       "4                               0                               0   \n",
       "\n",
       "   StartTournamentBattle_sum_dsi3  WinTournamentBattle_sum_dsi0  \\\n",
       "0                               0                             0   \n",
       "1                               0                             0   \n",
       "2                               0                             0   \n",
       "3                               0                             0   \n",
       "4                               0                             0   \n",
       "\n",
       "   WinTournamentBattle_sum_dsi1  WinTournamentBattle_sum_dsi2  \\\n",
       "0                             0                             0   \n",
       "1                             0                             0   \n",
       "2                             0                             0   \n",
       "3                             0                             0   \n",
       "4                             0                             0   \n",
       "\n",
       "   WinTournamentBattle_sum_dsi3  LoseTournamentBattle_sum_dsi0  \\\n",
       "0                             0                              0   \n",
       "1                             0                              0   \n",
       "2                             0                              0   \n",
       "3                             0                              0   \n",
       "4                             0                              0   \n",
       "\n",
       "   LoseTournamentBattle_sum_dsi1  LoseTournamentBattle_sum_dsi2  \\\n",
       "0                              0                              0   \n",
       "1                              0                              0   \n",
       "2                              0                              0   \n",
       "3                              0                              0   \n",
       "4                              0                              0   \n",
       "\n",
       "   LoseTournamentBattle_sum_dsi3  ChangeArena_sum_dsi0  ChangeArena_sum_dsi1  \\\n",
       "0                              0                     1                     1   \n",
       "1                              0                     1                     0   \n",
       "2                              0                     1                     0   \n",
       "3                              0                     1                     0   \n",
       "4                              0                     1                     0   \n",
       "\n",
       "   ChangeArena_sum_dsi2  ChangeArena_sum_dsi3  JoinTournament_sum_dsi0  \\\n",
       "0                     0                     0                        0   \n",
       "1                     0                     0                        0   \n",
       "2                     0                     0                        0   \n",
       "3                     0                     0                        0   \n",
       "4                     0                     0                        0   \n",
       "\n",
       "   JoinTournament_sum_dsi1  JoinTournament_sum_dsi2  JoinTournament_sum_dsi3  \\\n",
       "0                        0                        0                        0   \n",
       "1                        0                        0                        0   \n",
       "2                        0                        0                        0   \n",
       "3                        0                        0                        0   \n",
       "4                        0                        0                        0   \n",
       "\n",
       "   QuitTournament_sum_dsi0  QuitTournament_sum_dsi1  QuitTournament_sum_dsi2  \\\n",
       "0                        0                        0                        0   \n",
       "1                        0                        0                        0   \n",
       "2                        0                        0                        0   \n",
       "3                        0                        0                        0   \n",
       "4                        0                        0                        0   \n",
       "\n",
       "   QuitTournament_sum_dsi3  OpenPiggyBank_sum_dsi0  OpenPiggyBank_sum_dsi1  \\\n",
       "0                        0                       0                       0   \n",
       "1                        0                       1                       0   \n",
       "2                        0                       0                       0   \n",
       "3                        0                       0                       1   \n",
       "4                        0                       1                       0   \n",
       "\n",
       "   OpenPiggyBank_sum_dsi2  OpenPiggyBank_sum_dsi3  soft_profit  hard_profit  \\\n",
       "0                       0                       0          383          -87   \n",
       "1                       0                       0          458           28   \n",
       "2                       0                       0           54           -1   \n",
       "3                       0                       0          402          -13   \n",
       "4                       0                       0            0            0   \n",
       "\n",
       "   Churn  \n",
       "0      1  \n",
       "1      0  \n",
       "2      0  \n",
       "3      1  \n",
       "4      0  "
      ]
     },
     "execution_count": 35,
     "metadata": {},
     "output_type": "execute_result"
    }
   ],
   "source": [
    "df_plat.head()"
   ]
  },
  {
   "cell_type": "code",
   "execution_count": null,
   "metadata": {},
   "outputs": [],
   "source": []
  },
  {
   "cell_type": "code",
   "execution_count": null,
   "metadata": {},
   "outputs": [],
   "source": []
  },
  {
   "cell_type": "code",
   "execution_count": null,
   "metadata": {},
   "outputs": [],
   "source": []
  },
  {
   "cell_type": "code",
   "execution_count": null,
   "metadata": {},
   "outputs": [],
   "source": []
  },
  {
   "cell_type": "code",
   "execution_count": 36,
   "metadata": {},
   "outputs": [],
   "source": [
    "# Training first baseline model using Catboost, since we still have 9 Categorical variables"
   ]
  },
  {
   "cell_type": "code",
   "execution_count": null,
   "metadata": {},
   "outputs": [],
   "source": []
  },
  {
   "cell_type": "code",
   "execution_count": 37,
   "metadata": {},
   "outputs": [],
   "source": [
    "target = df_plat.loc[:,df_plat.columns == 'Churn']\n",
    "features = df_plat.loc[:, df_plat.columns != 'Churn'] "
   ]
  },
  {
   "cell_type": "code",
   "execution_count": 38,
   "metadata": {},
   "outputs": [],
   "source": [
    "features,target = shuffle(features, target, random_state=20)"
   ]
  },
  {
   "cell_type": "code",
   "execution_count": 39,
   "metadata": {},
   "outputs": [
    {
     "data": {
      "text/plain": [
       "[3, 4, 5, 6, 7, 8, 9, 10, 11]"
      ]
     },
     "execution_count": 39,
     "metadata": {},
     "output_type": "execute_result"
    }
   ],
   "source": [
    "## list the indices of all the categorical columns\n",
    "cat_columns = list(set(df_plat.columns) - set(df_plat._get_numeric_data().columns))\n",
    "categorical_features_indices = []\n",
    "for n,i in enumerate(list(features.columns)):\n",
    "    if i in cat_columns:\n",
    "        categorical_features_indices.append(n)\n",
    "categorical_features_indices"
   ]
  },
  {
   "cell_type": "code",
   "execution_count": 40,
   "metadata": {},
   "outputs": [
    {
     "data": {
      "text/plain": [
       "5545997"
      ]
     },
     "execution_count": 40,
     "metadata": {},
     "output_type": "execute_result"
    }
   ],
   "source": [
    "len(target)"
   ]
  },
  {
   "cell_type": "code",
   "execution_count": 41,
   "metadata": {},
   "outputs": [],
   "source": [
    "X_train, X_val, y_train, y_val = train_test_split(features,\n",
    "                                                    target,\n",
    "                                                    stratify = target,\n",
    "                                                    test_size=0.30, random_state = 20)"
   ]
  },
  {
   "cell_type": "code",
   "execution_count": 42,
   "metadata": {},
   "outputs": [
    {
     "data": {
      "text/plain": [
       "Churn\n",
       "0        1188718\n",
       "1         475082\n",
       "dtype: int64"
      ]
     },
     "execution_count": 42,
     "metadata": {},
     "output_type": "execute_result"
    }
   ],
   "source": [
    "y_val.value_counts()"
   ]
  },
  {
   "cell_type": "code",
   "execution_count": 43,
   "metadata": {},
   "outputs": [
    {
     "data": {
      "text/plain": [
       "2.5021322634829355"
      ]
     },
     "execution_count": 43,
     "metadata": {},
     "output_type": "execute_result"
    }
   ],
   "source": [
    "1188718/475082"
   ]
  },
  {
   "cell_type": "code",
   "execution_count": 44,
   "metadata": {},
   "outputs": [
    {
     "data": {
      "text/plain": [
       "Churn\n",
       "0        2773673\n",
       "1        1108524\n",
       "dtype: int64"
      ]
     },
     "execution_count": 44,
     "metadata": {},
     "output_type": "execute_result"
    }
   ],
   "source": [
    "y_train.value_counts()"
   ]
  },
  {
   "cell_type": "code",
   "execution_count": 45,
   "metadata": {},
   "outputs": [
    {
     "data": {
      "text/plain": [
       "2.502131663364979"
      ]
     },
     "execution_count": 45,
     "metadata": {},
     "output_type": "execute_result"
    }
   ],
   "source": [
    "2773673/1108524"
   ]
  },
  {
   "cell_type": "code",
   "execution_count": 46,
   "metadata": {},
   "outputs": [
    {
     "data": {
      "text/plain": [
       "2.502131663364979"
      ]
     },
     "execution_count": 46,
     "metadata": {},
     "output_type": "execute_result"
    }
   ],
   "source": [
    "## calculating the scale_pos_weight; The weight for class 1 in binary classification. \n",
    "## The value is used as a multiplier for the weights of objects from class 1.\n",
    "counts_elements = np.unique(y_train, return_counts=True)\n",
    "scale_weight = counts_elements[1][0]/counts_elements[1][1]\n",
    "scale_weight"
   ]
  },
  {
   "cell_type": "code",
   "execution_count": 48,
   "metadata": {},
   "outputs": [],
   "source": [
    "train_dataset = Pool(data=X_train,\n",
    "                        label=y_train,\n",
    "                        cat_features=categorical_features_indices)"
   ]
  },
  {
   "cell_type": "code",
   "execution_count": null,
   "metadata": {},
   "outputs": [],
   "source": [
    "BASELINE MODEL:\n",
    "\n",
    "train_dataset = Pool(data=X_train,\n",
    "                        label=y_train,\n",
    "                        cat_features=categorical_features_indices)\n",
    "\n",
    "eval_dataset = Pool(data=X_val,\n",
    "                    label=y_val,\n",
    "                    cat_features=categorical_features_indices)\n",
    "\n",
    "model = CatBoostClassifier(iterations= 6000,\n",
    "                           eval_metric='AUC',\n",
    "                           #custom_metric = ['AUC','F1', 'Precision', 'Recall'],\n",
    "                           ## Logloss for imbalanced dataset\n",
    "                           ## CrossEntropy for probabilities in target\n",
    "                           depth = 7,\n",
    "                           learning_rate = 0.2,\n",
    "                           loss_function = 'Logloss',\n",
    "                           boosting_type = 'Plain',\n",
    "                           #class_weights = class_weights,\n",
    "                           scale_pos_weight = scale_weight,\n",
    "                           #model_size_reg = 0, -- this is not implemented for GPU usage in Catboost\n",
    "                           od_type = 'Iter',\n",
    "                           early_stopping_rounds = 300,## rounds to wait if the accuracy does not increases\n",
    "                           random_seed = 1234\n",
    "                           \n",
    "                          )\n",
    "\n",
    "Took 95 minutes as I did not put correct early stopping rounds\n",
    "best AUC of 71 with best iteration at 1549\n",
    "\n",
    "Best Score\n",
    "\n",
    "{'learn': {'Logloss': 0.5923373534611723},\n",
    " 'validation': {'Logloss': 0.620210294781124, 'AUC': 0.7102109893663907}}"
   ]
  },
  {
   "cell_type": "code",
   "execution_count": null,
   "metadata": {},
   "outputs": [],
   "source": [
    "\n",
    "train_dataset = Pool(data=X_train,\n",
    "                        label=y_train,\n",
    "                        cat_features=categorical_features_indices)\n",
    "\n",
    "eval_dataset = Pool(data=X_val,\n",
    "                    label=y_val,\n",
    "                    cat_features=categorical_features_indices)\n",
    "\n",
    "model = CatBoostClassifier(iterations= 6000,\n",
    "                           eval_metric='AUC',\n",
    "                           #custom_metric = ['AUC','F1', 'Precision', 'Recall'],\n",
    "                           ## Logloss for imbalanced dataset\n",
    "                           ## CrossEntropy for probabilities in target\n",
    "                           depth = 7,\n",
    "                           learning_rate = 0.2,\n",
    "                           loss_function = 'Logloss',\n",
    "                           boosting_type = 'Plain',\n",
    "                           #class_weights = class_weights,\n",
    "                           scale_pos_weight = scale_weight,\n",
    "                           #model_size_reg = 0, -- this is not implemented for GPU usage in Catboost\n",
    "                           od_type = 'Iter',\n",
    "                           early_stopping_rounds = 300,## rounds to wait if the accuracy does not increases\n",
    "                           random_seed = 1234\n",
    "                           \n",
    "                          )\n",
    "\n"
   ]
  },
  {
   "cell_type": "code",
   "execution_count": null,
   "metadata": {},
   "outputs": [],
   "source": [
    "model.fit(train_dataset,\n",
    "          use_best_model=True,\n",
    "          eval_set=eval_dataset,\n",
    "          verbose=False, ## to stop printing info of every Iteration\n",
    "          plot = True\n",
    "         )"
   ]
  },
  {
   "cell_type": "code",
   "execution_count": null,
   "metadata": {},
   "outputs": [],
   "source": [
    "model.get_best_iteration()"
   ]
  },
  {
   "cell_type": "code",
   "execution_count": null,
   "metadata": {},
   "outputs": [],
   "source": [
    "model.get_best_score()"
   ]
  },
  {
   "cell_type": "code",
   "execution_count": null,
   "metadata": {},
   "outputs": [],
   "source": [
    "with open('catboost_baseline.pickle', 'wb') as handle:\n",
    "    b = pickle.dump(model,handle)"
   ]
  },
  {
   "cell_type": "raw",
   "metadata": {},
   "source": [
    "with open('catboost_baseline.pickle', 'rb') as handle:\n",
    "    model = pickle.load(handle)"
   ]
  },
  {
   "cell_type": "code",
   "execution_count": null,
   "metadata": {},
   "outputs": [],
   "source": []
  },
  {
   "cell_type": "code",
   "execution_count": null,
   "metadata": {},
   "outputs": [],
   "source": [
    "## defining an ROC curve\n",
    "def calculate_score_on_dataset_and_show_graph(X, y, model):\n",
    "    import sklearn.metrics\n",
    "    import matplotlib.pylab as pl\n",
    "    pl.style.use('ggplot')\n",
    "    pl.figure(figsize = (10,7))\n",
    "    dataset = Pool(data=X,\n",
    "                    label=y,\n",
    "                    cat_features=np.where(X.dtypes != np.int64)[0])\n",
    "    #fpr, tpr, __ = cbu.get_roc_curve(model, dataset, plot = True )\n",
    "    fpr, tpr, thresholds = cbu.get_roc_curve(model, dataset, plot=True)\n",
    "    roc_curve_values= cbu.get_roc_curve(model, dataset, plot=False)\n",
    "    auc = sklearn.metrics.auc(fpr, tpr)\n",
    "    print('AUC',' ',auc)\n",
    "    return auc,roc_curve_values"
   ]
  },
  {
   "cell_type": "code",
   "execution_count": null,
   "metadata": {},
   "outputs": [],
   "source": [
    "## Plotting an ROC Curve\n",
    "auc,roc_curve_values = calculate_score_on_dataset_and_show_graph(X_val, y_val, model)"
   ]
  },
  {
   "cell_type": "code",
   "execution_count": null,
   "metadata": {},
   "outputs": [],
   "source": [
    "### CLassification Report\n",
    "from sklearn.metrics import classification_report\n",
    "print ('\\nClasification report:\\n', classification_report(y_val, y_pred))"
   ]
  },
  {
   "cell_type": "code",
   "execution_count": null,
   "metadata": {},
   "outputs": [],
   "source": []
  },
  {
   "cell_type": "code",
   "execution_count": 50,
   "metadata": {},
   "outputs": [],
   "source": [
    "## Using type as FeatureImportance: \n",
    "## Equal to PredictionValuesChange for non-ranking metrics and LossFunctionChange for ranking metrics.\n",
    "feature_importances = model.get_feature_importance(data=train_dataset,\n",
    "                       type='FeatureImportance',\n",
    "                       prettified=True,\n",
    "                       thread_count=-1,\n",
    "                       verbose=False)"
   ]
  },
  {
   "cell_type": "code",
   "execution_count": 51,
   "metadata": {},
   "outputs": [
    {
     "data": {
      "image/png": "[encoded data removed]",
      "text/plain": [
       "<Figure size 1440x720 with 1 Axes>"
      ]
     },
     "metadata": {},
     "output_type": "display_data"
    }
   ],
   "source": [
    "## from the below graph we can see almost 30 columns account to 70 percent of the total Importance\n",
    "plt.rcParams[\"figure.figsize\"] = (20,10)\n",
    "ax = feature_importances.plot('Feature Id', 'Importances', kind='bar', color='c')\n",
    "ax.set_title(\"Catboost Feature Importance Ranking\", fontsize = 14)\n",
    "ax.set_xlabel('')\n",
    "\n",
    "rects = ax.patches\n",
    "\n",
    "# get feature score as labels, converting Importancs to integer just to visualize properly round to 2 decimal\n",
    "labels = feature_importances['Importances'].astype('int')\n",
    "\n",
    "for rect, label in zip(rects, labels):\n",
    "    height = rect.get_height()\n",
    "    ax.text(rect.get_x() + rect.get_width()/2, height + 0.35, label, ha='center', va='bottom')\n",
    "\n",
    "plt.show()"
   ]
  },
  {
   "cell_type": "code",
   "execution_count": null,
   "metadata": {},
   "outputs": [],
   "source": [
    "Feature Id     LoseTournamentBattle_sum_dsi3\n",
    "Importances                        0.0562695\n",
    "Name: 72, dtype: object\n",
    "Feature Id     StartTournamentBattle_sum_dsi0\n",
    "Importances                         0.0395539\n",
    "Name: 73, dtype: object"
   ]
  },
  {
   "cell_type": "code",
   "execution_count": null,
   "metadata": {},
   "outputs": [],
   "source": [
    "low_imp_features = []\n",
    "for index, row in feature_importances.iterrows():\n",
    "    if row['Importances'] < 1:\n",
    "        low_imp_features.append(row['Feature Id'])\n",
    "\n",
    "print('Number of features with less than 1 percent Importance',' ',len(low_imp_features))\n",
    "low_imp_features"
   ]
  },
  {
   "cell_type": "raw",
   "metadata": {},
   "source": []
  },
  {
   "cell_type": "raw",
   "metadata": {},
   "source": []
  },
  {
   "cell_type": "code",
   "execution_count": null,
   "metadata": {},
   "outputs": [],
   "source": [
    "# Re-train Baseline Model without Low Importance Features"
   ]
  },
  {
   "cell_type": "code",
   "execution_count": null,
   "metadata": {},
   "outputs": [],
   "source": [
    "df_plat.loc[:, df_plat.columns.isnotin(low_imp_features)]"
   ]
  },
  {
   "cell_type": "code",
   "execution_count": null,
   "metadata": {},
   "outputs": [],
   "source": [
    "df_imp_features = df_plat[list(set(df_plat.columns) - set(low_imp_features))].copy()"
   ]
  },
  {
   "cell_type": "code",
   "execution_count": null,
   "metadata": {},
   "outputs": [],
   "source": [
    "df_imp_features.info()"
   ]
  },
  {
   "cell_type": "code",
   "execution_count": null,
   "metadata": {},
   "outputs": [],
   "source": [
    "## Move the target variable to the last\n",
    "label = df_imp_features.pop('Churn')\n",
    "df_imp_features.insert(len(df_imp_features.columns), 'Churn', label)"
   ]
  },
  {
   "cell_type": "code",
   "execution_count": null,
   "metadata": {},
   "outputs": [],
   "source": [
    "df_imp_features.info()"
   ]
  },
  {
   "cell_type": "code",
   "execution_count": null,
   "metadata": {},
   "outputs": [],
   "source": [
    "target = df_imp_features.loc[:,df_imp_features.columns == 'Churn']\n",
    "features = df_imp_features.loc[:, df_imp_features.columns != 'Churn'] "
   ]
  },
  {
   "cell_type": "code",
   "execution_count": null,
   "metadata": {},
   "outputs": [],
   "source": [
    "features,target = shuffle(features, target, random_state=20)"
   ]
  },
  {
   "cell_type": "code",
   "execution_count": null,
   "metadata": {},
   "outputs": [],
   "source": [
    "## list the indices of all the categorical columns\n",
    "cat_columns = list(set(df_imp_features.columns) - set(df_imp_features._get_numeric_data().columns))\n",
    "categorical_features_indices = []\n",
    "for n,i in enumerate(list(features.columns)):\n",
    "    if i in cat_columns:\n",
    "        categorical_features_indices.append(n)\n",
    "categorical_features_indices"
   ]
  },
  {
   "cell_type": "code",
   "execution_count": null,
   "metadata": {},
   "outputs": [],
   "source": [
    "len(target)"
   ]
  },
  {
   "cell_type": "code",
   "execution_count": null,
   "metadata": {},
   "outputs": [],
   "source": [
    "len(features)"
   ]
  },
  {
   "cell_type": "code",
   "execution_count": null,
   "metadata": {},
   "outputs": [],
   "source": [
    "X_train, X_val, y_train, y_val = train_test_split(features,\n",
    "                                                    target,\n",
    "                                                    stratify = target,\n",
    "                                                    test_size=0.30, random_state = 20)"
   ]
  },
  {
   "cell_type": "code",
   "execution_count": null,
   "metadata": {},
   "outputs": [],
   "source": [
    "y_val.value_counts()"
   ]
  },
  {
   "cell_type": "code",
   "execution_count": null,
   "metadata": {},
   "outputs": [],
   "source": [
    "1188718/475082"
   ]
  },
  {
   "cell_type": "code",
   "execution_count": null,
   "metadata": {},
   "outputs": [],
   "source": [
    "y_train.value_counts()"
   ]
  },
  {
   "cell_type": "code",
   "execution_count": null,
   "metadata": {},
   "outputs": [],
   "source": [
    "2773673/1108524"
   ]
  },
  {
   "cell_type": "code",
   "execution_count": null,
   "metadata": {},
   "outputs": [],
   "source": [
    "## calculating the scale_pos_weight; The weight for class 1 in binary classification. \n",
    "## The value is used as a multiplier for the weights of objects from class 1.\n",
    "counts_elements = np.unique(y_train, return_counts=True)\n",
    "scale_weight = counts_elements[1][0]/counts_elements[1][1]\n",
    "scale_weight"
   ]
  },
  {
   "cell_type": "code",
   "execution_count": null,
   "metadata": {},
   "outputs": [],
   "source": []
  },
  {
   "cell_type": "code",
   "execution_count": null,
   "metadata": {},
   "outputs": [],
   "source": [
    "BASELINE MODEL WITH IMPORTANT FEATURES: No imporvement probably dropped too many features\n",
    "\n",
    "train_dataset = Pool(data=X_train,\n",
    "                        label=y_train,\n",
    "                        cat_features=categorical_features_indices)\n",
    "\n",
    "eval_dataset = Pool(data=X_val,\n",
    "                    label=y_val,\n",
    "                    cat_features=categorical_features_indices)\n",
    "\n",
    "model = CatBoostClassifier(iterations= 6000,\n",
    "                           eval_metric='AUC',\n",
    "                           #custom_metric = ['AUC','F1', 'Precision', 'Recall'],\n",
    "                           ## Logloss for imbalanced dataset\n",
    "                           ## CrossEntropy for probabilities in target\n",
    "                           depth = 7,\n",
    "                           learning_rate = 0.2,\n",
    "                           loss_function = 'Logloss',\n",
    "                           boosting_type = 'Plain',\n",
    "                           #class_weights = class_weights,\n",
    "                           scale_pos_weight = scale_weight,\n",
    "                           #model_size_reg = 0, -- this is not implemented for GPU usage in Catboost\n",
    "                           od_type = 'Iter',\n",
    "                           early_stopping_rounds = 300,## rounds to wait if the accuracy does not increases\n",
    "                           random_seed = 1234\n",
    "                           \n",
    "                          )\n",
    "\n",
    "Took 19 minutes due to early stopping rounds as 300\n",
    "best AUC of 71 with best iteration at 1354\n",
    "\n",
    "Best Score\n",
    "\n",
    "{'learn': {'Logloss': 0.6082826892878942},\n",
    " 'validation': {'Logloss': 0.621039080948807, 'AUC': 0.7092822450946674}}"
   ]
  },
  {
   "cell_type": "code",
   "execution_count": null,
   "metadata": {},
   "outputs": [],
   "source": [
    "train_dataset = Pool(data=X_train,\n",
    "                        label=y_train,\n",
    "                        cat_features=categorical_features_indices)\n",
    "\n",
    "eval_dataset = Pool(data=X_val,\n",
    "                    label=y_val,\n",
    "                    cat_features=categorical_features_indices)\n",
    "\n",
    "model = CatBoostClassifier(iterations= 3000,\n",
    "                           eval_metric='AUC',\n",
    "                           #custom_metric = ['AUC','F1', 'Precision', 'Recall'],\n",
    "                           ## Logloss for imbalanced dataset\n",
    "                           ## CrossEntropy for probabilities in target\n",
    "                           depth = 7,\n",
    "                           learning_rate = 0.2,\n",
    "                           loss_function = 'Logloss',\n",
    "                           boosting_type = 'Plain',\n",
    "                           #class_weights = class_weights,\n",
    "                           scale_pos_weight = scale_weight,\n",
    "                           #model_size_reg = 0, -- this is not implemented for GPU usage in Catboost\n",
    "                           od_type = 'Iter',\n",
    "                           early_stopping_rounds = 300,## rounds to wait if the accuracy does not increases\n",
    "                           random_seed = 1234\n",
    "                           \n",
    "                          )\n",
    "\n"
   ]
  },
  {
   "cell_type": "code",
   "execution_count": null,
   "metadata": {},
   "outputs": [],
   "source": [
    "model.fit(train_dataset,\n",
    "          use_best_model=True,\n",
    "          eval_set=eval_dataset,\n",
    "          verbose=False, ## to stop printing info of every Iteration\n",
    "          plot = True\n",
    "         )"
   ]
  },
  {
   "cell_type": "code",
   "execution_count": null,
   "metadata": {},
   "outputs": [],
   "source": [
    "model.get_best_iteration()"
   ]
  },
  {
   "cell_type": "code",
   "execution_count": null,
   "metadata": {},
   "outputs": [],
   "source": [
    "model.get_best_score()"
   ]
  },
  {
   "cell_type": "code",
   "execution_count": null,
   "metadata": {},
   "outputs": [],
   "source": [
    "with open('model_base_imp_feat.pickle', 'wb') as handle:\n",
    "    b = pickle.dump(model,handle)"
   ]
  },
  {
   "cell_type": "code",
   "execution_count": null,
   "metadata": {},
   "outputs": [],
   "source": [
    "with open('model_base_imp_feat.pickle', 'rb') as handle:\n",
    "    model = pickle.load(handle)"
   ]
  },
  {
   "cell_type": "code",
   "execution_count": null,
   "metadata": {},
   "outputs": [],
   "source": [
    "## defining an ROC curve\n",
    "def calculate_score_on_dataset_and_show_graph(X, y, model):\n",
    "    import sklearn.metrics\n",
    "    import matplotlib.pylab as pl\n",
    "    pl.style.use('ggplot')\n",
    "    pl.figure(figsize = (10,7))\n",
    "    dataset = Pool(data=X,\n",
    "                    label=y,\n",
    "                    cat_features=np.where(X.dtypes != np.int64)[0])\n",
    "    #fpr, tpr, __ = cbu.get_roc_curve(model, dataset, plot = True )\n",
    "    fpr, tpr, thresholds = cbu.get_roc_curve(model, dataset, plot=True)\n",
    "    roc_curve_values= cbu.get_roc_curve(model, dataset, plot=False)\n",
    "    auc = sklearn.metrics.auc(fpr, tpr)\n",
    "    print('AUC',' ',auc)\n",
    "    return auc,roc_curve_values"
   ]
  },
  {
   "cell_type": "code",
   "execution_count": null,
   "metadata": {},
   "outputs": [],
   "source": [
    "## Plotting an ROC Curve\n",
    "auc,roc_curve_values = calculate_score_on_dataset_and_show_graph(X_val, y_val, model)"
   ]
  },
  {
   "cell_type": "code",
   "execution_count": null,
   "metadata": {},
   "outputs": [],
   "source": [
    "### CLassification Report\n",
    "from sklearn.metrics import classification_report\n",
    "print ('\\nClasification report:\\n', classification_report(y_val, y_pred))"
   ]
  },
  {
   "cell_type": "code",
   "execution_count": null,
   "metadata": {},
   "outputs": [],
   "source": []
  },
  {
   "cell_type": "code",
   "execution_count": null,
   "metadata": {},
   "outputs": [],
   "source": [
    "## Using type as FeatureImportance: \n",
    "## Equal to PredictionValuesChange for non-ranking metrics and LossFunctionChange for ranking metrics.\n",
    "feature_importances = model.get_feature_importance(data=train_dataset,\n",
    "                       type='FeatureImportance',\n",
    "                       prettified=True,\n",
    "                       thread_count=-1,\n",
    "                       verbose=False)"
   ]
  },
  {
   "cell_type": "code",
   "execution_count": null,
   "metadata": {},
   "outputs": [],
   "source": [
    "## from the below graph we can see almost 30 columns account to 70 percent of the total Importance\n",
    "plt.rcParams[\"figure.figsize\"] = (20,10)\n",
    "ax = feature_importances.plot('Feature Id', 'Importances', kind='bar', color='c')\n",
    "ax.set_title(\"Catboost Feature Importance Ranking\", fontsize = 14)\n",
    "ax.set_xlabel('')\n",
    "\n",
    "rects = ax.patches\n",
    "\n",
    "# get feature score as labels, converting Importancs to integer just to visualize properly round to 2 decimal\n",
    "labels = feature_importances['Importances'].astype('int')\n",
    "\n",
    "for rect, label in zip(rects, labels):\n",
    "    height = rect.get_height()\n",
    "    ax.text(rect.get_x() + rect.get_width()/2, height + 0.35, label, ha='center', va='bottom')\n",
    "\n",
    "plt.show()"
   ]
  },
  {
   "cell_type": "code",
   "execution_count": null,
   "metadata": {},
   "outputs": [],
   "source": [
    "Feature Id     LoseTournamentBattle_sum_dsi3\n",
    "Importances                        0.0562695\n",
    "Name: 72, dtype: object\n",
    "Feature Id     StartTournamentBattle_sum_dsi0\n",
    "Importances                         0.0395539\n",
    "Name: 73, dtype: object"
   ]
  },
  {
   "cell_type": "code",
   "execution_count": null,
   "metadata": {},
   "outputs": [],
   "source": [
    "low_imp_features = []\n",
    "for index, row in feature_importances.iterrows():\n",
    "    if row['Importances'] < 1:\n",
    "        low_imp_features.append(row['Feature Id'])\n",
    "\n",
    "print('Number of features with less than 1 percent Importance',' ',len(low_imp_features))\n",
    "low_imp_features"
   ]
  },
  {
   "cell_type": "raw",
   "metadata": {},
   "source": []
  },
  {
   "cell_type": "code",
   "execution_count": null,
   "metadata": {},
   "outputs": [],
   "source": []
  },
  {
   "cell_type": "code",
   "execution_count": null,
   "metadata": {},
   "outputs": [],
   "source": []
  },
  {
   "cell_type": "code",
   "execution_count": null,
   "metadata": {},
   "outputs": [],
   "source": []
  },
  {
   "cell_type": "markdown",
   "metadata": {},
   "source": [
    "# Feature Selection: After training the baseline model, I will now do the feature selection and see if I can beat the baseline model"
   ]
  },
  {
   "cell_type": "code",
   "execution_count": null,
   "metadata": {},
   "outputs": [],
   "source": []
  },
  {
   "cell_type": "code",
   "execution_count": null,
   "metadata": {},
   "outputs": [],
   "source": []
  },
  {
   "cell_type": "code",
   "execution_count": null,
   "metadata": {},
   "outputs": [],
   "source": [
    "df_plat.head()"
   ]
  },
  {
   "cell_type": "code",
   "execution_count": null,
   "metadata": {},
   "outputs": [],
   "source": [
    "##Calculate the no of Features which has standard deviation as zero. These are the features which are constant. \n",
    "num_df = df_plat.iloc[:,:-1].select_dtypes(exclude=['object']).copy()\n",
    "constant_features = [i for i in num_df.columns if num_df[i].std() == 0]\n",
    "constant_features"
   ]
  },
  {
   "cell_type": "code",
   "execution_count": null,
   "metadata": {},
   "outputs": [],
   "source": [
    "### checking pearson co-eff of correlation between features, note even on passing all the features excluding Label(Churn) \n",
    "### it only calculates the correlation for numerical features\n",
    "fig, ax =plt.subplots(figsize=(15, 10))\n",
    "plt.title(\"Multicollinearity HeatMap\")\n",
    "plt.xticks(rotation=90)\n",
    "corr_data = df_plat.iloc[:,:-1].corr(method='pearson')\n",
    "sns.heatmap(corr_data, mask=np.zeros_like(corr_data), cmap=sns.diverging_palette(220, 10, as_cmap=True),\n",
    "            square=True, ax=ax)"
   ]
  },
  {
   "cell_type": "code",
   "execution_count": null,
   "metadata": {},
   "outputs": [],
   "source": []
  },
  {
   "cell_type": "code",
   "execution_count": null,
   "metadata": {},
   "outputs": [],
   "source": []
  },
  {
   "cell_type": "code",
   "execution_count": null,
   "metadata": {},
   "outputs": [],
   "source": [
    "# Creating correlation matrix\n",
    "cor_matrix = df_plat.iloc[:,:-1].corr().abs()"
   ]
  },
  {
   "cell_type": "code",
   "execution_count": null,
   "metadata": {},
   "outputs": [],
   "source": [
    "# Selecting upper triangle of correlation matrix\n",
    "upper_tri = cor_matrix.where(np.triu(np.ones(cor_matrix.shape),\n",
    "                                  k=1).astype(np.bool))\n",
    "\n",
    "# Finding index of feature columns with correlation greater than 0.95\n",
    "to_drop = [column for column in upper_tri.columns if any(upper_tri[column] > 0.90)]\n",
    "print(); print(to_drop)\n",
    "\n",
    "# Droping Marked Features\n",
    "features_sel = df_plat.drop(to_drop, axis=1).copy()"
   ]
  },
  {
   "cell_type": "code",
   "execution_count": null,
   "metadata": {},
   "outputs": [],
   "source": [
    "features_sel.info()"
   ]
  },
  {
   "cell_type": "code",
   "execution_count": null,
   "metadata": {},
   "outputs": [],
   "source": [
    "done"
   ]
  },
  {
   "cell_type": "code",
   "execution_count": null,
   "metadata": {},
   "outputs": [],
   "source": []
  },
  {
   "cell_type": "raw",
   "metadata": {},
   "source": [
    "## extracting features based on p-value, we will not include the target column as that is what we are trying to predict\n",
    "import statsmodels.formula.api as sm\n",
    "selected_columns = selected_columns[:-1]\n",
    "def backwardElimination(x, Y, sl, columns):\n",
    "    numVars = len(x[0])\n",
    "    for i in range(0, numVars):\n",
    "        regressor_OLS = sm.ols(Y, x).fit()\n",
    "        maxVar = max(regressor_OLS.pvalues).astype(float)\n",
    "        if maxVar > sl:\n",
    "            for j in range(0, numVars - i):\n",
    "                if (regressor_OLS.pvalues[j].astype(float) == maxVar):\n",
    "                    x = np.delete(x, j, 1)\n",
    "                    columns = np.delete(columns, j)\n",
    "                    \n",
    "    regressor_OLS.summary()\n",
    "    return x, columns\n",
    "SL = 0.05\n",
    "data_modeled, selected_columns = backwardElimination(df_sel_features.iloc[:,:-1].values, df_sel_features.iloc[:,-1].values, SL, selected_columns)"
   ]
  },
  {
   "cell_type": "code",
   "execution_count": null,
   "metadata": {},
   "outputs": [],
   "source": []
  },
  {
   "cell_type": "code",
   "execution_count": null,
   "metadata": {},
   "outputs": [],
   "source": []
  },
  {
   "cell_type": "code",
   "execution_count": null,
   "metadata": {},
   "outputs": [],
   "source": []
  },
  {
   "cell_type": "markdown",
   "metadata": {},
   "source": [
    "# Training Model with Features Selection and will use validate model with cross folds this time"
   ]
  },
  {
   "cell_type": "code",
   "execution_count": null,
   "metadata": {},
   "outputs": [],
   "source": []
  },
  {
   "cell_type": "code",
   "execution_count": null,
   "metadata": {},
   "outputs": [],
   "source": []
  },
  {
   "cell_type": "code",
   "execution_count": null,
   "metadata": {},
   "outputs": [],
   "source": []
  },
  {
   "cell_type": "code",
   "execution_count": null,
   "metadata": {},
   "outputs": [],
   "source": [
    "features_sel.info()"
   ]
  },
  {
   "cell_type": "code",
   "execution_count": null,
   "metadata": {},
   "outputs": [],
   "source": [
    "target = features_sel.loc[:,features_sel.columns == 'Churn']\n",
    "features = features_sel.loc[:, features_sel.columns != 'Churn'] "
   ]
  },
  {
   "cell_type": "code",
   "execution_count": null,
   "metadata": {},
   "outputs": [],
   "source": [
    "features,target = shuffle(features, target, random_state=1234)"
   ]
  },
  {
   "cell_type": "code",
   "execution_count": null,
   "metadata": {},
   "outputs": [],
   "source": [
    "## list the indices of all the categorical columns\n",
    "cat_columns = list(set(features_sel.columns) - set(features_sel._get_numeric_data().columns))\n",
    "categorical_features_indices = []\n",
    "for n,i in enumerate(list(features.columns)):\n",
    "    if i in cat_columns:\n",
    "        categorical_features_indices.append(n)\n",
    "categorical_features_indices"
   ]
  },
  {
   "cell_type": "code",
   "execution_count": null,
   "metadata": {},
   "outputs": [],
   "source": [
    "len(target)"
   ]
  },
  {
   "cell_type": "code",
   "execution_count": null,
   "metadata": {},
   "outputs": [],
   "source": [
    "len(features)"
   ]
  },
  {
   "cell_type": "code",
   "execution_count": null,
   "metadata": {},
   "outputs": [],
   "source": [
    "## calculating the scale_pos_weight; The weight for class 1 in binary classification. \n",
    "## The value is used as a multiplier for the weights of objects from class 1.\n",
    "counts_elements = np.unique(target, return_counts=True)\n",
    "scale_weight = counts_elements[1][0]/counts_elements[1][1]\n",
    "scale_weight"
   ]
  },
  {
   "cell_type": "raw",
   "metadata": {},
   "source": [
    "### validate model with 5 folds inplace of simple train-test split\n",
    "### kernel died on trying with 10 folds\n",
    "cv_dataset = Pool(data=features,\n",
    "                  label=target,\n",
    "                  cat_features=categorical_features_indices)\n",
    "\n",
    "params = {\"iterations\": 2000,\n",
    "          \"depth\": 3,\n",
    "          \"eval_metric\":'AUC',\n",
    "          \"loss_function\": \"Logloss\",## creates stratified sampling by default\n",
    "          \"learning_rate\":0.2,\n",
    "          \"scale_pos_weight\":scale_weight,\n",
    "          \"verbose\": False,\n",
    "          \"early_stopping_rounds\" : 200,\n",
    "          \"boosting_type\" : 'Plain',\n",
    "          \"roc_file\": \"roc-file\"}\n",
    "\n",
    "scores = cv(cv_dataset,\n",
    "            params,\n",
    "            fold_count=5, \n",
    "            plot=\"True\")"
   ]
  },
  {
   "cell_type": "code",
   "execution_count": null,
   "metadata": {},
   "outputs": [],
   "source": [
    "X_train, X_val, y_train, y_val = train_test_split(features,\n",
    "                                                    target,\n",
    "                                                    stratify = target,\n",
    "                                                    test_size=0.30, random_state = 42)"
   ]
  },
  {
   "cell_type": "code",
   "execution_count": null,
   "metadata": {},
   "outputs": [],
   "source": []
  },
  {
   "cell_type": "code",
   "execution_count": null,
   "metadata": {},
   "outputs": [],
   "source": []
  },
  {
   "cell_type": "code",
   "execution_count": null,
   "metadata": {},
   "outputs": [],
   "source": []
  },
  {
   "cell_type": "raw",
   "metadata": {},
   "source": [
    "AUC of 71 in 1h and 51 minutes\n",
    "\n",
    "get_best_score()\n",
    "{'learn': {'Logloss': 0.6040452694866675},\n",
    " 'validation': {'Logloss': 0.6198270500816642, 'AUC': 0.7109365493715099}}"
   ]
  },
  {
   "cell_type": "code",
   "execution_count": null,
   "metadata": {},
   "outputs": [],
   "source": [
    "train_dataset = Pool(data=X_train,\n",
    "                        label=y_train,\n",
    "                        cat_features=categorical_features_indices)\n",
    "\n",
    "eval_dataset = Pool(data=X_val,\n",
    "                    label=y_val,\n",
    "                    cat_features=categorical_features_indices)\n",
    "\n",
    "model = CatBoostClassifier(iterations= 6000,\n",
    "                           eval_metric='AUC',\n",
    "                           #custom_metric = ['AUC','F1', 'Precision', 'Recall'],\n",
    "                           ## Logloss for imbalanced dataset\n",
    "                           ## CrossEntropy for probabilities in target\n",
    "                           depth = 7,\n",
    "                           learning_rate = 0.08,\n",
    "                           loss_function = 'Logloss',\n",
    "                           boosting_type = 'Plain',\n",
    "                           #class_weights = class_weights,\n",
    "                           scale_pos_weight = scale_weight,\n",
    "                           #model_size_reg = 0, -- this is not implemented for GPU usage in Catboost,\n",
    "                           early_stopping_rounds = 500,## rounds to wait if the accuracy does not increases\n",
    "                           random_seed = 1234\n",
    "                           \n",
    "                          )\n",
    "\n"
   ]
  },
  {
   "cell_type": "code",
   "execution_count": null,
   "metadata": {},
   "outputs": [],
   "source": [
    "model.fit(train_dataset,\n",
    "          use_best_model=True,\n",
    "          eval_set=eval_dataset,\n",
    "          verbose=False, ## to stop printing info of every Iteration\n",
    "          plot = True\n",
    "         )"
   ]
  },
  {
   "cell_type": "code",
   "execution_count": null,
   "metadata": {},
   "outputs": [],
   "source": [
    "model.get_best_iteration()"
   ]
  },
  {
   "cell_type": "code",
   "execution_count": null,
   "metadata": {},
   "outputs": [],
   "source": [
    "model.get_best_score()"
   ]
  },
  {
   "cell_type": "code",
   "execution_count": null,
   "metadata": {},
   "outputs": [],
   "source": [
    "with open('model_sel_feat.pickle', 'wb') as handle:\n",
    "    b = pickle.dump(model,handle)"
   ]
  },
  {
   "cell_type": "raw",
   "metadata": {},
   "source": [
    "with open('model_sel_feat.pickle', 'rb') as handle:\n",
    "    model = pickle.load(handle)"
   ]
  },
  {
   "cell_type": "code",
   "execution_count": null,
   "metadata": {},
   "outputs": [],
   "source": [
    "## defining an ROC curve\n",
    "def calculate_score_on_dataset_and_show_graph(X, y, model):\n",
    "    import sklearn.metrics\n",
    "    import matplotlib.pylab as pl\n",
    "    pl.style.use('ggplot')\n",
    "    pl.figure(figsize = (10,7))\n",
    "    dataset = Pool(data=X,\n",
    "                    label=y,\n",
    "                    cat_features=np.where(X.dtypes != np.int64)[0])\n",
    "    #fpr, tpr, __ = cbu.get_roc_curve(model, dataset, plot = True )\n",
    "    fpr, tpr, thresholds = cbu.get_roc_curve(model, dataset, plot=True)\n",
    "    roc_curve_values= cbu.get_roc_curve(model, dataset, plot=False)\n",
    "    auc = sklearn.metrics.auc(fpr, tpr)\n",
    "    print('AUC',' ',auc)\n",
    "    return auc,roc_curve_values"
   ]
  },
  {
   "cell_type": "code",
   "execution_count": null,
   "metadata": {},
   "outputs": [],
   "source": [
    "## Plotting an ROC Curve\n",
    "auc,roc_curve_values = calculate_score_on_dataset_and_show_graph(X_val, y_val, model)"
   ]
  },
  {
   "cell_type": "raw",
   "metadata": {},
   "source": [
    "### CLassification Report\n",
    "from sklearn.metrics import classification_report\n",
    "print ('\\nClasification report:\\n', classification_report(y_val, y_pred))"
   ]
  },
  {
   "cell_type": "code",
   "execution_count": null,
   "metadata": {},
   "outputs": [],
   "source": []
  },
  {
   "cell_type": "code",
   "execution_count": null,
   "metadata": {},
   "outputs": [],
   "source": [
    "## Using type as FeatureImportance: \n",
    "## Equal to PredictionValuesChange for non-ranking metrics and LossFunctionChange for ranking metrics.\n",
    "feature_importances = model.get_feature_importance(data=train_dataset,\n",
    "                       type='FeatureImportance',\n",
    "                       prettified=True,\n",
    "                       thread_count=-1,\n",
    "                       verbose=False)"
   ]
  },
  {
   "cell_type": "code",
   "execution_count": null,
   "metadata": {},
   "outputs": [],
   "source": [
    "## from the below graph we can see almost 30 columns account to 70 percent of the total Importance\n",
    "plt.rcParams[\"figure.figsize\"] = (20,10)\n",
    "ax = feature_importances.plot('Feature Id', 'Importances', kind='bar', color='c')\n",
    "ax.set_title(\"Catboost Feature Importance Ranking\", fontsize = 14)\n",
    "ax.set_xlabel('')\n",
    "\n",
    "rects = ax.patches\n",
    "\n",
    "# get feature score as labels, converting Importancs to integer just to visualize properly round to 2 decimal\n",
    "labels = round(feature_importances['Importances'].astype('float64'),1)\n",
    "\n",
    "for rect, label in zip(rects, labels):\n",
    "    height = rect.get_height()\n",
    "    ax.text(rect.get_x() + rect.get_width()/2, height + 0.35, label, ha='center', va='bottom')\n",
    "\n",
    "plt.show()"
   ]
  },
  {
   "cell_type": "code",
   "execution_count": null,
   "metadata": {},
   "outputs": [],
   "source": [
    "low_imp_features = []\n",
    "for index, row in feature_importances.iterrows():\n",
    "    if row['Importances'] <= 0.5:\n",
    "        low_imp_features.append(row['Feature Id'])\n",
    "\n",
    "print('Number of features with less than or equal to half a percent Importance',' ',len(low_imp_features))\n",
    "low_imp_features"
   ]
  },
  {
   "cell_type": "raw",
   "metadata": {},
   "source": [
    "['categorical_3',\n",
    " 'StartGameplayModeBattle_sum_dsi1',\n",
    " 'StartGameplayModeBattle_sum_dsi0',\n",
    " 'categorical_1',\n",
    " 'ChangeArena_sum_dsi1',\n",
    " 'categorical_4',\n",
    " 'OpenPiggyBank_sum_dsi0',\n",
    " 'TutorialStartPart2',\n",
    " 'OpenPiggyBank_sum_dsi1',\n",
    " 'OpenPiggyBank_sum_dsi3',\n",
    " 'OpenPiggyBank_sum_dsi2',\n",
    " 'StartTournamentBattle_sum_dsi3',\n",
    " 'StartTournamentBattle_sum_dsi1',\n",
    " 'StartTournamentBattle_sum_dsi2',\n",
    " 'TutorialStart',\n",
    " 'StartTournamentBattle_sum_dsi0',\n",
    " 'QuitTournament_sum_dsi0']"
   ]
  },
  {
   "cell_type": "code",
   "execution_count": null,
   "metadata": {},
   "outputs": [],
   "source": []
  },
  {
   "cell_type": "code",
   "execution_count": null,
   "metadata": {},
   "outputs": [],
   "source": []
  },
  {
   "cell_type": "code",
   "execution_count": null,
   "metadata": {},
   "outputs": [],
   "source": []
  },
  {
   "cell_type": "markdown",
   "metadata": {},
   "source": [
    "# Training Model with Feature Selection and Important features based on previous run"
   ]
  },
  {
   "cell_type": "code",
   "execution_count": null,
   "metadata": {},
   "outputs": [],
   "source": [
    "## removing 17 unimportant features\n",
    "sel_imp_features = features_sel[list(set(features_sel.columns) - set(low_imp_features))].copy()"
   ]
  },
  {
   "cell_type": "code",
   "execution_count": null,
   "metadata": {},
   "outputs": [],
   "source": [
    "sel_imp_features.info()"
   ]
  },
  {
   "cell_type": "code",
   "execution_count": null,
   "metadata": {},
   "outputs": [],
   "source": [
    "## Move the target variable to the last\n",
    "label = sel_imp_features.pop('Churn')\n",
    "sel_imp_features.insert(len(sel_imp_features.columns), 'Churn', label)"
   ]
  },
  {
   "cell_type": "code",
   "execution_count": null,
   "metadata": {},
   "outputs": [],
   "source": [
    "target = sel_imp_features.loc[:,sel_imp_features.columns == 'Churn']\n",
    "features = sel_imp_features.loc[:, sel_imp_features.columns != 'Churn'] "
   ]
  },
  {
   "cell_type": "code",
   "execution_count": null,
   "metadata": {},
   "outputs": [],
   "source": [
    "features,target = shuffle(features, target, random_state=1234)"
   ]
  },
  {
   "cell_type": "code",
   "execution_count": null,
   "metadata": {},
   "outputs": [],
   "source": [
    "## list the indices of all the categorical columns\n",
    "cat_columns = list(set(sel_imp_features.columns) - set(sel_imp_features._get_numeric_data().columns))\n",
    "categorical_features_indices = []\n",
    "for n,i in enumerate(list(features.columns)):\n",
    "    if i in cat_columns:\n",
    "        categorical_features_indices.append(n)\n",
    "categorical_features_indices"
   ]
  },
  {
   "cell_type": "code",
   "execution_count": null,
   "metadata": {},
   "outputs": [],
   "source": [
    "len(target)"
   ]
  },
  {
   "cell_type": "code",
   "execution_count": null,
   "metadata": {},
   "outputs": [],
   "source": [
    "len(features)"
   ]
  },
  {
   "cell_type": "code",
   "execution_count": null,
   "metadata": {},
   "outputs": [],
   "source": [
    "X_train, X_val, y_train, y_val = train_test_split(features,\n",
    "                                                    target,\n",
    "                                                    stratify = target,\n",
    "                                                    test_size=0.30, random_state = 21)"
   ]
  },
  {
   "cell_type": "code",
   "execution_count": null,
   "metadata": {},
   "outputs": [],
   "source": [
    "y_val.value_counts()"
   ]
  },
  {
   "cell_type": "code",
   "execution_count": null,
   "metadata": {},
   "outputs": [],
   "source": [
    "1188718/475082"
   ]
  },
  {
   "cell_type": "code",
   "execution_count": null,
   "metadata": {},
   "outputs": [],
   "source": [
    "y_train.value_counts()"
   ]
  },
  {
   "cell_type": "code",
   "execution_count": null,
   "metadata": {},
   "outputs": [],
   "source": [
    "2773673/1108524"
   ]
  },
  {
   "cell_type": "code",
   "execution_count": null,
   "metadata": {},
   "outputs": [],
   "source": [
    "## calculating the scale_pos_weight; The weight for class 1 in binary classification. \n",
    "## The value is used as a multiplier for the weights of objects from class 1.\n",
    "counts_elements = np.unique(y_train, return_counts=True)\n",
    "scale_weight = counts_elements[1][0]/counts_elements[1][1]\n",
    "scale_weight"
   ]
  },
  {
   "cell_type": "code",
   "execution_count": null,
   "metadata": {},
   "outputs": [],
   "source": []
  },
  {
   "cell_type": "raw",
   "metadata": {},
   "source": [
    "BASELINE MODEL WITH IMPORTANT FEATURES: No imporvement probably dropped too many features\n",
    "\n",
    "train_dataset = Pool(data=X_train,\n",
    "                        label=y_train,\n",
    "                        cat_features=categorical_features_indices)\n",
    "\n",
    "eval_dataset = Pool(data=X_val,\n",
    "                    label=y_val,\n",
    "                    cat_features=categorical_features_indices)\n",
    "\n",
    "model = CatBoostClassifier(iterations= 6000,\n",
    "                           eval_metric='AUC',\n",
    "                           #custom_metric = ['AUC','F1', 'Precision', 'Recall'],\n",
    "                           ## Logloss for imbalanced dataset\n",
    "                           ## CrossEntropy for probabilities in target\n",
    "                           depth = 7,\n",
    "                           learning_rate = 0.2,\n",
    "                           loss_function = 'Logloss',\n",
    "                           boosting_type = 'Plain',\n",
    "                           #class_weights = class_weights,\n",
    "                           scale_pos_weight = scale_weight,\n",
    "                           #model_size_reg = 0, -- this is not implemented for GPU usage in Catboost\n",
    "                           od_type = 'Iter',\n",
    "                           early_stopping_rounds = 300,## rounds to wait if the accuracy does not increases\n",
    "                           random_seed = 1234\n",
    "                           \n",
    "                          )\n",
    "\n",
    "Took 19 minutes due to early stopping rounds as 300\n",
    "best AUC of 71 with best iteration at 1354\n",
    "\n",
    "Best Score\n",
    "\n",
    "{'learn': {'Logloss': 0.6082826892878942},\n",
    " 'validation': {'Logloss': 0.621039080948807, 'AUC': 0.7092822450946674}}"
   ]
  },
  {
   "cell_type": "code",
   "execution_count": null,
   "metadata": {},
   "outputs": [],
   "source": [
    "train_dataset = Pool(data=X_train,\n",
    "                        label=y_train,\n",
    "                        cat_features=categorical_features_indices)\n",
    "\n",
    "eval_dataset = Pool(data=X_val,\n",
    "                    label=y_val,\n",
    "                    cat_features=categorical_features_indices)\n",
    "\n",
    "model = CatBoostClassifier(iterations= 10000,\n",
    "                           eval_metric='AUC',\n",
    "                           #custom_metric = ['AUC','F1', 'Precision', 'Recall'],\n",
    "                           ## Logloss for imbalanced dataset\n",
    "                           ## CrossEntropy for probabilities in target\n",
    "                           depth = 5,\n",
    "                           learning_rate = 0.05,\n",
    "                           loss_function = 'Logloss',\n",
    "                           boosting_type = 'Plain',\n",
    "                           #class_weights = class_weights,\n",
    "                           scale_pos_weight = scale_weight,\n",
    "                           #model_size_reg = 0, -- this is not implemented for GPU usage in Catboost\n",
    "                           od_type = 'Iter',\n",
    "                           early_stopping_rounds = 500,## rounds to wait if the accuracy does not increases\n",
    "                           random_seed = 1234\n",
    "                           \n",
    "                          )\n",
    "\n"
   ]
  },
  {
   "cell_type": "code",
   "execution_count": null,
   "metadata": {},
   "outputs": [],
   "source": [
    "model.fit(train_dataset,\n",
    "          use_best_model=True,\n",
    "          eval_set=eval_dataset,\n",
    "          verbose=False, ## to stop printing info of every Iteration\n",
    "          plot = True\n",
    "         )"
   ]
  },
  {
   "cell_type": "code",
   "execution_count": null,
   "metadata": {},
   "outputs": [],
   "source": [
    "model.get_best_iteration()"
   ]
  },
  {
   "cell_type": "code",
   "execution_count": null,
   "metadata": {},
   "outputs": [],
   "source": [
    "model.get_best_score()"
   ]
  },
  {
   "cell_type": "code",
   "execution_count": null,
   "metadata": {},
   "outputs": [],
   "source": [
    "with open('model_sel_feat_imp_feat.pickle', 'wb') as handle:\n",
    "    b = pickle.dump(model,handle)"
   ]
  },
  {
   "cell_type": "raw",
   "metadata": {},
   "source": [
    "with open('model_sel_feat_imp_feat.pickle', 'rb') as handle:\n",
    "    model = pickle.load(handle)"
   ]
  },
  {
   "cell_type": "code",
   "execution_count": null,
   "metadata": {},
   "outputs": [],
   "source": [
    "## defining an ROC curve\n",
    "def calculate_score_on_dataset_and_show_graph(X, y, model):\n",
    "    import sklearn.metrics\n",
    "    import matplotlib.pylab as pl\n",
    "    pl.style.use('ggplot')\n",
    "    pl.figure(figsize = (10,7))\n",
    "    dataset = Pool(data=X,\n",
    "                    label=y,\n",
    "                    cat_features=np.where(X.dtypes != np.int64)[0])\n",
    "    #fpr, tpr, __ = cbu.get_roc_curve(model, dataset, plot = True )\n",
    "    fpr, tpr, thresholds = cbu.get_roc_curve(model, dataset, plot=True)\n",
    "    roc_curve_values= cbu.get_roc_curve(model, dataset, plot=False)\n",
    "    auc = sklearn.metrics.auc(fpr, tpr)\n",
    "    print('AUC',' ',auc)\n",
    "    return auc,roc_curve_values"
   ]
  },
  {
   "cell_type": "code",
   "execution_count": null,
   "metadata": {},
   "outputs": [],
   "source": [
    "## Plotting an ROC Curve\n",
    "auc,roc_curve_values = calculate_score_on_dataset_and_show_graph(X_val, y_val, model)"
   ]
  },
  {
   "cell_type": "code",
   "execution_count": null,
   "metadata": {},
   "outputs": [],
   "source": [
    "### CLassification Report\n",
    "from sklearn.metrics import classification_report\n",
    "print ('\\nClasification report:\\n', classification_report(y_val, y_pred))"
   ]
  },
  {
   "cell_type": "code",
   "execution_count": null,
   "metadata": {},
   "outputs": [],
   "source": []
  },
  {
   "cell_type": "code",
   "execution_count": null,
   "metadata": {},
   "outputs": [],
   "source": [
    "## Using type as FeatureImportance: \n",
    "## Equal to PredictionValuesChange for non-ranking metrics and LossFunctionChange for ranking metrics.\n",
    "feature_importances = model.get_feature_importance(data=train_dataset,\n",
    "                       type='FeatureImportance',\n",
    "                       prettified=True,\n",
    "                       thread_count=-1,\n",
    "                       verbose=False)"
   ]
  },
  {
   "cell_type": "code",
   "execution_count": null,
   "metadata": {},
   "outputs": [],
   "source": [
    "## from the below graph we can see almost 30 columns account to 70 percent of the total Importance\n",
    "plt.rcParams[\"figure.figsize\"] = (20,10)\n",
    "ax = feature_importances.plot('Feature Id', 'Importances', kind='bar', color='c')\n",
    "ax.set_title(\"Catboost Feature Importance Ranking\", fontsize = 14)\n",
    "ax.set_xlabel('')\n",
    "\n",
    "rects = ax.patches\n",
    "\n",
    "# get feature score as labels, converting Importancs to integer just to visualize properly round to 2 decimal\n",
    "labels = feature_importances['Importances'].astype('int')\n",
    "\n",
    "for rect, label in zip(rects, labels):\n",
    "    height = rect.get_height()\n",
    "    ax.text(rect.get_x() + rect.get_width()/2, height + 0.35, label, ha='center', va='bottom')\n",
    "\n",
    "plt.show()"
   ]
  },
  {
   "cell_type": "code",
   "execution_count": null,
   "metadata": {},
   "outputs": [],
   "source": [
    "Feature Id     LoseTournamentBattle_sum_dsi3\n",
    "Importances                        0.0562695\n",
    "Name: 72, dtype: object\n",
    "Feature Id     StartTournamentBattle_sum_dsi0\n",
    "Importances                         0.0395539\n",
    "Name: 73, dtype: object"
   ]
  },
  {
   "cell_type": "code",
   "execution_count": null,
   "metadata": {},
   "outputs": [],
   "source": [
    "low_imp_features = []\n",
    "for index, row in feature_importances.iterrows():\n",
    "    if row['Importances'] < 1:\n",
    "        low_imp_features.append(row['Feature Id'])\n",
    "\n",
    "print('Number of features with less than 1 percent Importance',' ',len(low_imp_features))\n",
    "low_imp_features"
   ]
  },
  {
   "cell_type": "code",
   "execution_count": null,
   "metadata": {},
   "outputs": [],
   "source": []
  },
  {
   "cell_type": "code",
   "execution_count": null,
   "metadata": {},
   "outputs": [],
   "source": []
  },
  {
   "cell_type": "code",
   "execution_count": null,
   "metadata": {},
   "outputs": [],
   "source": []
  },
  {
   "cell_type": "markdown",
   "metadata": {},
   "source": [
    "# Make Prediction on test data, exposing the test data first time"
   ]
  },
  {
   "cell_type": "raw",
   "metadata": {},
   "source": [
    "baseline:\n",
    "\n",
    "Took 95 minutes as I did not put correct early stopping rounds\n",
    "best AUC of 71 with best iteration at 1549\n",
    "\n",
    "Best Score\n",
    "{'learn': {'Logloss': 0.5923373534611723},\n",
    " 'validation': {'Logloss': 0.620210294781124, 'AUC': 0.7102109893663907}}\n",
    " \n",
    " \n",
    "baseline with imp features:\n",
    " \n",
    "Took 19 minutes due to early stopping rounds as 300\n",
    "best AUC of 71 with best iteration at 1354\n",
    "\n",
    "Best Score\n",
    "{'learn': {'Logloss': 0.6082826892878942},\n",
    " 'validation': {'Logloss': 0.621039080948807, 'AUC': 0.7092822450946674}}\n",
    " \n",
    " \n",
    "Model with selected feature:\n",
    "\n",
    "AUC of 71 in 1h and 51 minutes\n",
    "\n",
    "get_best_score()\n",
    "{'learn': {'Logloss': 0.6040452694866675},\n",
    " 'validation': {'Logloss': 0.6198270500816642, 'AUC': 0.7109365493715099}}\n",
    " \n",
    " \n",
    "Model with feature selection and Important features:\n",
    "\n",
    "{'learn': {'Logloss': 0.6143608293363605},\n",
    " 'validation': {'Logloss': 0.6203220856191253, 'AUC': 0.7101058231976527}}\n"
   ]
  },
  {
   "cell_type": "markdown",
   "metadata": {},
   "source": [
    "## Looking at above collected results, I will use the model with highest AUC score i.e. Model with Feature Selection, I have already saved the model as model_sel_feat.pickle"
   ]
  },
  {
   "cell_type": "code",
   "execution_count": null,
   "metadata": {},
   "outputs": [],
   "source": []
  },
  {
   "cell_type": "markdown",
   "metadata": {},
   "source": [
    "### Load and Transform Test data"
   ]
  },
  {
   "cell_type": "code",
   "execution_count": null,
   "metadata": {},
   "outputs": [],
   "source": [
    "pd.set_option(\"display.max_columns\", 100)"
   ]
  },
  {
   "cell_type": "code",
   "execution_count": null,
   "metadata": {},
   "outputs": [],
   "source": [
    "##data has 7 million rows so to avoid local memory issue we can load it by chunks\n",
    "df_test = pd.read_csv('wildlife_churn_prediction_test_extended_(1).csv')"
   ]
  },
  {
   "cell_type": "code",
   "execution_count": null,
   "metadata": {},
   "outputs": [],
   "source": [
    "df_test.info()"
   ]
  },
  {
   "cell_type": "code",
   "execution_count": null,
   "metadata": {},
   "outputs": [],
   "source": []
  },
  {
   "cell_type": "code",
   "execution_count": null,
   "metadata": {},
   "outputs": [],
   "source": [
    "##drop the data kind column as it is not required\n",
    "df_test = df_test.drop(['data_kind'],axis = 1)"
   ]
  },
  {
   "cell_type": "code",
   "execution_count": null,
   "metadata": {},
   "outputs": [],
   "source": [
    "## creating profit column for currencies to reduce dimensionality\n",
    "df_test['soft_profit'] = df_test['soft_positive'].sub(df_test['soft_negative'], axis = 0).astype('int64') \n",
    "df_test['hard_profit'] = df_test['hard_positive'].sub(df_test['hard_negative'], axis = 0).astype('int64')"
   ]
  },
  {
   "cell_type": "code",
   "execution_count": null,
   "metadata": {},
   "outputs": [],
   "source": [
    "##drop the column for soft and hard currency as we have calculated profits\n",
    "df_test = df_test.drop(['soft_positive','soft_negative','hard_positive','hard_negative'],axis = 1)"
   ]
  },
  {
   "cell_type": "code",
   "execution_count": null,
   "metadata": {},
   "outputs": [],
   "source": [
    "df_test.columns[df_test.isna().any()].tolist()"
   ]
  },
  {
   "cell_type": "code",
   "execution_count": null,
   "metadata": {},
   "outputs": [],
   "source": [
    "## as the NULL values for country is very less, replacing NULL values with most frequent country value\n",
    "df_test['country'] = df_test['country'].fillna(value=Counter(df_test['country']).most_common(1)[0][0])\n",
    "df_test['device_model'] = df_test['device_model'].fillna(value=Counter(df_test['device_model']).most_common(1)[0][0])"
   ]
  },
  {
   "cell_type": "code",
   "execution_count": null,
   "metadata": {},
   "outputs": [],
   "source": [
    "## converting BOOLEAN to INTEGER for Tutorial columns\n",
    "for i in ['TutorialStart','TutorialStartPart1','TutorialStartPart2','TutorialStartPart3','TutorialStartPart4',\n",
    "                                     'TutorialStartPart5','TutorialStartPart6','TutorialFinish']:\n",
    "    df_test[i] = df_test[i].astype('int64')\n",
    "    "
   ]
  },
  {
   "cell_type": "code",
   "execution_count": null,
   "metadata": {},
   "outputs": [],
   "source": [
    "## One Hot Encoding platform as both platforms should have same weight\n",
    "## We might also encode Android as 89 and ios as 11 based on frequency but that might lead to incorrect wieght information\n",
    "oe_style = OneHotEncoder()\n",
    "oe_results = oe_style.fit_transform(df_test[[\"platform\"]])\n",
    "#pd.DataFrame(oe_results.toarray(), columns=oe_style.categories_).head()"
   ]
  },
  {
   "cell_type": "code",
   "execution_count": null,
   "metadata": {},
   "outputs": [],
   "source": [
    "df_test = pd.concat([pd.DataFrame(oe_results.toarray(), columns=['platform_Android','platform_iOS']).astype('int64'),df_test],  axis=1)"
   ]
  },
  {
   "cell_type": "code",
   "execution_count": null,
   "metadata": {},
   "outputs": [],
   "source": [
    "df_test = df_test.drop('platform',axis = 1)"
   ]
  },
  {
   "cell_type": "code",
   "execution_count": null,
   "metadata": {},
   "outputs": [],
   "source": [
    "## Convert Label to 0 and 1\n",
    "\n",
    "start = time.time()\n",
    "\n",
    "df_test['LABEL_churn'] = df_test['LABEL_churn'].astype('int64')\n",
    "\n",
    "print('time taken to update',' ',time.time()-start)"
   ]
  },
  {
   "cell_type": "code",
   "execution_count": null,
   "metadata": {},
   "outputs": [],
   "source": [
    "df_test['LABEL_churn'].unique()"
   ]
  },
  {
   "cell_type": "code",
   "execution_count": null,
   "metadata": {},
   "outputs": [],
   "source": [
    "sns.set(style=\"darkgrid\")\n",
    "sns.countplot(x='LABEL_churn',  data=df_test)"
   ]
  },
  {
   "cell_type": "code",
   "execution_count": null,
   "metadata": {},
   "outputs": [],
   "source": []
  },
  {
   "cell_type": "code",
   "execution_count": null,
   "metadata": {},
   "outputs": [],
   "source": [
    "test_feature = df_test.loc[:, df_test.columns != 'LABEL_churn'].copy()"
   ]
  },
  {
   "cell_type": "code",
   "execution_count": null,
   "metadata": {},
   "outputs": [],
   "source": [
    "test_feature.head()"
   ]
  },
  {
   "cell_type": "code",
   "execution_count": null,
   "metadata": {},
   "outputs": [],
   "source": [
    "test_target = df_test.loc[:, df_test.columns == 'LABEL_churn'].copy()"
   ]
  },
  {
   "cell_type": "code",
   "execution_count": null,
   "metadata": {},
   "outputs": [],
   "source": [
    "test_target"
   ]
  },
  {
   "cell_type": "code",
   "execution_count": null,
   "metadata": {},
   "outputs": [],
   "source": [
    "test_feature = test_feature[list(features_sel.columns[:-1])]"
   ]
  },
  {
   "cell_type": "code",
   "execution_count": null,
   "metadata": {},
   "outputs": [],
   "source": []
  },
  {
   "cell_type": "code",
   "execution_count": null,
   "metadata": {},
   "outputs": [],
   "source": [
    "test_feature.info()"
   ]
  },
  {
   "cell_type": "code",
   "execution_count": null,
   "metadata": {},
   "outputs": [],
   "source": []
  },
  {
   "cell_type": "code",
   "execution_count": null,
   "metadata": {},
   "outputs": [],
   "source": [
    "## Loading the model\n",
    "with open('model_sel_feat.pickle', 'rb') as handle:\n",
    "    model = pickle.load(handle)"
   ]
  },
  {
   "cell_type": "code",
   "execution_count": null,
   "metadata": {},
   "outputs": [],
   "source": [
    "# Get predicted classes\n",
    "y_pred = model.predict(test_feature)\n",
    "y_pred"
   ]
  },
  {
   "cell_type": "code",
   "execution_count": null,
   "metadata": {},
   "outputs": [],
   "source": []
  },
  {
   "cell_type": "code",
   "execution_count": null,
   "metadata": {},
   "outputs": [],
   "source": [
    "## defining an ROC curve\n",
    "def calculate_score_on_dataset_and_show_graph(X, y, model):\n",
    "    import sklearn.metrics\n",
    "    import matplotlib.pylab as pl\n",
    "    pl.style.use('ggplot')\n",
    "    \n",
    "    dataset = Pool(data=X,\n",
    "                    label=y,\n",
    "                    cat_features=np.where(X.dtypes != np.int64)[0])\n",
    "    #fpr, tpr, __ = cbu.get_roc_curve(model, dataset, plot = True )\n",
    "    fpr, tpr, thresholds = cbu.get_roc_curve(model, dataset, plot=True)\n",
    "    roc_curve_values= cbu.get_roc_curve(model, dataset, plot=False)\n",
    "    auc = sklearn.metrics.auc(fpr, tpr)\n",
    "    print('AUC',' ',auc)\n",
    "    return auc,roc_curve_values"
   ]
  },
  {
   "cell_type": "code",
   "execution_count": null,
   "metadata": {},
   "outputs": [],
   "source": [
    "## Plotting an ROC Curve\n",
    "auc,roc_curve_values = calculate_score_on_dataset_and_show_graph(test_feature, test_target, model)"
   ]
  },
  {
   "cell_type": "code",
   "execution_count": null,
   "metadata": {},
   "outputs": [],
   "source": []
  },
  {
   "cell_type": "code",
   "execution_count": null,
   "metadata": {},
   "outputs": [],
   "source": [
    "from sklearn.metrics import confusion_matrix as cm\n",
    "cm = cm(test_target, y_pred)\n",
    "cm"
   ]
  },
  {
   "cell_type": "code",
   "execution_count": null,
   "metadata": {},
   "outputs": [],
   "source": [
    "import seaborn as sn\n",
    "plt.figure(figsize = (10,7))\n",
    "text = np.asarray([['TrueNegative', 'FalseNegative'],['FalsePositive','TruePositive']])\n",
    "labels = (np.asarray([\"{0}\\n{1:}\".format(text,cm) for text, cm in zip(text.flatten(), cm.flatten())])).reshape(2,2)\n",
    "## just to verify if the plot is right fecthing fp,fn,tp and tn from scikit-learn\n",
    "tn, fp, fn, tp = cm.ravel()\n",
    "print('tn fp fn tp',' ',tn,' ', fp,' ', fn,' ', tp)\n",
    "#sn.heatmap(cm, annot=True)\n",
    "sn.heatmap(cm, annot=labels, fmt = '')"
   ]
  },
  {
   "cell_type": "code",
   "execution_count": null,
   "metadata": {},
   "outputs": [],
   "source": [
    "### CLassification Report\n",
    "from sklearn.metrics import classification_report\n",
    "print ('\\nClasification report:\\n', classification_report(test_target, y_pred))"
   ]
  },
  {
   "cell_type": "code",
   "execution_count": null,
   "metadata": {},
   "outputs": [],
   "source": []
  },
  {
   "cell_type": "code",
   "execution_count": null,
   "metadata": {},
   "outputs": [],
   "source": []
  },
  {
   "cell_type": "code",
   "execution_count": null,
   "metadata": {},
   "outputs": [],
   "source": []
  },
  {
   "cell_type": "code",
   "execution_count": null,
   "metadata": {},
   "outputs": [],
   "source": []
  },
  {
   "cell_type": "markdown",
   "metadata": {},
   "source": [
    "\n",
    "# Final Test Results: ## AUC for Test data is  0.7229\n",
    "\n",
    "\n",
    "### I used the Model3 to make predictions on Test Data as it gave the highest AUC of 0.7109 on Evaluation Set\n",
    "\n",
    "\n",
    "\n",
    "# Models trained and Evaluated\n",
    "\n",
    "## All the trained models have been saved as pickle file\n",
    "\n",
    "### Model1 (catboost_baseline.pickle) is a baseline model using all features after data cleaning\n",
    "\n",
    "Took 95 minutes as I did not put correct early stopping rounds\n",
    "best AUC of 71 with best iteration at 1549\n",
    "\n",
    "Best Score\n",
    "{'learn': {'Logloss': 0.5923373534611723},\n",
    " 'validation': {'Logloss': 0.620210294781124, 'AUC': 0.7102109893663907}}\n",
    " \n",
    "### Model2 (model_base_imp_feat.pickle) is a baseline model using important features derived from model 1\n",
    "\n",
    "baseline with imp features:\n",
    " \n",
    "Took 19 minutes due to early stopping rounds as 300\n",
    "best AUC of 71 with best iteration at 1354\n",
    "\n",
    "Best Score\n",
    "{'learn': {'Logloss': 0.6082826892878942},\n",
    " 'validation': {'Logloss': 0.621039080948807, 'AUC': 0.7092822450946674}}\n",
    " \n",
    "\n",
    "### Model3 (model_sel_feat.pickle) is trained after conducting Feature Selection using correlation matrix\n",
    "\n",
    "Model with selected feature:\n",
    "\n",
    "AUC of 71 in 1h and 51 minutes\n",
    "\n",
    "get_best_score()\n",
    "{'learn': {'Logloss': 0.6040452694866675},\n",
    " 'validation': {'Logloss': 0.6198270500816642, 'AUC': 0.7109365493715099}}\n",
    " \n",
    " \n",
    "### Model4 (model_sel_feat_imp_feat.pickle) is Final Model was trained using Feature Selection and important features derived from Model3\n",
    "\n",
    "Model with feature selection and Important features:\n",
    "\n",
    "{'learn': {'Logloss': 0.6143608293363605},\n",
    " 'validation': {'Logloss': 0.6203220856191253, 'AUC': 0.7101058231976527}}\n",
    " \n"
   ]
  },
  {
   "cell_type": "code",
   "execution_count": null,
   "metadata": {},
   "outputs": [],
   "source": []
  },
  {
   "cell_type": "markdown",
   "metadata": {},
   "source": [
    "# Feature Importance:\n",
    "\n",
    "## From below Graph we can see that \n",
    "\n",
    "#### install_date is the most important column\n",
    "#### PiggyBankModifiedPoints_sum_dsi3 is the second most important column \n",
    "\n",
    "#### As per Catboost Feature Importances caluclation. This is the case for all the models trained"
   ]
  },
  {
   "attachments": {
    "image.png": {
     "image/png": "[encoded data removed]"
    }
   },
   "cell_type": "markdown",
   "metadata": {},
   "source": [
    "![image.png](attachment:image.png)"
   ]
  },
  {
   "cell_type": "code",
   "execution_count": null,
   "metadata": {},
   "outputs": [],
   "source": []
  },
  {
   "cell_type": "markdown",
   "metadata": {},
   "source": [
    "# Challenges\n",
    "\n",
    "## 1) Huge volume of data caused memory issues on local machine.\n",
    "## 2) Configuration challenges while trying to setup EC2 instance with jupyter notebook on AWS.\n",
    "## 3) EC2 machine getting disconnected intermittently due to longer time for Model training beacuse of data volume.\n",
    "## 4) Large Dimensionality of dataset alongwith Categorical variables with Huge cardinality.\n",
    "## 5) Data transformation was compute expensive due to large number of rows.\n",
    "## 6) Could not perform Cross Validation with more than 5 folds because of data volume and time at hand."
   ]
  },
  {
   "cell_type": "code",
   "execution_count": null,
   "metadata": {},
   "outputs": [],
   "source": []
  }
 ],
 "metadata": {
  "kernelspec": {
   "display_name": "Python 3",
   "language": "python",
   "name": "python3"
  },
  "language_info": {
   "codemirror_mode": {
    "name": "ipython",
    "version": 3
   },
   "file_extension": ".py",
   "mimetype": "text/x-python",
   "name": "python",
   "nbconvert_exporter": "python",
   "pygments_lexer": "ipython3",
   "version": "3.7.2"
  }
 },
 "nbformat": 4,
 "nbformat_minor": 2
}
